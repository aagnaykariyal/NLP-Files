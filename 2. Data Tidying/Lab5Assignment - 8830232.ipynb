{
 "cells": [
  {
   "attachments": {},
   "cell_type": "markdown",
   "metadata": {},
   "source": [
    "# 1- Data Tidying:\n",
    "## Submitted By : Aagnay Kariyal\n",
    "## Student ID: 8830232\n",
    "## **Part I**\n",
    "### **Tuberculosis Dataset** \n",
    "This dataset outlines the number of tuberculosis patients in different countries in the year 2000.<br>\n",
    "Dataset name: tb-raw.csv <br>\n",
    "A few notes on the raw data set:<br>\n",
    "\n",
    "- The columns starting with \"m\" or \"f\" contain multiple variables:  \n",
    "    - Sex (\"m\" or \"f\")\n",
    "    - Age Group (\"0-14\",\"15-24\", \"25-34\", \"45-54\", \"55-64\", \"65\", \"unknown\")\n",
    "- Mixture of 0s and missing values(\"NaN\"). This is due to the data collection process and the distinction is important for this dataset.\n"
   ]
  },
  {
   "attachments": {},
   "cell_type": "markdown",
   "metadata": {},
   "source": [
    "#### Task: Apply Data Tidying techniques to get a tidier dataset with more representive columns, please do it step-by-step and explain each step you are doing."
   ]
  },
  {
   "cell_type": "code",
   "execution_count": 16,
   "metadata": {
    "ExecuteTime": {
     "end_time": "2023-10-13T02:46:17.246292Z",
     "start_time": "2023-10-13T02:46:17.179864Z"
    }
   },
   "outputs": [
    {
     "data": {
      "text/plain": "  country  year   m014  m1524   m2534  m3544  m4554  m5564    m65  mu   f014\n0      AD  2000    0.0    0.0     1.0    0.0      0      0    0.0 NaN    NaN\n1      AE  2000    2.0    4.0     4.0    6.0      5     12   10.0 NaN    3.0\n2      AF  2000   52.0  228.0   183.0  149.0    129     94   80.0 NaN   93.0\n3      AG  2000    0.0    0.0     0.0    0.0      0      0    1.0 NaN    1.0\n4      AL  2000    2.0   19.0    21.0   14.0     24     19   16.0 NaN    3.0\n5      AM  2000    2.0  152.0   130.0  131.0     63     26   21.0 NaN    1.0\n6      AN  2000    0.0    0.0     1.0    2.0      0      0    0.0 NaN    0.0\n7      AO  2000  186.0  999.0  1003.0  912.0    482    312  194.0 NaN  247.0\n8      AR  2000   97.0  278.0   594.0  402.0    419    368  330.0 NaN  121.0\n9      AS  2000    NaN    NaN     NaN    NaN      1      1    NaN NaN    NaN",
      "text/html": "<div>\n<style scoped>\n    .dataframe tbody tr th:only-of-type {\n        vertical-align: middle;\n    }\n\n    .dataframe tbody tr th {\n        vertical-align: top;\n    }\n\n    .dataframe thead th {\n        text-align: right;\n    }\n</style>\n<table border=\"1\" class=\"dataframe\">\n  <thead>\n    <tr style=\"text-align: right;\">\n      <th></th>\n      <th>country</th>\n      <th>year</th>\n      <th>m014</th>\n      <th>m1524</th>\n      <th>m2534</th>\n      <th>m3544</th>\n      <th>m4554</th>\n      <th>m5564</th>\n      <th>m65</th>\n      <th>mu</th>\n      <th>f014</th>\n    </tr>\n  </thead>\n  <tbody>\n    <tr>\n      <th>0</th>\n      <td>AD</td>\n      <td>2000</td>\n      <td>0.0</td>\n      <td>0.0</td>\n      <td>1.0</td>\n      <td>0.0</td>\n      <td>0</td>\n      <td>0</td>\n      <td>0.0</td>\n      <td>NaN</td>\n      <td>NaN</td>\n    </tr>\n    <tr>\n      <th>1</th>\n      <td>AE</td>\n      <td>2000</td>\n      <td>2.0</td>\n      <td>4.0</td>\n      <td>4.0</td>\n      <td>6.0</td>\n      <td>5</td>\n      <td>12</td>\n      <td>10.0</td>\n      <td>NaN</td>\n      <td>3.0</td>\n    </tr>\n    <tr>\n      <th>2</th>\n      <td>AF</td>\n      <td>2000</td>\n      <td>52.0</td>\n      <td>228.0</td>\n      <td>183.0</td>\n      <td>149.0</td>\n      <td>129</td>\n      <td>94</td>\n      <td>80.0</td>\n      <td>NaN</td>\n      <td>93.0</td>\n    </tr>\n    <tr>\n      <th>3</th>\n      <td>AG</td>\n      <td>2000</td>\n      <td>0.0</td>\n      <td>0.0</td>\n      <td>0.0</td>\n      <td>0.0</td>\n      <td>0</td>\n      <td>0</td>\n      <td>1.0</td>\n      <td>NaN</td>\n      <td>1.0</td>\n    </tr>\n    <tr>\n      <th>4</th>\n      <td>AL</td>\n      <td>2000</td>\n      <td>2.0</td>\n      <td>19.0</td>\n      <td>21.0</td>\n      <td>14.0</td>\n      <td>24</td>\n      <td>19</td>\n      <td>16.0</td>\n      <td>NaN</td>\n      <td>3.0</td>\n    </tr>\n    <tr>\n      <th>5</th>\n      <td>AM</td>\n      <td>2000</td>\n      <td>2.0</td>\n      <td>152.0</td>\n      <td>130.0</td>\n      <td>131.0</td>\n      <td>63</td>\n      <td>26</td>\n      <td>21.0</td>\n      <td>NaN</td>\n      <td>1.0</td>\n    </tr>\n    <tr>\n      <th>6</th>\n      <td>AN</td>\n      <td>2000</td>\n      <td>0.0</td>\n      <td>0.0</td>\n      <td>1.0</td>\n      <td>2.0</td>\n      <td>0</td>\n      <td>0</td>\n      <td>0.0</td>\n      <td>NaN</td>\n      <td>0.0</td>\n    </tr>\n    <tr>\n      <th>7</th>\n      <td>AO</td>\n      <td>2000</td>\n      <td>186.0</td>\n      <td>999.0</td>\n      <td>1003.0</td>\n      <td>912.0</td>\n      <td>482</td>\n      <td>312</td>\n      <td>194.0</td>\n      <td>NaN</td>\n      <td>247.0</td>\n    </tr>\n    <tr>\n      <th>8</th>\n      <td>AR</td>\n      <td>2000</td>\n      <td>97.0</td>\n      <td>278.0</td>\n      <td>594.0</td>\n      <td>402.0</td>\n      <td>419</td>\n      <td>368</td>\n      <td>330.0</td>\n      <td>NaN</td>\n      <td>121.0</td>\n    </tr>\n    <tr>\n      <th>9</th>\n      <td>AS</td>\n      <td>2000</td>\n      <td>NaN</td>\n      <td>NaN</td>\n      <td>NaN</td>\n      <td>NaN</td>\n      <td>1</td>\n      <td>1</td>\n      <td>NaN</td>\n      <td>NaN</td>\n      <td>NaN</td>\n    </tr>\n  </tbody>\n</table>\n</div>"
     },
     "execution_count": 16,
     "metadata": {},
     "output_type": "execute_result"
    }
   ],
   "source": [
    "# Importing all the dependencies for the entire code\n",
    "import pandas as pd\n",
    "import seaborn as sns\n",
    "import numpy as np\n",
    "import matplotlib.pyplot as plt\n",
    "from scipy import stats\n",
    "\n",
    "# Loading the dataset into a pandas dataframe\n",
    "data_tb = pd.read_csv('/Users/aagnaykariyal/Documents/Github/Conestoga/Machine Learning Programming/CSVs/tb-raw.csv')\n",
    "data_tb # Checking the dataset"
   ]
  },
  {
   "cell_type": "code",
   "execution_count": 2,
   "outputs": [
    {
     "name": "stdout",
     "output_type": "stream",
     "text": [
      "[nan]\n",
      "[2000]\n"
     ]
    },
    {
     "data": {
      "text/plain": "  country   m014  m1524   m2534  m3544  m4554  m5564    m65   f014\n0      AD    0.0    0.0     1.0    0.0      0      0    0.0    NaN\n1      AE    2.0    4.0     4.0    6.0      5     12   10.0    3.0\n2      AF   52.0  228.0   183.0  149.0    129     94   80.0   93.0\n3      AG    0.0    0.0     0.0    0.0      0      0    1.0    1.0\n4      AL    2.0   19.0    21.0   14.0     24     19   16.0    3.0\n5      AM    2.0  152.0   130.0  131.0     63     26   21.0    1.0\n6      AN    0.0    0.0     1.0    2.0      0      0    0.0    0.0\n7      AO  186.0  999.0  1003.0  912.0    482    312  194.0  247.0\n8      AR   97.0  278.0   594.0  402.0    419    368  330.0  121.0",
      "text/html": "<div>\n<style scoped>\n    .dataframe tbody tr th:only-of-type {\n        vertical-align: middle;\n    }\n\n    .dataframe tbody tr th {\n        vertical-align: top;\n    }\n\n    .dataframe thead th {\n        text-align: right;\n    }\n</style>\n<table border=\"1\" class=\"dataframe\">\n  <thead>\n    <tr style=\"text-align: right;\">\n      <th></th>\n      <th>country</th>\n      <th>m014</th>\n      <th>m1524</th>\n      <th>m2534</th>\n      <th>m3544</th>\n      <th>m4554</th>\n      <th>m5564</th>\n      <th>m65</th>\n      <th>f014</th>\n    </tr>\n  </thead>\n  <tbody>\n    <tr>\n      <th>0</th>\n      <td>AD</td>\n      <td>0.0</td>\n      <td>0.0</td>\n      <td>1.0</td>\n      <td>0.0</td>\n      <td>0</td>\n      <td>0</td>\n      <td>0.0</td>\n      <td>NaN</td>\n    </tr>\n    <tr>\n      <th>1</th>\n      <td>AE</td>\n      <td>2.0</td>\n      <td>4.0</td>\n      <td>4.0</td>\n      <td>6.0</td>\n      <td>5</td>\n      <td>12</td>\n      <td>10.0</td>\n      <td>3.0</td>\n    </tr>\n    <tr>\n      <th>2</th>\n      <td>AF</td>\n      <td>52.0</td>\n      <td>228.0</td>\n      <td>183.0</td>\n      <td>149.0</td>\n      <td>129</td>\n      <td>94</td>\n      <td>80.0</td>\n      <td>93.0</td>\n    </tr>\n    <tr>\n      <th>3</th>\n      <td>AG</td>\n      <td>0.0</td>\n      <td>0.0</td>\n      <td>0.0</td>\n      <td>0.0</td>\n      <td>0</td>\n      <td>0</td>\n      <td>1.0</td>\n      <td>1.0</td>\n    </tr>\n    <tr>\n      <th>4</th>\n      <td>AL</td>\n      <td>2.0</td>\n      <td>19.0</td>\n      <td>21.0</td>\n      <td>14.0</td>\n      <td>24</td>\n      <td>19</td>\n      <td>16.0</td>\n      <td>3.0</td>\n    </tr>\n    <tr>\n      <th>5</th>\n      <td>AM</td>\n      <td>2.0</td>\n      <td>152.0</td>\n      <td>130.0</td>\n      <td>131.0</td>\n      <td>63</td>\n      <td>26</td>\n      <td>21.0</td>\n      <td>1.0</td>\n    </tr>\n    <tr>\n      <th>6</th>\n      <td>AN</td>\n      <td>0.0</td>\n      <td>0.0</td>\n      <td>1.0</td>\n      <td>2.0</td>\n      <td>0</td>\n      <td>0</td>\n      <td>0.0</td>\n      <td>0.0</td>\n    </tr>\n    <tr>\n      <th>7</th>\n      <td>AO</td>\n      <td>186.0</td>\n      <td>999.0</td>\n      <td>1003.0</td>\n      <td>912.0</td>\n      <td>482</td>\n      <td>312</td>\n      <td>194.0</td>\n      <td>247.0</td>\n    </tr>\n    <tr>\n      <th>8</th>\n      <td>AR</td>\n      <td>97.0</td>\n      <td>278.0</td>\n      <td>594.0</td>\n      <td>402.0</td>\n      <td>419</td>\n      <td>368</td>\n      <td>330.0</td>\n      <td>121.0</td>\n    </tr>\n  </tbody>\n</table>\n</div>"
     },
     "execution_count": 2,
     "metadata": {},
     "output_type": "execute_result"
    }
   ],
   "source": [
    "print(data_tb['mu'].unique()) # Checking for all the unique values in 'mu' column\n",
    "print(data_tb['year'].unique()) # Checking for all the unique values in 'year' column\n",
    "data_tb = data_tb.drop(['mu','year'], axis='columns') # Since the 'mu' column just consist of null values, and 'year' has just one value, we're dropping those columns\n",
    "data_tb = data_tb.drop(index=9) # Here we drop the final row as well since it mostly consisted of null values and two counts which was very low that wouldn't have affected the dataset as much\n",
    "data_tb # Checking the cleaned dataset"
   ],
   "metadata": {
    "collapsed": false,
    "ExecuteTime": {
     "end_time": "2023-10-13T02:45:25.315771Z",
     "start_time": "2023-10-13T02:45:25.305394Z"
    }
   }
  },
  {
   "cell_type": "code",
   "execution_count": 3,
   "outputs": [
    {
     "name": "stdout",
     "output_type": "stream",
     "text": [
      "country          0\n",
      "Age Range        0\n",
      "Patient Count    1\n",
      "Gender           0\n",
      "dtype: int64\n",
      "   country Age Range  Patient Count  Gender\n",
      "0       AD      0-14              0    Male\n",
      "1       AE      0-14              2    Male\n",
      "2       AF      0-14             52    Male\n",
      "3       AG      0-14              0    Male\n",
      "4       AL      0-14              2    Male\n",
      "..     ...       ...            ...     ...\n",
      "67      AL      0-14              3  Female\n",
      "68      AM      0-14              1  Female\n",
      "69      AN      0-14              0  Female\n",
      "70      AO      0-14            247  Female\n",
      "71      AR      0-14            121  Female\n",
      "\n",
      "[72 rows x 4 columns]\n"
     ]
    }
   ],
   "source": [
    "data_tb_tidy = pd.melt(data_tb, id_vars=['country'], value_name=\"Patient Count\", var_name='Age Range') # Here we are grouping the columns by the column names into a single column called age range and the corresponding values into a different column called Patient Count.\n",
    "data_tb_tidy['Gender'] = data_tb_tidy['Age Range'].astype('str').str[0] # Here we are taking the first letter of the string from the Age Range column to create a new column called gender.\n",
    "data_tb_tidy['Age Range'] = data_tb_tidy['Age Range'].str.extract('(\\d+)', expand=False) # In this line of code we tidy the data by just considering the integer values in the table\n",
    "data_tb_tidy['Gender'] = data_tb_tidy['Gender'].str.replace('m', 'Male') # Converting the string 'm' into 'male' in the Gender column\n",
    "data_tb_tidy['Gender'] = data_tb_tidy['Gender'].str.replace('f', 'Female') # Converting the string 'f' into 'female' in the Gender column\n",
    "data_tb_tidy['Age Range'] = data_tb_tidy['Age Range'].astype('str').str[:-2] + \"-\" + data_tb_tidy['Age Range'].astype('str').str[-2:] # Here we are replacing the datatype into a string so that we can get the final two values to gather the last number in range to add a hyphen in-front as we add the rest of the string to the beginning to get a clean age range\n",
    "data_tb_tidy.replace('-65', '65', inplace=True) # We are tidying up all the values that just consisted of a single age range instead of two since a hyphen was added in-front from the previous line of code\n",
    "print(data_tb_tidy.isnull().sum()) # Here we check for any null values\n",
    "data_tb_tidy.fillna(value=0, inplace=True) # As there is only a single null value we change that value into 0 as it is the most common value according to the country AD\n",
    "data_tb_tidy['Patient Count'] = data_tb_tidy['Patient Count'].astype(int) # Tidy the column by changing the dataset from float into int\n",
    "print(data_tb_tidy) # printing the cleaned dataset"
   ],
   "metadata": {
    "collapsed": false,
    "ExecuteTime": {
     "end_time": "2023-10-13T02:45:25.344957Z",
     "start_time": "2023-10-13T02:45:25.317242Z"
    }
   }
  },
  {
   "attachments": {},
   "cell_type": "markdown",
   "metadata": {},
   "source": [
    "## **Part II**\n",
    "\n",
    "Observe the following dataset: ./CSVs/salesMinimized.csv \n",
    "Please observe columns thoroughly as you need to apply some common-sense to represent the columns correctly.\n",
    "\n",
    "#### Task: Apply Data Tidying techniques to get a tidier dataset with more representive columns, please do it step-by-step and explain each step you are doing.\n"
   ]
  },
  {
   "cell_type": "code",
   "execution_count": 4,
   "metadata": {
    "ExecuteTime": {
     "end_time": "2023-10-13T02:45:25.368885Z",
     "start_time": "2023-10-13T02:45:25.322372Z"
    }
   },
   "outputs": [
    {
     "name": "stdout",
     "output_type": "stream",
     "text": [
      "   Unnamed: 0                             id        item_id    dept_id  \\\n",
      "0           0  HOBBIES_1_001_CA_1_validation  HOBBIES_1_001  HOBBIES_1   \n",
      "1           1  HOBBIES_1_002_CA_1_validation  HOBBIES_1_002  HOBBIES_1   \n",
      "2           2  HOBBIES_1_003_CA_1_validation  HOBBIES_1_003  HOBBIES_1   \n",
      "3           3  HOBBIES_1_004_CA_1_validation  HOBBIES_1_004  HOBBIES_1   \n",
      "4           4  HOBBIES_1_005_CA_1_validation  HOBBIES_1_005  HOBBIES_1   \n",
      "\n",
      "    cat_id store_id state_id  d_1  d_2  d_3  ...  d_61  d_62  d_63  d_64  \\\n",
      "0  HOBBIES     CA_1       CA    0    0    0  ...     0     0     0     0   \n",
      "1  HOBBIES     CA_1       CA    0    0    0  ...     0     0     0     0   \n",
      "2  HOBBIES     CA_1       CA    0    0    0  ...     0     0     0     0   \n",
      "3  HOBBIES     CA_1       CA    0    0    0  ...     1     0     0     0   \n",
      "4  HOBBIES     CA_1       CA    0    0    0  ...     0     0     0     0   \n",
      "\n",
      "   d_65  d_66  d_67  d_68  d_69  d_70  \n",
      "0     0     0     0     0     0     0  \n",
      "1     0     0     0     0     0     0  \n",
      "2     0     0     0     0     0     0  \n",
      "3     0     0     1     0     0     1  \n",
      "4     0     0     0     0     0     0  \n",
      "\n",
      "[5 rows x 77 columns]\n",
      "dept id: \n",
      " ['HOBBIES_1' 'HOBBIES_2' 'HOUSEHOLD_1' 'HOUSEHOLD_2' 'FOODS_1' 'FOODS_2']\n",
      "item id: \n",
      " ['HOBBIES_1_001' 'HOBBIES_1_002' 'HOBBIES_1_003' ... 'FOODS_2_171'\n",
      " 'FOODS_2_172' 'FOODS_2_173']\n",
      "id: \n",
      " ['HOBBIES_1_001_CA_1_validation' 'HOBBIES_1_002_CA_1_validation'\n",
      " 'HOBBIES_1_003_CA_1_validation' ... 'FOODS_2_171_CA_1_validation'\n",
      " 'FOODS_2_172_CA_1_validation' 'FOODS_2_173_CA_1_validation']\n",
      "cat_id: \n",
      " ['HOBBIES' 'HOUSEHOLD' 'FOODS']\n",
      "store_id \n",
      " ['CA_1']\n",
      "state id: \n",
      " ['CA']\n"
     ]
    },
    {
     "data": {
      "text/plain": "' Store id and state id just have one value and id is a combination of values from other columns, and Unnamed: 0 is an index but we already have an index within the dataframe. So we are dropping these 4 columns '"
     },
     "execution_count": 4,
     "metadata": {},
     "output_type": "execute_result"
    }
   ],
   "source": [
    "# Reading the dataset into a dataframe\n",
    "data_sm = pd.read_csv('/Users/aagnaykariyal/Documents/Github/Conestoga/Machine Learning Programming/CSVs/salesMinimized.csv')\n",
    "print(data_sm.head()) # Checking the dataset\n",
    "# Finding the unique values\n",
    "print('dept id: \\n',data_sm['dept_id'].unique())\n",
    "print('item id: \\n',data_sm['item_id'].unique())\n",
    "print('id: \\n',data_sm['id'].unique())\n",
    "print('cat_id: \\n',data_sm['cat_id'].unique())\n",
    "print('store_id \\n',data_sm['store_id'].unique())\n",
    "print('state id: \\n',data_sm['state_id'].unique())\n",
    "# Dropping unnecessary columns\n",
    "data_sm = data_sm.drop(['store_id','state_id','id', 'Unnamed: 0'], axis = 'columns') \n",
    "\"\"\" Store id and state id just have one value and id is a combination of values from other columns, and Unnamed: 0 is an index but we already have an index within the dataframe. So we are dropping these 4 columns \"\"\""
   ]
  },
  {
   "cell_type": "code",
   "execution_count": 5,
   "outputs": [
    {
     "data": {
      "text/plain": "     item_id dept_id   cat_id  d_1  d_2  d_3  d_4  d_5  d_6  d_7  ...  d_61  \\\n0        001       1  HOBBIES    0    0    0    0    0    0    0  ...     0   \n1        002       1  HOBBIES    0    0    0    0    0    0    0  ...     0   \n2        003       1  HOBBIES    0    0    0    0    0    0    0  ...     0   \n3        004       1  HOBBIES    0    0    0    0    0    0    0  ...     1   \n4        005       1  HOBBIES    0    0    0    0    0    0    0  ...     0   \n...      ...     ...      ...  ...  ...  ...  ...  ...  ...  ...  ...   ...   \n1995     169       2    FOODS    0    0    0    0    0    0    0  ...     0   \n1996     170       2    FOODS    0    0    0    0    0    0    0  ...     0   \n1997     171       2    FOODS    4    5    1    3    3    2    0  ...     1   \n1998     172       2    FOODS    0    0    0    0    0    0    0  ...     0   \n1999     173       2    FOODS    1    0    0    0    0    0    0  ...     0   \n\n      d_62  d_63  d_64  d_65  d_66  d_67  d_68  d_69  d_70  \n0        0     0     0     0     0     0     0     0     0  \n1        0     0     0     0     0     0     0     0     0  \n2        0     0     0     0     0     0     0     0     0  \n3        0     0     0     0     0     1     0     0     1  \n4        0     0     0     0     0     0     0     0     0  \n...    ...   ...   ...   ...   ...   ...   ...   ...   ...  \n1995     0     0     0     0     0     0     0     0     0  \n1996     0     0     0     0     0     0     0     0     0  \n1997     0     1     1     0     2     2     1     1     6  \n1998     0     0     0     0     0     0     0     0     0  \n1999     1     0     1     1     0     0     1     0     1  \n\n[2000 rows x 73 columns]",
      "text/html": "<div>\n<style scoped>\n    .dataframe tbody tr th:only-of-type {\n        vertical-align: middle;\n    }\n\n    .dataframe tbody tr th {\n        vertical-align: top;\n    }\n\n    .dataframe thead th {\n        text-align: right;\n    }\n</style>\n<table border=\"1\" class=\"dataframe\">\n  <thead>\n    <tr style=\"text-align: right;\">\n      <th></th>\n      <th>item_id</th>\n      <th>dept_id</th>\n      <th>cat_id</th>\n      <th>d_1</th>\n      <th>d_2</th>\n      <th>d_3</th>\n      <th>d_4</th>\n      <th>d_5</th>\n      <th>d_6</th>\n      <th>d_7</th>\n      <th>...</th>\n      <th>d_61</th>\n      <th>d_62</th>\n      <th>d_63</th>\n      <th>d_64</th>\n      <th>d_65</th>\n      <th>d_66</th>\n      <th>d_67</th>\n      <th>d_68</th>\n      <th>d_69</th>\n      <th>d_70</th>\n    </tr>\n  </thead>\n  <tbody>\n    <tr>\n      <th>0</th>\n      <td>001</td>\n      <td>1</td>\n      <td>HOBBIES</td>\n      <td>0</td>\n      <td>0</td>\n      <td>0</td>\n      <td>0</td>\n      <td>0</td>\n      <td>0</td>\n      <td>0</td>\n      <td>...</td>\n      <td>0</td>\n      <td>0</td>\n      <td>0</td>\n      <td>0</td>\n      <td>0</td>\n      <td>0</td>\n      <td>0</td>\n      <td>0</td>\n      <td>0</td>\n      <td>0</td>\n    </tr>\n    <tr>\n      <th>1</th>\n      <td>002</td>\n      <td>1</td>\n      <td>HOBBIES</td>\n      <td>0</td>\n      <td>0</td>\n      <td>0</td>\n      <td>0</td>\n      <td>0</td>\n      <td>0</td>\n      <td>0</td>\n      <td>...</td>\n      <td>0</td>\n      <td>0</td>\n      <td>0</td>\n      <td>0</td>\n      <td>0</td>\n      <td>0</td>\n      <td>0</td>\n      <td>0</td>\n      <td>0</td>\n      <td>0</td>\n    </tr>\n    <tr>\n      <th>2</th>\n      <td>003</td>\n      <td>1</td>\n      <td>HOBBIES</td>\n      <td>0</td>\n      <td>0</td>\n      <td>0</td>\n      <td>0</td>\n      <td>0</td>\n      <td>0</td>\n      <td>0</td>\n      <td>...</td>\n      <td>0</td>\n      <td>0</td>\n      <td>0</td>\n      <td>0</td>\n      <td>0</td>\n      <td>0</td>\n      <td>0</td>\n      <td>0</td>\n      <td>0</td>\n      <td>0</td>\n    </tr>\n    <tr>\n      <th>3</th>\n      <td>004</td>\n      <td>1</td>\n      <td>HOBBIES</td>\n      <td>0</td>\n      <td>0</td>\n      <td>0</td>\n      <td>0</td>\n      <td>0</td>\n      <td>0</td>\n      <td>0</td>\n      <td>...</td>\n      <td>1</td>\n      <td>0</td>\n      <td>0</td>\n      <td>0</td>\n      <td>0</td>\n      <td>0</td>\n      <td>1</td>\n      <td>0</td>\n      <td>0</td>\n      <td>1</td>\n    </tr>\n    <tr>\n      <th>4</th>\n      <td>005</td>\n      <td>1</td>\n      <td>HOBBIES</td>\n      <td>0</td>\n      <td>0</td>\n      <td>0</td>\n      <td>0</td>\n      <td>0</td>\n      <td>0</td>\n      <td>0</td>\n      <td>...</td>\n      <td>0</td>\n      <td>0</td>\n      <td>0</td>\n      <td>0</td>\n      <td>0</td>\n      <td>0</td>\n      <td>0</td>\n      <td>0</td>\n      <td>0</td>\n      <td>0</td>\n    </tr>\n    <tr>\n      <th>...</th>\n      <td>...</td>\n      <td>...</td>\n      <td>...</td>\n      <td>...</td>\n      <td>...</td>\n      <td>...</td>\n      <td>...</td>\n      <td>...</td>\n      <td>...</td>\n      <td>...</td>\n      <td>...</td>\n      <td>...</td>\n      <td>...</td>\n      <td>...</td>\n      <td>...</td>\n      <td>...</td>\n      <td>...</td>\n      <td>...</td>\n      <td>...</td>\n      <td>...</td>\n      <td>...</td>\n    </tr>\n    <tr>\n      <th>1995</th>\n      <td>169</td>\n      <td>2</td>\n      <td>FOODS</td>\n      <td>0</td>\n      <td>0</td>\n      <td>0</td>\n      <td>0</td>\n      <td>0</td>\n      <td>0</td>\n      <td>0</td>\n      <td>...</td>\n      <td>0</td>\n      <td>0</td>\n      <td>0</td>\n      <td>0</td>\n      <td>0</td>\n      <td>0</td>\n      <td>0</td>\n      <td>0</td>\n      <td>0</td>\n      <td>0</td>\n    </tr>\n    <tr>\n      <th>1996</th>\n      <td>170</td>\n      <td>2</td>\n      <td>FOODS</td>\n      <td>0</td>\n      <td>0</td>\n      <td>0</td>\n      <td>0</td>\n      <td>0</td>\n      <td>0</td>\n      <td>0</td>\n      <td>...</td>\n      <td>0</td>\n      <td>0</td>\n      <td>0</td>\n      <td>0</td>\n      <td>0</td>\n      <td>0</td>\n      <td>0</td>\n      <td>0</td>\n      <td>0</td>\n      <td>0</td>\n    </tr>\n    <tr>\n      <th>1997</th>\n      <td>171</td>\n      <td>2</td>\n      <td>FOODS</td>\n      <td>4</td>\n      <td>5</td>\n      <td>1</td>\n      <td>3</td>\n      <td>3</td>\n      <td>2</td>\n      <td>0</td>\n      <td>...</td>\n      <td>1</td>\n      <td>0</td>\n      <td>1</td>\n      <td>1</td>\n      <td>0</td>\n      <td>2</td>\n      <td>2</td>\n      <td>1</td>\n      <td>1</td>\n      <td>6</td>\n    </tr>\n    <tr>\n      <th>1998</th>\n      <td>172</td>\n      <td>2</td>\n      <td>FOODS</td>\n      <td>0</td>\n      <td>0</td>\n      <td>0</td>\n      <td>0</td>\n      <td>0</td>\n      <td>0</td>\n      <td>0</td>\n      <td>...</td>\n      <td>0</td>\n      <td>0</td>\n      <td>0</td>\n      <td>0</td>\n      <td>0</td>\n      <td>0</td>\n      <td>0</td>\n      <td>0</td>\n      <td>0</td>\n      <td>0</td>\n    </tr>\n    <tr>\n      <th>1999</th>\n      <td>173</td>\n      <td>2</td>\n      <td>FOODS</td>\n      <td>1</td>\n      <td>0</td>\n      <td>0</td>\n      <td>0</td>\n      <td>0</td>\n      <td>0</td>\n      <td>0</td>\n      <td>...</td>\n      <td>0</td>\n      <td>1</td>\n      <td>0</td>\n      <td>1</td>\n      <td>1</td>\n      <td>0</td>\n      <td>0</td>\n      <td>1</td>\n      <td>0</td>\n      <td>1</td>\n    </tr>\n  </tbody>\n</table>\n<p>2000 rows × 73 columns</p>\n</div>"
     },
     "execution_count": 5,
     "metadata": {},
     "output_type": "execute_result"
    }
   ],
   "source": [
    "# Cleaning the columns 'item_id' and 'dept_id' by only taking in the numbers which are unique and identifiable\n",
    "data_sm['item_id'] = data_sm['item_id'].astype('str').str[-3:]\n",
    "data_sm['dept_id'] = data_sm['dept_id'].astype(str).str[-1:]\n",
    "data_sm # Checking the cleaned dataset"
   ],
   "metadata": {
    "collapsed": false,
    "ExecuteTime": {
     "end_time": "2023-10-13T02:45:25.389455Z",
     "start_time": "2023-10-13T02:45:25.336510Z"
    }
   }
  },
  {
   "cell_type": "code",
   "execution_count": 6,
   "outputs": [
    {
     "name": "stdout",
     "output_type": "stream",
     "text": [
      "       item_id dept_id   cat_id Day Number  Sale Count\n",
      "0          001       1  HOBBIES          1           0\n",
      "1          002       1  HOBBIES          1           0\n",
      "2          003       1  HOBBIES          1           0\n",
      "3          004       1  HOBBIES          1           0\n",
      "4          005       1  HOBBIES          1           0\n",
      "...        ...     ...      ...        ...         ...\n",
      "139995     169       2    FOODS         70           0\n",
      "139996     170       2    FOODS         70           0\n",
      "139997     171       2    FOODS         70           6\n",
      "139998     172       2    FOODS         70           0\n",
      "139999     173       2    FOODS         70           1\n",
      "\n",
      "[140000 rows x 5 columns]\n"
     ]
    }
   ],
   "source": [
    "data_sm_tidy = pd.melt(data_sm, id_vars=['item_id', 'dept_id', 'cat_id'], value_name='Sale Count', var_name='Day Number') # Grouping most of the columns by putting the column names into a new column called 'Day Number' while putting in the values into a column named 'Sale Count'\n",
    "data_sm_tidy['Day Number'] = data_sm_tidy['Day Number'].str.extract('(\\d+)', expand = False) # Extracting just the integer value from the cells to get a cleaner version of the column\n",
    "print(data_sm_tidy) # Printing the cleaned dataset"
   ],
   "metadata": {
    "collapsed": false,
    "ExecuteTime": {
     "end_time": "2023-10-13T02:45:25.496717Z",
     "start_time": "2023-10-13T02:45:25.347378Z"
    }
   }
  },
  {
   "cell_type": "code",
   "execution_count": 7,
   "outputs": [
    {
     "name": "stdout",
     "output_type": "stream",
     "text": [
      "item_id       0\n",
      "dept_id       0\n",
      "cat_id        0\n",
      "Day Number    0\n",
      "Sale Count    0\n",
      "dtype: int64\n"
     ]
    }
   ],
   "source": [
    "print(data_sm_tidy.isnull().sum()) # Looking for any null values"
   ],
   "metadata": {
    "collapsed": false,
    "ExecuteTime": {
     "end_time": "2023-10-13T02:45:25.517635Z",
     "start_time": "2023-10-13T02:45:25.404419Z"
    }
   }
  },
  {
   "cell_type": "markdown",
   "metadata": {},
   "source": [
    "## PART III\n",
    "Using Boston House pricing dataset, apply outlier detection techniques discussed in class to detect outliers. Use different techniques and comment your code. <br>\n",
    "You need to check how to load the dataset correctly! <br>\n",
    "1. You should include some Visualization techniques\n",
    "2. You should include some statistical approaches\n",
    "3. You should analyze your attributes using Univariant and multivariant outlier detection techniques.\n",
    "4. Choose one or more of your outlier detection techniques and remove outliers"
   ]
  },
  {
   "cell_type": "markdown",
   "source": [
    "### Importing and Cleaning the dataset"
   ],
   "metadata": {
    "collapsed": false
   }
  },
  {
   "cell_type": "code",
   "execution_count": 29,
   "metadata": {
    "ExecuteTime": {
     "end_time": "2023-10-13T03:06:39.236721Z",
     "start_time": "2023-10-13T03:06:38.913482Z"
    }
   },
   "outputs": [
    {
     "data": {
      "text/plain": "             0      1      2    3      4      5     6       7    8      9   \\\n0       0.00632  18.00   2.31  0.0  0.538  6.575  65.2  4.0900  1.0  296.0   \n1     396.90000   4.98  24.00  NaN    NaN    NaN   NaN     NaN  NaN    NaN   \n2       0.02731   0.00   7.07  0.0  0.469  6.421  78.9  4.9671  2.0  242.0   \n3     396.90000   9.14  21.60  NaN    NaN    NaN   NaN     NaN  NaN    NaN   \n4       0.02729   0.00   7.07  0.0  0.469  7.185  61.1  4.9671  2.0  242.0   \n...         ...    ...    ...  ...    ...    ...   ...     ...  ...    ...   \n1007  396.90000   5.64  23.90  NaN    NaN    NaN   NaN     NaN  NaN    NaN   \n1008    0.10959   0.00  11.93  0.0  0.573  6.794  89.3  2.3889  1.0  273.0   \n1009  393.45000   6.48  22.00  NaN    NaN    NaN   NaN     NaN  NaN    NaN   \n1010    0.04741   0.00  11.93  0.0  0.573  6.030  80.8  2.5050  1.0  273.0   \n1011  396.90000   7.88  11.90  NaN    NaN    NaN   NaN     NaN  NaN    NaN   \n\n        10  \n0     15.3  \n1      NaN  \n2     17.8  \n3      NaN  \n4     17.8  \n...    ...  \n1007   NaN  \n1008  21.0  \n1009   NaN  \n1010  21.0  \n1011   NaN  \n\n[1012 rows x 11 columns]",
      "text/html": "<div>\n<style scoped>\n    .dataframe tbody tr th:only-of-type {\n        vertical-align: middle;\n    }\n\n    .dataframe tbody tr th {\n        vertical-align: top;\n    }\n\n    .dataframe thead th {\n        text-align: right;\n    }\n</style>\n<table border=\"1\" class=\"dataframe\">\n  <thead>\n    <tr style=\"text-align: right;\">\n      <th></th>\n      <th>0</th>\n      <th>1</th>\n      <th>2</th>\n      <th>3</th>\n      <th>4</th>\n      <th>5</th>\n      <th>6</th>\n      <th>7</th>\n      <th>8</th>\n      <th>9</th>\n      <th>10</th>\n    </tr>\n  </thead>\n  <tbody>\n    <tr>\n      <th>0</th>\n      <td>0.00632</td>\n      <td>18.00</td>\n      <td>2.31</td>\n      <td>0.0</td>\n      <td>0.538</td>\n      <td>6.575</td>\n      <td>65.2</td>\n      <td>4.0900</td>\n      <td>1.0</td>\n      <td>296.0</td>\n      <td>15.3</td>\n    </tr>\n    <tr>\n      <th>1</th>\n      <td>396.90000</td>\n      <td>4.98</td>\n      <td>24.00</td>\n      <td>NaN</td>\n      <td>NaN</td>\n      <td>NaN</td>\n      <td>NaN</td>\n      <td>NaN</td>\n      <td>NaN</td>\n      <td>NaN</td>\n      <td>NaN</td>\n    </tr>\n    <tr>\n      <th>2</th>\n      <td>0.02731</td>\n      <td>0.00</td>\n      <td>7.07</td>\n      <td>0.0</td>\n      <td>0.469</td>\n      <td>6.421</td>\n      <td>78.9</td>\n      <td>4.9671</td>\n      <td>2.0</td>\n      <td>242.0</td>\n      <td>17.8</td>\n    </tr>\n    <tr>\n      <th>3</th>\n      <td>396.90000</td>\n      <td>9.14</td>\n      <td>21.60</td>\n      <td>NaN</td>\n      <td>NaN</td>\n      <td>NaN</td>\n      <td>NaN</td>\n      <td>NaN</td>\n      <td>NaN</td>\n      <td>NaN</td>\n      <td>NaN</td>\n    </tr>\n    <tr>\n      <th>4</th>\n      <td>0.02729</td>\n      <td>0.00</td>\n      <td>7.07</td>\n      <td>0.0</td>\n      <td>0.469</td>\n      <td>7.185</td>\n      <td>61.1</td>\n      <td>4.9671</td>\n      <td>2.0</td>\n      <td>242.0</td>\n      <td>17.8</td>\n    </tr>\n    <tr>\n      <th>...</th>\n      <td>...</td>\n      <td>...</td>\n      <td>...</td>\n      <td>...</td>\n      <td>...</td>\n      <td>...</td>\n      <td>...</td>\n      <td>...</td>\n      <td>...</td>\n      <td>...</td>\n      <td>...</td>\n    </tr>\n    <tr>\n      <th>1007</th>\n      <td>396.90000</td>\n      <td>5.64</td>\n      <td>23.90</td>\n      <td>NaN</td>\n      <td>NaN</td>\n      <td>NaN</td>\n      <td>NaN</td>\n      <td>NaN</td>\n      <td>NaN</td>\n      <td>NaN</td>\n      <td>NaN</td>\n    </tr>\n    <tr>\n      <th>1008</th>\n      <td>0.10959</td>\n      <td>0.00</td>\n      <td>11.93</td>\n      <td>0.0</td>\n      <td>0.573</td>\n      <td>6.794</td>\n      <td>89.3</td>\n      <td>2.3889</td>\n      <td>1.0</td>\n      <td>273.0</td>\n      <td>21.0</td>\n    </tr>\n    <tr>\n      <th>1009</th>\n      <td>393.45000</td>\n      <td>6.48</td>\n      <td>22.00</td>\n      <td>NaN</td>\n      <td>NaN</td>\n      <td>NaN</td>\n      <td>NaN</td>\n      <td>NaN</td>\n      <td>NaN</td>\n      <td>NaN</td>\n      <td>NaN</td>\n    </tr>\n    <tr>\n      <th>1010</th>\n      <td>0.04741</td>\n      <td>0.00</td>\n      <td>11.93</td>\n      <td>0.0</td>\n      <td>0.573</td>\n      <td>6.030</td>\n      <td>80.8</td>\n      <td>2.5050</td>\n      <td>1.0</td>\n      <td>273.0</td>\n      <td>21.0</td>\n    </tr>\n    <tr>\n      <th>1011</th>\n      <td>396.90000</td>\n      <td>7.88</td>\n      <td>11.90</td>\n      <td>NaN</td>\n      <td>NaN</td>\n      <td>NaN</td>\n      <td>NaN</td>\n      <td>NaN</td>\n      <td>NaN</td>\n      <td>NaN</td>\n      <td>NaN</td>\n    </tr>\n  </tbody>\n</table>\n<p>1012 rows × 11 columns</p>\n</div>"
     },
     "execution_count": 29,
     "metadata": {},
     "output_type": "execute_result"
    }
   ],
   "source": [
    "# Importing the dataset\n",
    "data_url = \"http://lib.stat.cmu.edu/datasets/boston\"\n",
    "# Loading the dataset into a dataframe\n",
    "data_bh = pd.read_csv(data_url, skiprows = 21, header = None, sep = '\\s+')\n",
    "data_bh # Checking the imported data"
   ]
  },
  {
   "cell_type": "code",
   "execution_count": 30,
   "metadata": {
    "ExecuteTime": {
     "end_time": "2023-10-13T03:06:39.989560Z",
     "start_time": "2023-10-13T03:06:39.985779Z"
    }
   },
   "outputs": [],
   "source": [
    "# Creating 3 lists to append the values from the first three columns corresponding to the null values\n",
    "list_1 = []\n",
    "list_2 = []\n",
    "list_3 = []\n",
    "value_dict = {0:list_1, 1:list_2, 2:list_3} # Creating a dictionary for a for loop to iterate through\n",
    "# for loop to gather the values we need for the final 3 columns\n",
    "for keys in value_dict:\n",
    "    values = value_dict[keys]\n",
    "    condition = data_bh[6].isnull()\n",
    "    values.append(data_bh.loc[condition, keys].reset_index(drop = True))"
   ]
  },
  {
   "cell_type": "code",
   "execution_count": 31,
   "outputs": [
    {
     "data": {
      "text/plain": "        CRIM    ZM  INDUS  CHAS    NOX     RM   AGE     DIS  RAD    TAX  \\\n0    0.00632  18.0   2.31   0.0  0.538  6.575  65.2  4.0900  1.0  296.0   \n1    0.02731   0.0   7.07   0.0  0.469  6.421  78.9  4.9671  2.0  242.0   \n2    0.02729   0.0   7.07   0.0  0.469  7.185  61.1  4.9671  2.0  242.0   \n3    0.03237   0.0   2.18   0.0  0.458  6.998  45.8  6.0622  3.0  222.0   \n4    0.06905   0.0   2.18   0.0  0.458  7.147  54.2  6.0622  3.0  222.0   \n..       ...   ...    ...   ...    ...    ...   ...     ...  ...    ...   \n501  0.06263   0.0  11.93   0.0  0.573  6.593  69.1  2.4786  1.0  273.0   \n502  0.04527   0.0  11.93   0.0  0.573  6.120  76.7  2.2875  1.0  273.0   \n503  0.06076   0.0  11.93   0.0  0.573  6.976  91.0  2.1675  1.0  273.0   \n504  0.10959   0.0  11.93   0.0  0.573  6.794  89.3  2.3889  1.0  273.0   \n505  0.04741   0.0  11.93   0.0  0.573  6.030  80.8  2.5050  1.0  273.0   \n\n     PTRATIO  \n0       15.3  \n1       17.8  \n2       17.8  \n3       18.7  \n4       18.7  \n..       ...  \n501     21.0  \n502     21.0  \n503     21.0  \n504     21.0  \n505     21.0  \n\n[506 rows x 11 columns]",
      "text/html": "<div>\n<style scoped>\n    .dataframe tbody tr th:only-of-type {\n        vertical-align: middle;\n    }\n\n    .dataframe tbody tr th {\n        vertical-align: top;\n    }\n\n    .dataframe thead th {\n        text-align: right;\n    }\n</style>\n<table border=\"1\" class=\"dataframe\">\n  <thead>\n    <tr style=\"text-align: right;\">\n      <th></th>\n      <th>CRIM</th>\n      <th>ZM</th>\n      <th>INDUS</th>\n      <th>CHAS</th>\n      <th>NOX</th>\n      <th>RM</th>\n      <th>AGE</th>\n      <th>DIS</th>\n      <th>RAD</th>\n      <th>TAX</th>\n      <th>PTRATIO</th>\n    </tr>\n  </thead>\n  <tbody>\n    <tr>\n      <th>0</th>\n      <td>0.00632</td>\n      <td>18.0</td>\n      <td>2.31</td>\n      <td>0.0</td>\n      <td>0.538</td>\n      <td>6.575</td>\n      <td>65.2</td>\n      <td>4.0900</td>\n      <td>1.0</td>\n      <td>296.0</td>\n      <td>15.3</td>\n    </tr>\n    <tr>\n      <th>1</th>\n      <td>0.02731</td>\n      <td>0.0</td>\n      <td>7.07</td>\n      <td>0.0</td>\n      <td>0.469</td>\n      <td>6.421</td>\n      <td>78.9</td>\n      <td>4.9671</td>\n      <td>2.0</td>\n      <td>242.0</td>\n      <td>17.8</td>\n    </tr>\n    <tr>\n      <th>2</th>\n      <td>0.02729</td>\n      <td>0.0</td>\n      <td>7.07</td>\n      <td>0.0</td>\n      <td>0.469</td>\n      <td>7.185</td>\n      <td>61.1</td>\n      <td>4.9671</td>\n      <td>2.0</td>\n      <td>242.0</td>\n      <td>17.8</td>\n    </tr>\n    <tr>\n      <th>3</th>\n      <td>0.03237</td>\n      <td>0.0</td>\n      <td>2.18</td>\n      <td>0.0</td>\n      <td>0.458</td>\n      <td>6.998</td>\n      <td>45.8</td>\n      <td>6.0622</td>\n      <td>3.0</td>\n      <td>222.0</td>\n      <td>18.7</td>\n    </tr>\n    <tr>\n      <th>4</th>\n      <td>0.06905</td>\n      <td>0.0</td>\n      <td>2.18</td>\n      <td>0.0</td>\n      <td>0.458</td>\n      <td>7.147</td>\n      <td>54.2</td>\n      <td>6.0622</td>\n      <td>3.0</td>\n      <td>222.0</td>\n      <td>18.7</td>\n    </tr>\n    <tr>\n      <th>...</th>\n      <td>...</td>\n      <td>...</td>\n      <td>...</td>\n      <td>...</td>\n      <td>...</td>\n      <td>...</td>\n      <td>...</td>\n      <td>...</td>\n      <td>...</td>\n      <td>...</td>\n      <td>...</td>\n    </tr>\n    <tr>\n      <th>501</th>\n      <td>0.06263</td>\n      <td>0.0</td>\n      <td>11.93</td>\n      <td>0.0</td>\n      <td>0.573</td>\n      <td>6.593</td>\n      <td>69.1</td>\n      <td>2.4786</td>\n      <td>1.0</td>\n      <td>273.0</td>\n      <td>21.0</td>\n    </tr>\n    <tr>\n      <th>502</th>\n      <td>0.04527</td>\n      <td>0.0</td>\n      <td>11.93</td>\n      <td>0.0</td>\n      <td>0.573</td>\n      <td>6.120</td>\n      <td>76.7</td>\n      <td>2.2875</td>\n      <td>1.0</td>\n      <td>273.0</td>\n      <td>21.0</td>\n    </tr>\n    <tr>\n      <th>503</th>\n      <td>0.06076</td>\n      <td>0.0</td>\n      <td>11.93</td>\n      <td>0.0</td>\n      <td>0.573</td>\n      <td>6.976</td>\n      <td>91.0</td>\n      <td>2.1675</td>\n      <td>1.0</td>\n      <td>273.0</td>\n      <td>21.0</td>\n    </tr>\n    <tr>\n      <th>504</th>\n      <td>0.10959</td>\n      <td>0.0</td>\n      <td>11.93</td>\n      <td>0.0</td>\n      <td>0.573</td>\n      <td>6.794</td>\n      <td>89.3</td>\n      <td>2.3889</td>\n      <td>1.0</td>\n      <td>273.0</td>\n      <td>21.0</td>\n    </tr>\n    <tr>\n      <th>505</th>\n      <td>0.04741</td>\n      <td>0.0</td>\n      <td>11.93</td>\n      <td>0.0</td>\n      <td>0.573</td>\n      <td>6.030</td>\n      <td>80.8</td>\n      <td>2.5050</td>\n      <td>1.0</td>\n      <td>273.0</td>\n      <td>21.0</td>\n    </tr>\n  </tbody>\n</table>\n<p>506 rows × 11 columns</p>\n</div>"
     },
     "execution_count": 31,
     "metadata": {},
     "output_type": "execute_result"
    }
   ],
   "source": [
    "data_bh.columns = ['CRIM', 'ZM', 'INDUS', 'CHAS', 'NOX', 'RM', 'AGE', 'DIS', 'RAD', 'TAX', 'PTRATIO'] # Here we insert the column names for headers\n",
    "data_bh = data_bh.dropna().reset_index(drop = True) # Here we remove all the rows that consists of null values\n",
    "data_bh # Checking for the cleaned dataset"
   ],
   "metadata": {
    "collapsed": false,
    "ExecuteTime": {
     "end_time": "2023-10-13T03:06:42.788255Z",
     "start_time": "2023-10-13T03:06:42.777053Z"
    }
   }
  },
  {
   "cell_type": "code",
   "execution_count": 32,
   "outputs": [
    {
     "data": {
      "text/plain": "        CRIM    ZM  INDUS  CHAS    NOX     RM   AGE     DIS  RAD    TAX  \\\n0    0.00632  18.0   2.31   0.0  0.538  6.575  65.2  4.0900  1.0  296.0   \n1    0.02731   0.0   7.07   0.0  0.469  6.421  78.9  4.9671  2.0  242.0   \n2    0.02729   0.0   7.07   0.0  0.469  7.185  61.1  4.9671  2.0  242.0   \n3    0.03237   0.0   2.18   0.0  0.458  6.998  45.8  6.0622  3.0  222.0   \n4    0.06905   0.0   2.18   0.0  0.458  7.147  54.2  6.0622  3.0  222.0   \n..       ...   ...    ...   ...    ...    ...   ...     ...  ...    ...   \n501  0.06263   0.0  11.93   0.0  0.573  6.593  69.1  2.4786  1.0  273.0   \n502  0.04527   0.0  11.93   0.0  0.573  6.120  76.7  2.2875  1.0  273.0   \n503  0.06076   0.0  11.93   0.0  0.573  6.976  91.0  2.1675  1.0  273.0   \n504  0.10959   0.0  11.93   0.0  0.573  6.794  89.3  2.3889  1.0  273.0   \n505  0.04741   0.0  11.93   0.0  0.573  6.030  80.8  2.5050  1.0  273.0   \n\n     PTRATIO       B  LSTAT  MEDV  \n0       15.3  396.90   4.98  24.0  \n1       17.8  396.90   9.14  21.6  \n2       17.8  392.83   4.03  34.7  \n3       18.7  394.63   2.94  33.4  \n4       18.7  396.90   5.33  36.2  \n..       ...     ...    ...   ...  \n501     21.0  391.99   9.67  22.4  \n502     21.0  396.90   9.08  20.6  \n503     21.0  396.90   5.64  23.9  \n504     21.0  393.45   6.48  22.0  \n505     21.0  396.90   7.88  11.9  \n\n[506 rows x 14 columns]",
      "text/html": "<div>\n<style scoped>\n    .dataframe tbody tr th:only-of-type {\n        vertical-align: middle;\n    }\n\n    .dataframe tbody tr th {\n        vertical-align: top;\n    }\n\n    .dataframe thead th {\n        text-align: right;\n    }\n</style>\n<table border=\"1\" class=\"dataframe\">\n  <thead>\n    <tr style=\"text-align: right;\">\n      <th></th>\n      <th>CRIM</th>\n      <th>ZM</th>\n      <th>INDUS</th>\n      <th>CHAS</th>\n      <th>NOX</th>\n      <th>RM</th>\n      <th>AGE</th>\n      <th>DIS</th>\n      <th>RAD</th>\n      <th>TAX</th>\n      <th>PTRATIO</th>\n      <th>B</th>\n      <th>LSTAT</th>\n      <th>MEDV</th>\n    </tr>\n  </thead>\n  <tbody>\n    <tr>\n      <th>0</th>\n      <td>0.00632</td>\n      <td>18.0</td>\n      <td>2.31</td>\n      <td>0.0</td>\n      <td>0.538</td>\n      <td>6.575</td>\n      <td>65.2</td>\n      <td>4.0900</td>\n      <td>1.0</td>\n      <td>296.0</td>\n      <td>15.3</td>\n      <td>396.90</td>\n      <td>4.98</td>\n      <td>24.0</td>\n    </tr>\n    <tr>\n      <th>1</th>\n      <td>0.02731</td>\n      <td>0.0</td>\n      <td>7.07</td>\n      <td>0.0</td>\n      <td>0.469</td>\n      <td>6.421</td>\n      <td>78.9</td>\n      <td>4.9671</td>\n      <td>2.0</td>\n      <td>242.0</td>\n      <td>17.8</td>\n      <td>396.90</td>\n      <td>9.14</td>\n      <td>21.6</td>\n    </tr>\n    <tr>\n      <th>2</th>\n      <td>0.02729</td>\n      <td>0.0</td>\n      <td>7.07</td>\n      <td>0.0</td>\n      <td>0.469</td>\n      <td>7.185</td>\n      <td>61.1</td>\n      <td>4.9671</td>\n      <td>2.0</td>\n      <td>242.0</td>\n      <td>17.8</td>\n      <td>392.83</td>\n      <td>4.03</td>\n      <td>34.7</td>\n    </tr>\n    <tr>\n      <th>3</th>\n      <td>0.03237</td>\n      <td>0.0</td>\n      <td>2.18</td>\n      <td>0.0</td>\n      <td>0.458</td>\n      <td>6.998</td>\n      <td>45.8</td>\n      <td>6.0622</td>\n      <td>3.0</td>\n      <td>222.0</td>\n      <td>18.7</td>\n      <td>394.63</td>\n      <td>2.94</td>\n      <td>33.4</td>\n    </tr>\n    <tr>\n      <th>4</th>\n      <td>0.06905</td>\n      <td>0.0</td>\n      <td>2.18</td>\n      <td>0.0</td>\n      <td>0.458</td>\n      <td>7.147</td>\n      <td>54.2</td>\n      <td>6.0622</td>\n      <td>3.0</td>\n      <td>222.0</td>\n      <td>18.7</td>\n      <td>396.90</td>\n      <td>5.33</td>\n      <td>36.2</td>\n    </tr>\n    <tr>\n      <th>...</th>\n      <td>...</td>\n      <td>...</td>\n      <td>...</td>\n      <td>...</td>\n      <td>...</td>\n      <td>...</td>\n      <td>...</td>\n      <td>...</td>\n      <td>...</td>\n      <td>...</td>\n      <td>...</td>\n      <td>...</td>\n      <td>...</td>\n      <td>...</td>\n    </tr>\n    <tr>\n      <th>501</th>\n      <td>0.06263</td>\n      <td>0.0</td>\n      <td>11.93</td>\n      <td>0.0</td>\n      <td>0.573</td>\n      <td>6.593</td>\n      <td>69.1</td>\n      <td>2.4786</td>\n      <td>1.0</td>\n      <td>273.0</td>\n      <td>21.0</td>\n      <td>391.99</td>\n      <td>9.67</td>\n      <td>22.4</td>\n    </tr>\n    <tr>\n      <th>502</th>\n      <td>0.04527</td>\n      <td>0.0</td>\n      <td>11.93</td>\n      <td>0.0</td>\n      <td>0.573</td>\n      <td>6.120</td>\n      <td>76.7</td>\n      <td>2.2875</td>\n      <td>1.0</td>\n      <td>273.0</td>\n      <td>21.0</td>\n      <td>396.90</td>\n      <td>9.08</td>\n      <td>20.6</td>\n    </tr>\n    <tr>\n      <th>503</th>\n      <td>0.06076</td>\n      <td>0.0</td>\n      <td>11.93</td>\n      <td>0.0</td>\n      <td>0.573</td>\n      <td>6.976</td>\n      <td>91.0</td>\n      <td>2.1675</td>\n      <td>1.0</td>\n      <td>273.0</td>\n      <td>21.0</td>\n      <td>396.90</td>\n      <td>5.64</td>\n      <td>23.9</td>\n    </tr>\n    <tr>\n      <th>504</th>\n      <td>0.10959</td>\n      <td>0.0</td>\n      <td>11.93</td>\n      <td>0.0</td>\n      <td>0.573</td>\n      <td>6.794</td>\n      <td>89.3</td>\n      <td>2.3889</td>\n      <td>1.0</td>\n      <td>273.0</td>\n      <td>21.0</td>\n      <td>393.45</td>\n      <td>6.48</td>\n      <td>22.0</td>\n    </tr>\n    <tr>\n      <th>505</th>\n      <td>0.04741</td>\n      <td>0.0</td>\n      <td>11.93</td>\n      <td>0.0</td>\n      <td>0.573</td>\n      <td>6.030</td>\n      <td>80.8</td>\n      <td>2.5050</td>\n      <td>1.0</td>\n      <td>273.0</td>\n      <td>21.0</td>\n      <td>396.90</td>\n      <td>7.88</td>\n      <td>11.9</td>\n    </tr>\n  </tbody>\n</table>\n<p>506 rows × 14 columns</p>\n</div>"
     },
     "execution_count": 32,
     "metadata": {},
     "output_type": "execute_result"
    }
   ],
   "source": [
    "# Here we insert back all the values that we have gathered corresponding to the null values from the first three columns\n",
    "data_bh['B'] = list_1[0]\n",
    "data_bh['LSTAT'] = list_2[0]\n",
    "data_bh['MEDV'] = list_3[0]\n",
    "data_bh # Checking the dataset for the inserted values"
   ],
   "metadata": {
    "collapsed": false,
    "ExecuteTime": {
     "end_time": "2023-10-13T03:06:46.740710Z",
     "start_time": "2023-10-13T03:06:46.705895Z"
    }
   }
  },
  {
   "cell_type": "markdown",
   "source": [
    "### Boxplot"
   ],
   "metadata": {
    "collapsed": false
   }
  },
  {
   "cell_type": "code",
   "execution_count": 12,
   "outputs": [
    {
     "data": {
      "text/plain": "<Axes: ylabel='LSTAT'>"
     },
     "execution_count": 12,
     "metadata": {},
     "output_type": "execute_result"
    },
    {
     "data": {
      "text/plain": "<Figure size 640x480 with 1 Axes>",
      "image/png": "[encoded data removed]"
     },
     "metadata": {},
     "output_type": "display_data"
    }
   ],
   "source": [
    "sns.boxplot(data_bh['LSTAT']) # Creating a boxplot to check for outliers in the LSTAT column"
   ],
   "metadata": {
    "collapsed": false,
    "ExecuteTime": {
     "end_time": "2023-10-13T02:45:26.689563Z",
     "start_time": "2023-10-13T02:45:26.337709Z"
    }
   }
  },
  {
   "cell_type": "code",
   "execution_count": 13,
   "outputs": [
    {
     "name": "stdout",
     "output_type": "stream",
     "text": [
      "Upper value: 31.962500000000006, lower value: -8.057500000000005\n",
      "Shape before removing outliers: (506, 14)\n",
      "Shape after removing outliers: (499, 14)\n"
     ]
    }
   ],
   "source": [
    "# Removing outliers using the IQR method\n",
    "Q1 = data_bh['LSTAT'].quantile(0.25) # Getting the 25th percentile or the 1st quartile\n",
    "Q3 = data_bh['LSTAT'].quantile(0.75) # Getting the 75th percentile or the 3rd quartile\n",
    "IQR = Q3 - Q1 # Calculating the Inter-quartile Range\n",
    "\n",
    "upper = Q3+(1.5*IQR) # Upper Bound\n",
    "lower = Q1-(1.5*IQR) # Lowe Bound\n",
    "print(f'Upper value: {upper}, lower value: {lower}') # Printing to see the first and last whisker values of the box-plot\n",
    "upper_values = np.array(data_bh['LSTAT'] >= upper) # Getting all the values that are above the upper bound\n",
    "lower_values = np.array(data_bh['LSTAT'] <= lower) # Getting all the values that are below the lower bound\n",
    "# Creating two arrays that consists of boolean values indicating the outlier rows\n",
    "upper_values = np.where(data_bh['LSTAT'] >= upper)[0]\n",
    "lower_values = np.where(data_bh['LSTAT'] <= lower)[0]\n",
    "\n",
    "print('Shape before removing outliers:', data_bh.shape) # Printing the first shape of the dataframe\n",
    "\n",
    "data_bh_copy = data_bh.copy() # Creating a new dataframe with the same values\n",
    "# Removing the outliers\n",
    "data_bh_copy.drop(index=upper_values, inplace=True)\n",
    "data_bh_copy.drop(index=lower_values, inplace=True)\n",
    "print('Shape after removing outliers:', data_bh_copy.shape) # Printing out the new shape after removing the outliers\n"
   ],
   "metadata": {
    "collapsed": false,
    "ExecuteTime": {
     "end_time": "2023-10-13T02:45:26.689850Z",
     "start_time": "2023-10-13T02:45:26.517929Z"
    }
   }
  },
  {
   "cell_type": "markdown",
   "source": [
    "### Scatter Plot"
   ],
   "metadata": {
    "collapsed": false
   }
  },
  {
   "cell_type": "code",
   "execution_count": 14,
   "outputs": [
    {
     "data": {
      "text/plain": "<Figure size 600x400 with 1 Axes>",
      "image/png": "[encoded data removed]"
     },
     "metadata": {},
     "output_type": "display_data"
    }
   ],
   "source": [
    "# Creating a scatterplot to get an insight into the data \n",
    "fig, ax = plt.subplots(figsize=(6,4))\n",
    "ax.scatter(data_bh['LSTAT'], data_bh['CRIM'])\n",
    "\n",
    "ax.set_xlabel('% of lower status of the population') # Labelling the x-axis\n",
    "ax.set_ylabel('Crime rate per capita') # Labelling the y-axis\n",
    "plt.show()"
   ],
   "metadata": {
    "collapsed": false,
    "ExecuteTime": {
     "end_time": "2023-10-13T02:45:27.057746Z",
     "start_time": "2023-10-13T02:45:26.565940Z"
    }
   }
  },
  {
   "cell_type": "code",
   "execution_count": 24,
   "outputs": [
    {
     "name": "stdout",
     "output_type": "stream",
     "text": [
      "(array([380, 405, 410, 418, 427]),)\n",
      "Shape before deleting the outliers: (506, 14)\n",
      "Shape after deleting the outliers: (501, 14)\n"
     ]
    }
   ],
   "source": [
    "# Getting the positions of the outliers\n",
    "print(np.where((data_bh['LSTAT']<25) & (data_bh['CRIM']>30))) # Printing out the positions of the outliers\n",
    "ind = np.where((data_bh['LSTAT']<25) & (data_bh['CRIM']>30)) # Inserting all those values into an array\n",
    "data_bh_copy2 = data_bh.copy() # Creating a new dataset to remove the outliers\n",
    "data_bh_copy2.drop(index=ind[0], inplace=True) # Removing the outliers\n",
    "print(f'Shape before deleting the outliers: {data_bh.shape}\\nShape after deleting the outliers: {data_bh_copy2.shape}') # Printing out the shapes to see if the outliers have been removed"
   ],
   "metadata": {
    "collapsed": false,
    "ExecuteTime": {
     "end_time": "2023-10-13T02:57:39.669660Z",
     "start_time": "2023-10-13T02:57:39.640027Z"
    }
   }
  },
  {
   "cell_type": "markdown",
   "source": [
    "### Z-Score"
   ],
   "metadata": {
    "collapsed": false
   }
  },
  {
   "cell_type": "code",
   "execution_count": 26,
   "outputs": [
    {
     "name": "stdout",
     "output_type": "stream",
     "text": [
      "(array([ 41,  42,  43,  70,  72,  73,  74, 193, 214, 243, 251, 252, 253,\n",
      "       299]),)\n",
      "Shape before deleting the outliers: (506, 14)\n",
      "Shape after removing the outliers: (492, 14)\n"
     ]
    }
   ],
   "source": [
    "z = np.abs(stats.zscore(data_bh['AGE'])) # Creates a numpy array consisting the z-scores of all values\n",
    "print(np.where(z > 2)) # Prints out an array with the positions of the outlier with the threshold as 2\n",
    "values_to_remove = np.where(z > 2)[0] # Inserting the outliers into an array\n",
    "data_bh_copy3 = data_bh.copy() # Creating a new dataset to remove the outliers\n",
    "data_bh_copy3.drop(index=values_to_remove, inplace=True) # Removing the outliers\n",
    "print(f'Shape before deleting the outliers: {data_bh.shape}\\nShape after removing the outliers: {data_bh_copy3.shape}') # Printing out the shapes to see if the outliers have been removed"
   ],
   "metadata": {
    "collapsed": false,
    "ExecuteTime": {
     "end_time": "2023-10-13T02:59:37.123627Z",
     "start_time": "2023-10-13T02:59:37.090731Z"
    }
   }
  },
  {
   "cell_type": "markdown",
   "source": [
    "### Multivariate outlier detection using box-plots"
   ],
   "metadata": {
    "collapsed": false
   }
  },
  {
   "cell_type": "code",
   "execution_count": 27,
   "outputs": [
    {
     "data": {
      "text/plain": "<Axes: >"
     },
     "execution_count": 27,
     "metadata": {},
     "output_type": "execute_result"
    },
    {
     "data": {
      "text/plain": "<Figure size 640x480 with 1 Axes>",
      "image/png": "[encoded data removed]"
     },
     "metadata": {},
     "output_type": "display_data"
    }
   ],
   "source": [
    "sns.boxplot(data_bh) # Printing out the box-plot to see the outliers across all variables in the dataframe"
   ],
   "metadata": {
    "collapsed": false,
    "ExecuteTime": {
     "end_time": "2023-10-13T03:04:59.785762Z",
     "start_time": "2023-10-13T03:04:59.480109Z"
    }
   }
  },
  {
   "cell_type": "code",
   "execution_count": null,
   "outputs": [],
   "source": [],
   "metadata": {
    "collapsed": false
   }
  }
 ],
 "metadata": {
  "kernelspec": {
   "display_name": "Python 3",
   "language": "python",
   "name": "python3"
  },
  "language_info": {
   "codemirror_mode": {
    "name": "ipython",
    "version": 3
   },
   "file_extension": ".py",
   "mimetype": "text/x-python",
   "name": "python",
   "nbconvert_exporter": "python",
   "pygments_lexer": "ipython3",
   "version": "3.7.7"
  },
  "orig_nbformat": 4
 },
 "nbformat": 4,
 "nbformat_minor": 2
}
