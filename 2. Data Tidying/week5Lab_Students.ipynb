{
 "cells": [
  {
   "attachments": {},
   "cell_type": "markdown",
   "metadata": {},
   "source": [
    "# **Tidying**"
   ]
  },
  {
   "attachments": {},
   "cell_type": "markdown",
   "metadata": {},
   "source": [
    "Part of the data engineering process is data cleaning and tidying. What is done in those two processes, is trying to make the data more readable, and complete. This makes much easier to analyze, visualize, and train the data.\n"
   ]
  },
  {
   "attachments": {},
   "cell_type": "markdown",
   "metadata": {},
   "source": [
    "## **Data Tidying**\n",
    "\n",
    "Making the data more organized, and readable is the result of applying data tidying. \n",
    "\n",
    "In this section two main pandas functions are used in data tidying those are `melt` and `pivot_table`."
   ]
  },
  {
   "attachments": {},
   "cell_type": "markdown",
   "metadata": {},
   "source": [
    "Let's start by taking a look at the below dataframe, which represents the income ranges based on religion. This is part of the PEW research, which is famous in the US for conducting pollings and surveys on citizens.\n",
    "\n",
    "When the following are satisfied:\n",
    "\n",
    "\n",
    "1. Each variable forms a column\n",
    "2. Each observation forms a row\n",
    "3. Each type of observational unit forms a table\n",
    "\n",
    "We can then say that our dataset is *tidy*.\n",
    "\n",
    "First we need to import pandas to read csv datasets."
   ]
  },
  {
   "cell_type": "code",
   "execution_count": 1,
   "metadata": {
    "ExecuteTime": {
     "end_time": "2023-12-30T07:32:30.725019Z",
     "start_time": "2023-12-30T07:32:30.626903Z"
    }
   },
   "outputs": [
    {
     "ename": "ModuleNotFoundError",
     "evalue": "No module named 'pandas'",
     "output_type": "error",
     "traceback": [
      "\u001B[0;31m---------------------------------------------------------------------------\u001B[0m",
      "\u001B[0;31mModuleNotFoundError\u001B[0m                       Traceback (most recent call last)",
      "Cell \u001B[0;32mIn[1], line 1\u001B[0m\n\u001B[0;32m----> 1\u001B[0m \u001B[38;5;28;01mimport\u001B[39;00m \u001B[38;5;21;01mpandas\u001B[39;00m \u001B[38;5;28;01mas\u001B[39;00m \u001B[38;5;21;01mpd\u001B[39;00m\n\u001B[1;32m      2\u001B[0m \u001B[38;5;28;01mimport\u001B[39;00m \u001B[38;5;21;01mnumpy\u001B[39;00m \u001B[38;5;28;01mas\u001B[39;00m \u001B[38;5;21;01mnp\u001B[39;00m\n",
      "\u001B[0;31mModuleNotFoundError\u001B[0m: No module named 'pandas'"
     ]
    }
   ],
   "source": [
    "import pandas as pd\n",
    "import numpy as np\n"
   ]
  },
  {
   "attachments": {},
   "cell_type": "markdown",
   "metadata": {},
   "source": [
    "### **PEW Research Dataset**"
   ]
  },
  {
   "attachments": {},
   "cell_type": "markdown",
   "metadata": {},
   "source": [
    "1. Start by Importing the dataset into a pandas dataframe."
   ]
  },
  {
   "cell_type": "code",
   "execution_count": 11,
   "outputs": [
    {
     "data": {
      "text/plain": "                   religion   <$10k   $10-20k  $20-30k  $30-40k   $40-50k  \\\n0                  Agnostic      27        34       60       81        76   \n1                   Atheist      12        27       37       52        35   \n2                  Buddhist      27        21       30       34        33   \n3                  Catholic     418       617      732      670       638   \n4         Dont know/refused      15        14       15       11        10   \n5         Evangelical Prot      575       869     1064      982       881   \n6                    Hindu        1         9        7        9        11   \n7  Historically Black Prot      228       244      236      238       197   \n8         Jehovahs Witness       20        27       24       24        21   \n9                   Jewish       19        19       25       25        30   \n\n   $50-75k  \n0      137  \n1       70  \n2       58  \n3     1116  \n4       35  \n5     1486  \n6       34  \n7      223  \n8       30  \n9       95  ",
      "text/html": "<div>\n<style scoped>\n    .dataframe tbody tr th:only-of-type {\n        vertical-align: middle;\n    }\n\n    .dataframe tbody tr th {\n        vertical-align: top;\n    }\n\n    .dataframe thead th {\n        text-align: right;\n    }\n</style>\n<table border=\"1\" class=\"dataframe\">\n  <thead>\n    <tr style=\"text-align: right;\">\n      <th></th>\n      <th>religion</th>\n      <th>&lt;$10k</th>\n      <th>$10-20k</th>\n      <th>$20-30k</th>\n      <th>$30-40k</th>\n      <th>$40-50k</th>\n      <th>$50-75k</th>\n    </tr>\n  </thead>\n  <tbody>\n    <tr>\n      <th>0</th>\n      <td>Agnostic</td>\n      <td>27</td>\n      <td>34</td>\n      <td>60</td>\n      <td>81</td>\n      <td>76</td>\n      <td>137</td>\n    </tr>\n    <tr>\n      <th>1</th>\n      <td>Atheist</td>\n      <td>12</td>\n      <td>27</td>\n      <td>37</td>\n      <td>52</td>\n      <td>35</td>\n      <td>70</td>\n    </tr>\n    <tr>\n      <th>2</th>\n      <td>Buddhist</td>\n      <td>27</td>\n      <td>21</td>\n      <td>30</td>\n      <td>34</td>\n      <td>33</td>\n      <td>58</td>\n    </tr>\n    <tr>\n      <th>3</th>\n      <td>Catholic</td>\n      <td>418</td>\n      <td>617</td>\n      <td>732</td>\n      <td>670</td>\n      <td>638</td>\n      <td>1116</td>\n    </tr>\n    <tr>\n      <th>4</th>\n      <td>Dont know/refused</td>\n      <td>15</td>\n      <td>14</td>\n      <td>15</td>\n      <td>11</td>\n      <td>10</td>\n      <td>35</td>\n    </tr>\n    <tr>\n      <th>5</th>\n      <td>Evangelical Prot</td>\n      <td>575</td>\n      <td>869</td>\n      <td>1064</td>\n      <td>982</td>\n      <td>881</td>\n      <td>1486</td>\n    </tr>\n    <tr>\n      <th>6</th>\n      <td>Hindu</td>\n      <td>1</td>\n      <td>9</td>\n      <td>7</td>\n      <td>9</td>\n      <td>11</td>\n      <td>34</td>\n    </tr>\n    <tr>\n      <th>7</th>\n      <td>Historically Black Prot</td>\n      <td>228</td>\n      <td>244</td>\n      <td>236</td>\n      <td>238</td>\n      <td>197</td>\n      <td>223</td>\n    </tr>\n    <tr>\n      <th>8</th>\n      <td>Jehovahs Witness</td>\n      <td>20</td>\n      <td>27</td>\n      <td>24</td>\n      <td>24</td>\n      <td>21</td>\n      <td>30</td>\n    </tr>\n    <tr>\n      <th>9</th>\n      <td>Jewish</td>\n      <td>19</td>\n      <td>19</td>\n      <td>25</td>\n      <td>25</td>\n      <td>30</td>\n      <td>95</td>\n    </tr>\n  </tbody>\n</table>\n</div>"
     },
     "execution_count": 11,
     "metadata": {},
     "output_type": "execute_result"
    }
   ],
   "source": [
    "pew_data = pd.read_csv('./CSVs/pew-raw.csv')\n",
    "pew_data"
   ],
   "metadata": {
    "collapsed": false,
    "ExecuteTime": {
     "end_time": "2023-10-06T16:18:49.706071Z",
     "start_time": "2023-10-06T16:18:49.691725Z"
    }
   }
  },
  {
   "attachments": {},
   "cell_type": "markdown",
   "metadata": {},
   "source": [
    "2. Observe the dataset using the `loc`, `iloc`, `head`, or `tail` approaches"
   ]
  },
  {
   "attachments": {},
   "cell_type": "markdown",
   "metadata": {},
   "source": [
    "***What does not seem right in the above dataframe?***"
   ]
  },
  {
   "attachments": {},
   "cell_type": "markdown",
   "metadata": {},
   "source": [
    "3. Try to make the column headers represent a variable not a value. For that, use the `melt` function."
   ]
  },
  {
   "cell_type": "code",
   "execution_count": 13,
   "outputs": [
    {
     "data": {
      "text/plain": "                    religion Income_range  Citizen_count\n0                   Agnostic        <$10k             27\n1                    Atheist        <$10k             12\n2                   Buddhist        <$10k             27\n3                   Catholic        <$10k            418\n4          Dont know/refused        <$10k             15\n5          Evangelical Prot         <$10k            575\n6                     Hindu         <$10k              1\n7   Historically Black Prot         <$10k            228\n8          Jehovahs Witness         <$10k             20\n9                    Jewish         <$10k             19\n10                  Agnostic      $10-20k             34\n11                   Atheist      $10-20k             27\n12                  Buddhist      $10-20k             21\n13                  Catholic      $10-20k            617\n14         Dont know/refused      $10-20k             14\n15         Evangelical Prot       $10-20k            869\n16                    Hindu       $10-20k              9\n17  Historically Black Prot       $10-20k            244\n18         Jehovahs Witness       $10-20k             27\n19                   Jewish       $10-20k             19\n20                  Agnostic      $20-30k             60\n21                   Atheist      $20-30k             37\n22                  Buddhist      $20-30k             30\n23                  Catholic      $20-30k            732\n24         Dont know/refused      $20-30k             15\n25         Evangelical Prot       $20-30k           1064\n26                    Hindu       $20-30k              7\n27  Historically Black Prot       $20-30k            236\n28         Jehovahs Witness       $20-30k             24\n29                   Jewish       $20-30k             25\n30                  Agnostic      $30-40k             81\n31                   Atheist      $30-40k             52\n32                  Buddhist      $30-40k             34\n33                  Catholic      $30-40k            670\n34         Dont know/refused      $30-40k             11\n35         Evangelical Prot       $30-40k            982\n36                    Hindu       $30-40k              9\n37  Historically Black Prot       $30-40k            238\n38         Jehovahs Witness       $30-40k             24\n39                   Jewish       $30-40k             25\n40                  Agnostic      $40-50k             76\n41                   Atheist      $40-50k             35\n42                  Buddhist      $40-50k             33\n43                  Catholic      $40-50k            638\n44         Dont know/refused      $40-50k             10\n45         Evangelical Prot       $40-50k            881\n46                    Hindu       $40-50k             11\n47  Historically Black Prot       $40-50k            197\n48         Jehovahs Witness       $40-50k             21\n49                   Jewish       $40-50k             30\n50                  Agnostic      $50-75k            137\n51                   Atheist      $50-75k             70\n52                  Buddhist      $50-75k             58\n53                  Catholic      $50-75k           1116\n54         Dont know/refused      $50-75k             35\n55         Evangelical Prot       $50-75k           1486\n56                    Hindu       $50-75k             34\n57  Historically Black Prot       $50-75k            223\n58         Jehovahs Witness       $50-75k             30\n59                   Jewish       $50-75k             95",
      "text/html": "<div>\n<style scoped>\n    .dataframe tbody tr th:only-of-type {\n        vertical-align: middle;\n    }\n\n    .dataframe tbody tr th {\n        vertical-align: top;\n    }\n\n    .dataframe thead th {\n        text-align: right;\n    }\n</style>\n<table border=\"1\" class=\"dataframe\">\n  <thead>\n    <tr style=\"text-align: right;\">\n      <th></th>\n      <th>religion</th>\n      <th>Income_range</th>\n      <th>Citizen_count</th>\n    </tr>\n  </thead>\n  <tbody>\n    <tr>\n      <th>0</th>\n      <td>Agnostic</td>\n      <td>&lt;$10k</td>\n      <td>27</td>\n    </tr>\n    <tr>\n      <th>1</th>\n      <td>Atheist</td>\n      <td>&lt;$10k</td>\n      <td>12</td>\n    </tr>\n    <tr>\n      <th>2</th>\n      <td>Buddhist</td>\n      <td>&lt;$10k</td>\n      <td>27</td>\n    </tr>\n    <tr>\n      <th>3</th>\n      <td>Catholic</td>\n      <td>&lt;$10k</td>\n      <td>418</td>\n    </tr>\n    <tr>\n      <th>4</th>\n      <td>Dont know/refused</td>\n      <td>&lt;$10k</td>\n      <td>15</td>\n    </tr>\n    <tr>\n      <th>5</th>\n      <td>Evangelical Prot</td>\n      <td>&lt;$10k</td>\n      <td>575</td>\n    </tr>\n    <tr>\n      <th>6</th>\n      <td>Hindu</td>\n      <td>&lt;$10k</td>\n      <td>1</td>\n    </tr>\n    <tr>\n      <th>7</th>\n      <td>Historically Black Prot</td>\n      <td>&lt;$10k</td>\n      <td>228</td>\n    </tr>\n    <tr>\n      <th>8</th>\n      <td>Jehovahs Witness</td>\n      <td>&lt;$10k</td>\n      <td>20</td>\n    </tr>\n    <tr>\n      <th>9</th>\n      <td>Jewish</td>\n      <td>&lt;$10k</td>\n      <td>19</td>\n    </tr>\n    <tr>\n      <th>10</th>\n      <td>Agnostic</td>\n      <td>$10-20k</td>\n      <td>34</td>\n    </tr>\n    <tr>\n      <th>11</th>\n      <td>Atheist</td>\n      <td>$10-20k</td>\n      <td>27</td>\n    </tr>\n    <tr>\n      <th>12</th>\n      <td>Buddhist</td>\n      <td>$10-20k</td>\n      <td>21</td>\n    </tr>\n    <tr>\n      <th>13</th>\n      <td>Catholic</td>\n      <td>$10-20k</td>\n      <td>617</td>\n    </tr>\n    <tr>\n      <th>14</th>\n      <td>Dont know/refused</td>\n      <td>$10-20k</td>\n      <td>14</td>\n    </tr>\n    <tr>\n      <th>15</th>\n      <td>Evangelical Prot</td>\n      <td>$10-20k</td>\n      <td>869</td>\n    </tr>\n    <tr>\n      <th>16</th>\n      <td>Hindu</td>\n      <td>$10-20k</td>\n      <td>9</td>\n    </tr>\n    <tr>\n      <th>17</th>\n      <td>Historically Black Prot</td>\n      <td>$10-20k</td>\n      <td>244</td>\n    </tr>\n    <tr>\n      <th>18</th>\n      <td>Jehovahs Witness</td>\n      <td>$10-20k</td>\n      <td>27</td>\n    </tr>\n    <tr>\n      <th>19</th>\n      <td>Jewish</td>\n      <td>$10-20k</td>\n      <td>19</td>\n    </tr>\n    <tr>\n      <th>20</th>\n      <td>Agnostic</td>\n      <td>$20-30k</td>\n      <td>60</td>\n    </tr>\n    <tr>\n      <th>21</th>\n      <td>Atheist</td>\n      <td>$20-30k</td>\n      <td>37</td>\n    </tr>\n    <tr>\n      <th>22</th>\n      <td>Buddhist</td>\n      <td>$20-30k</td>\n      <td>30</td>\n    </tr>\n    <tr>\n      <th>23</th>\n      <td>Catholic</td>\n      <td>$20-30k</td>\n      <td>732</td>\n    </tr>\n    <tr>\n      <th>24</th>\n      <td>Dont know/refused</td>\n      <td>$20-30k</td>\n      <td>15</td>\n    </tr>\n    <tr>\n      <th>25</th>\n      <td>Evangelical Prot</td>\n      <td>$20-30k</td>\n      <td>1064</td>\n    </tr>\n    <tr>\n      <th>26</th>\n      <td>Hindu</td>\n      <td>$20-30k</td>\n      <td>7</td>\n    </tr>\n    <tr>\n      <th>27</th>\n      <td>Historically Black Prot</td>\n      <td>$20-30k</td>\n      <td>236</td>\n    </tr>\n    <tr>\n      <th>28</th>\n      <td>Jehovahs Witness</td>\n      <td>$20-30k</td>\n      <td>24</td>\n    </tr>\n    <tr>\n      <th>29</th>\n      <td>Jewish</td>\n      <td>$20-30k</td>\n      <td>25</td>\n    </tr>\n    <tr>\n      <th>30</th>\n      <td>Agnostic</td>\n      <td>$30-40k</td>\n      <td>81</td>\n    </tr>\n    <tr>\n      <th>31</th>\n      <td>Atheist</td>\n      <td>$30-40k</td>\n      <td>52</td>\n    </tr>\n    <tr>\n      <th>32</th>\n      <td>Buddhist</td>\n      <td>$30-40k</td>\n      <td>34</td>\n    </tr>\n    <tr>\n      <th>33</th>\n      <td>Catholic</td>\n      <td>$30-40k</td>\n      <td>670</td>\n    </tr>\n    <tr>\n      <th>34</th>\n      <td>Dont know/refused</td>\n      <td>$30-40k</td>\n      <td>11</td>\n    </tr>\n    <tr>\n      <th>35</th>\n      <td>Evangelical Prot</td>\n      <td>$30-40k</td>\n      <td>982</td>\n    </tr>\n    <tr>\n      <th>36</th>\n      <td>Hindu</td>\n      <td>$30-40k</td>\n      <td>9</td>\n    </tr>\n    <tr>\n      <th>37</th>\n      <td>Historically Black Prot</td>\n      <td>$30-40k</td>\n      <td>238</td>\n    </tr>\n    <tr>\n      <th>38</th>\n      <td>Jehovahs Witness</td>\n      <td>$30-40k</td>\n      <td>24</td>\n    </tr>\n    <tr>\n      <th>39</th>\n      <td>Jewish</td>\n      <td>$30-40k</td>\n      <td>25</td>\n    </tr>\n    <tr>\n      <th>40</th>\n      <td>Agnostic</td>\n      <td>$40-50k</td>\n      <td>76</td>\n    </tr>\n    <tr>\n      <th>41</th>\n      <td>Atheist</td>\n      <td>$40-50k</td>\n      <td>35</td>\n    </tr>\n    <tr>\n      <th>42</th>\n      <td>Buddhist</td>\n      <td>$40-50k</td>\n      <td>33</td>\n    </tr>\n    <tr>\n      <th>43</th>\n      <td>Catholic</td>\n      <td>$40-50k</td>\n      <td>638</td>\n    </tr>\n    <tr>\n      <th>44</th>\n      <td>Dont know/refused</td>\n      <td>$40-50k</td>\n      <td>10</td>\n    </tr>\n    <tr>\n      <th>45</th>\n      <td>Evangelical Prot</td>\n      <td>$40-50k</td>\n      <td>881</td>\n    </tr>\n    <tr>\n      <th>46</th>\n      <td>Hindu</td>\n      <td>$40-50k</td>\n      <td>11</td>\n    </tr>\n    <tr>\n      <th>47</th>\n      <td>Historically Black Prot</td>\n      <td>$40-50k</td>\n      <td>197</td>\n    </tr>\n    <tr>\n      <th>48</th>\n      <td>Jehovahs Witness</td>\n      <td>$40-50k</td>\n      <td>21</td>\n    </tr>\n    <tr>\n      <th>49</th>\n      <td>Jewish</td>\n      <td>$40-50k</td>\n      <td>30</td>\n    </tr>\n    <tr>\n      <th>50</th>\n      <td>Agnostic</td>\n      <td>$50-75k</td>\n      <td>137</td>\n    </tr>\n    <tr>\n      <th>51</th>\n      <td>Atheist</td>\n      <td>$50-75k</td>\n      <td>70</td>\n    </tr>\n    <tr>\n      <th>52</th>\n      <td>Buddhist</td>\n      <td>$50-75k</td>\n      <td>58</td>\n    </tr>\n    <tr>\n      <th>53</th>\n      <td>Catholic</td>\n      <td>$50-75k</td>\n      <td>1116</td>\n    </tr>\n    <tr>\n      <th>54</th>\n      <td>Dont know/refused</td>\n      <td>$50-75k</td>\n      <td>35</td>\n    </tr>\n    <tr>\n      <th>55</th>\n      <td>Evangelical Prot</td>\n      <td>$50-75k</td>\n      <td>1486</td>\n    </tr>\n    <tr>\n      <th>56</th>\n      <td>Hindu</td>\n      <td>$50-75k</td>\n      <td>34</td>\n    </tr>\n    <tr>\n      <th>57</th>\n      <td>Historically Black Prot</td>\n      <td>$50-75k</td>\n      <td>223</td>\n    </tr>\n    <tr>\n      <th>58</th>\n      <td>Jehovahs Witness</td>\n      <td>$50-75k</td>\n      <td>30</td>\n    </tr>\n    <tr>\n      <th>59</th>\n      <td>Jewish</td>\n      <td>$50-75k</td>\n      <td>95</td>\n    </tr>\n  </tbody>\n</table>\n</div>"
     },
     "execution_count": 13,
     "metadata": {},
     "output_type": "execute_result"
    }
   ],
   "source": [
    "pew_tidy = pd.melt(pew_data, id_vars=['religion'], var_name='Income_range', value_name='Citizen_count')\n",
    "pew_tidy"
   ],
   "metadata": {
    "collapsed": false,
    "ExecuteTime": {
     "end_time": "2023-10-06T16:19:20.084097Z",
     "start_time": "2023-10-06T16:19:20.075912Z"
    }
   }
  },
  {
   "cell_type": "code",
   "execution_count": 15,
   "outputs": [],
   "source": [
    "# Using Lambda function\n",
    "pew_tidy['Income_range'] = pew_tidy['Income_range'].apply(lambda x:'$0-10k' if x=='<$10k' else x)\n",
    "# Using Replace\n",
    "# pew_tidy.replace('<$10k','$0-10k')"
   ],
   "metadata": {
    "collapsed": false,
    "ExecuteTime": {
     "end_time": "2023-10-06T16:30:43.303210Z",
     "start_time": "2023-10-06T16:30:43.292379Z"
    }
   }
  },
  {
   "attachments": {},
   "cell_type": "markdown",
   "metadata": {},
   "source": [
    "### **Billboard Dataset**"
   ]
  },
  {
   "attachments": {},
   "cell_type": "markdown",
   "metadata": {},
   "source": [
    "This dataset outlines data about the top hit songs on the Billboard list and the week from entrance that it was in the billboard with the ranking."
   ]
  },
  {
   "attachments": {},
   "cell_type": "markdown",
   "metadata": {},
   "source": [
    "1. Read the dataset and store it in a pandas dataframe. Note that the usual utf-8 encoding does not work on this dataset. The reason behind this is that there might be characters that are not supported by `utf-8`.\n",
    "\n",
    "The suggestion is to use for this dataset `unicode_escape` encoding. (converts all non-ASCII characters into their \\uXXXX representations)"
   ]
  },
  {
   "cell_type": "code",
   "execution_count": 23,
   "outputs": [
    {
     "data": {
      "text/plain": "   year      artist.inverted                                  track  time  \\\n0  2000      Destiny's Child               Independent Women Part I  3:38   \n1  2000              Santana                           Maria, Maria  4:18   \n2  2000        Savage Garden                     I Knew I Loved You  4:07   \n3  2000              Madonna                                  Music  3:45   \n4  2000  Aguilera, Christina  Come On Over Baby (All I Want Is You)  3:38   \n\n  genre date.entered date.peaked  x1st.week  x2nd.week  x3rd.week  ...  \\\n0  Rock   2000-09-23  2000-11-18         78       63.0       49.0  ...   \n1  Rock   2000-02-12  2000-04-08         15        8.0        6.0  ...   \n2  Rock   1999-10-23  2000-01-29         71       48.0       43.0  ...   \n3  Rock   2000-08-12  2000-09-16         41       23.0       18.0  ...   \n4  Rock   2000-08-05  2000-10-14         57       47.0       45.0  ...   \n\n   x67th.week  x68th.week  x69th.week  x70th.week  x71st.week  x72nd.week  \\\n0         NaN         NaN         NaN         NaN         NaN         NaN   \n1         NaN         NaN         NaN         NaN         NaN         NaN   \n2         NaN         NaN         NaN         NaN         NaN         NaN   \n3         NaN         NaN         NaN         NaN         NaN         NaN   \n4         NaN         NaN         NaN         NaN         NaN         NaN   \n\n   x73rd.week  x74th.week  x75th.week  x76th.week  \n0         NaN         NaN         NaN         NaN  \n1         NaN         NaN         NaN         NaN  \n2         NaN         NaN         NaN         NaN  \n3         NaN         NaN         NaN         NaN  \n4         NaN         NaN         NaN         NaN  \n\n[5 rows x 83 columns]",
      "text/html": "<div>\n<style scoped>\n    .dataframe tbody tr th:only-of-type {\n        vertical-align: middle;\n    }\n\n    .dataframe tbody tr th {\n        vertical-align: top;\n    }\n\n    .dataframe thead th {\n        text-align: right;\n    }\n</style>\n<table border=\"1\" class=\"dataframe\">\n  <thead>\n    <tr style=\"text-align: right;\">\n      <th></th>\n      <th>year</th>\n      <th>artist.inverted</th>\n      <th>track</th>\n      <th>time</th>\n      <th>genre</th>\n      <th>date.entered</th>\n      <th>date.peaked</th>\n      <th>x1st.week</th>\n      <th>x2nd.week</th>\n      <th>x3rd.week</th>\n      <th>...</th>\n      <th>x67th.week</th>\n      <th>x68th.week</th>\n      <th>x69th.week</th>\n      <th>x70th.week</th>\n      <th>x71st.week</th>\n      <th>x72nd.week</th>\n      <th>x73rd.week</th>\n      <th>x74th.week</th>\n      <th>x75th.week</th>\n      <th>x76th.week</th>\n    </tr>\n  </thead>\n  <tbody>\n    <tr>\n      <th>0</th>\n      <td>2000</td>\n      <td>Destiny's Child</td>\n      <td>Independent Women Part I</td>\n      <td>3:38</td>\n      <td>Rock</td>\n      <td>2000-09-23</td>\n      <td>2000-11-18</td>\n      <td>78</td>\n      <td>63.0</td>\n      <td>49.0</td>\n      <td>...</td>\n      <td>NaN</td>\n      <td>NaN</td>\n      <td>NaN</td>\n      <td>NaN</td>\n      <td>NaN</td>\n      <td>NaN</td>\n      <td>NaN</td>\n      <td>NaN</td>\n      <td>NaN</td>\n      <td>NaN</td>\n    </tr>\n    <tr>\n      <th>1</th>\n      <td>2000</td>\n      <td>Santana</td>\n      <td>Maria, Maria</td>\n      <td>4:18</td>\n      <td>Rock</td>\n      <td>2000-02-12</td>\n      <td>2000-04-08</td>\n      <td>15</td>\n      <td>8.0</td>\n      <td>6.0</td>\n      <td>...</td>\n      <td>NaN</td>\n      <td>NaN</td>\n      <td>NaN</td>\n      <td>NaN</td>\n      <td>NaN</td>\n      <td>NaN</td>\n      <td>NaN</td>\n      <td>NaN</td>\n      <td>NaN</td>\n      <td>NaN</td>\n    </tr>\n    <tr>\n      <th>2</th>\n      <td>2000</td>\n      <td>Savage Garden</td>\n      <td>I Knew I Loved You</td>\n      <td>4:07</td>\n      <td>Rock</td>\n      <td>1999-10-23</td>\n      <td>2000-01-29</td>\n      <td>71</td>\n      <td>48.0</td>\n      <td>43.0</td>\n      <td>...</td>\n      <td>NaN</td>\n      <td>NaN</td>\n      <td>NaN</td>\n      <td>NaN</td>\n      <td>NaN</td>\n      <td>NaN</td>\n      <td>NaN</td>\n      <td>NaN</td>\n      <td>NaN</td>\n      <td>NaN</td>\n    </tr>\n    <tr>\n      <th>3</th>\n      <td>2000</td>\n      <td>Madonna</td>\n      <td>Music</td>\n      <td>3:45</td>\n      <td>Rock</td>\n      <td>2000-08-12</td>\n      <td>2000-09-16</td>\n      <td>41</td>\n      <td>23.0</td>\n      <td>18.0</td>\n      <td>...</td>\n      <td>NaN</td>\n      <td>NaN</td>\n      <td>NaN</td>\n      <td>NaN</td>\n      <td>NaN</td>\n      <td>NaN</td>\n      <td>NaN</td>\n      <td>NaN</td>\n      <td>NaN</td>\n      <td>NaN</td>\n    </tr>\n    <tr>\n      <th>4</th>\n      <td>2000</td>\n      <td>Aguilera, Christina</td>\n      <td>Come On Over Baby (All I Want Is You)</td>\n      <td>3:38</td>\n      <td>Rock</td>\n      <td>2000-08-05</td>\n      <td>2000-10-14</td>\n      <td>57</td>\n      <td>47.0</td>\n      <td>45.0</td>\n      <td>...</td>\n      <td>NaN</td>\n      <td>NaN</td>\n      <td>NaN</td>\n      <td>NaN</td>\n      <td>NaN</td>\n      <td>NaN</td>\n      <td>NaN</td>\n      <td>NaN</td>\n      <td>NaN</td>\n      <td>NaN</td>\n    </tr>\n  </tbody>\n</table>\n<p>5 rows × 83 columns</p>\n</div>"
     },
     "execution_count": 23,
     "metadata": {},
     "output_type": "execute_result"
    }
   ],
   "source": [
    "df_bill = pd.read_csv('./CSVs/billboard.csv', encoding='unicode-escape')\n",
    "df_bill.head(5)"
   ],
   "metadata": {
    "collapsed": false,
    "ExecuteTime": {
     "end_time": "2023-10-06T16:38:32.780284Z",
     "start_time": "2023-10-06T16:38:32.742071Z"
    }
   }
  },
  {
   "attachments": {},
   "cell_type": "markdown",
   "metadata": {},
   "source": [
    "2. Observe the first few rows of the dataset."
   ]
  },
  {
   "attachments": {},
   "cell_type": "markdown",
   "metadata": {},
   "source": [
    "***What is wrong with the above dataset?***"
   ]
  },
  {
   "attachments": {},
   "cell_type": "markdown",
   "metadata": {},
   "source": [
    "3. Let's, again, use the `melt` function to fix the general structure of the dataframe."
   ]
  },
  {
   "cell_type": "code",
   "execution_count": 24,
   "outputs": [
    {
     "data": {
      "text/plain": "   year      artist.inverted                                  track  time  \\\n0  2000      Destiny's Child               Independent Women Part I  3:38   \n1  2000              Santana                           Maria, Maria  4:18   \n2  2000        Savage Garden                     I Knew I Loved You  4:07   \n3  2000              Madonna                                  Music  3:45   \n4  2000  Aguilera, Christina  Come On Over Baby (All I Want Is You)  3:38   \n\n  genre date.entered date.peaked       Week  Rank  \n0  Rock   2000-09-23  2000-11-18  x1st.week  78.0  \n1  Rock   2000-02-12  2000-04-08  x1st.week  15.0  \n2  Rock   1999-10-23  2000-01-29  x1st.week  71.0  \n3  Rock   2000-08-12  2000-09-16  x1st.week  41.0  \n4  Rock   2000-08-05  2000-10-14  x1st.week  57.0  ",
      "text/html": "<div>\n<style scoped>\n    .dataframe tbody tr th:only-of-type {\n        vertical-align: middle;\n    }\n\n    .dataframe tbody tr th {\n        vertical-align: top;\n    }\n\n    .dataframe thead th {\n        text-align: right;\n    }\n</style>\n<table border=\"1\" class=\"dataframe\">\n  <thead>\n    <tr style=\"text-align: right;\">\n      <th></th>\n      <th>year</th>\n      <th>artist.inverted</th>\n      <th>track</th>\n      <th>time</th>\n      <th>genre</th>\n      <th>date.entered</th>\n      <th>date.peaked</th>\n      <th>Week</th>\n      <th>Rank</th>\n    </tr>\n  </thead>\n  <tbody>\n    <tr>\n      <th>0</th>\n      <td>2000</td>\n      <td>Destiny's Child</td>\n      <td>Independent Women Part I</td>\n      <td>3:38</td>\n      <td>Rock</td>\n      <td>2000-09-23</td>\n      <td>2000-11-18</td>\n      <td>x1st.week</td>\n      <td>78.0</td>\n    </tr>\n    <tr>\n      <th>1</th>\n      <td>2000</td>\n      <td>Santana</td>\n      <td>Maria, Maria</td>\n      <td>4:18</td>\n      <td>Rock</td>\n      <td>2000-02-12</td>\n      <td>2000-04-08</td>\n      <td>x1st.week</td>\n      <td>15.0</td>\n    </tr>\n    <tr>\n      <th>2</th>\n      <td>2000</td>\n      <td>Savage Garden</td>\n      <td>I Knew I Loved You</td>\n      <td>4:07</td>\n      <td>Rock</td>\n      <td>1999-10-23</td>\n      <td>2000-01-29</td>\n      <td>x1st.week</td>\n      <td>71.0</td>\n    </tr>\n    <tr>\n      <th>3</th>\n      <td>2000</td>\n      <td>Madonna</td>\n      <td>Music</td>\n      <td>3:45</td>\n      <td>Rock</td>\n      <td>2000-08-12</td>\n      <td>2000-09-16</td>\n      <td>x1st.week</td>\n      <td>41.0</td>\n    </tr>\n    <tr>\n      <th>4</th>\n      <td>2000</td>\n      <td>Aguilera, Christina</td>\n      <td>Come On Over Baby (All I Want Is You)</td>\n      <td>3:38</td>\n      <td>Rock</td>\n      <td>2000-08-05</td>\n      <td>2000-10-14</td>\n      <td>x1st.week</td>\n      <td>57.0</td>\n    </tr>\n  </tbody>\n</table>\n</div>"
     },
     "execution_count": 24,
     "metadata": {},
     "output_type": "execute_result"
    }
   ],
   "source": [
    "id_vars = df_bill.columns[:7]\n",
    "df_bill = df_bill.melt(id_vars=id_vars, var_name=\"Week\", value_name=\"Rank\")\n",
    "df_bill.head()"
   ],
   "metadata": {
    "collapsed": false,
    "ExecuteTime": {
     "end_time": "2023-10-06T16:38:36.013555Z",
     "start_time": "2023-10-06T16:38:35.994939Z"
    }
   }
  },
  {
   "attachments": {},
   "cell_type": "markdown",
   "metadata": {},
   "source": [
    "If we inspect the current dataframe. We find that it is structured in a better way than before. \n",
    "\n",
    "However, the ***Week*** column looks a bit ugly!\n",
    "\n",
    "4. Let's try to place only the week number in that column without the extras surronding it."
   ]
  },
  {
   "cell_type": "code",
   "execution_count": 27,
   "outputs": [
    {
     "data": {
      "text/plain": "       year      artist.inverted                                  track  time  \\\n0      2000      Destiny's Child               Independent Women Part I  3:38   \n1      2000              Santana                           Maria, Maria  4:18   \n2      2000        Savage Garden                     I Knew I Loved You  4:07   \n3      2000              Madonna                                  Music  3:45   \n4      2000  Aguilera, Christina  Come On Over Baby (All I Want Is You)  3:38   \n...     ...                  ...                                    ...   ...   \n24087  2000     Ghostface Killah                       Cherchez LaGhost  3:04   \n24088  2000          Smith, Will                            Freakin' It  3:58   \n24089  2000        Zombie Nation                          Kernkraft 400  3:30   \n24090  2000       Eastsidaz, The                               Got Beef  3:58   \n24091  2000               Fragma                         Toca's Miracle  3:22   \n\n      genre date.entered date.peaked Week  Rank  \n0      Rock   2000-09-23  2000-11-18    1  78.0  \n1      Rock   2000-02-12  2000-04-08    1  15.0  \n2      Rock   1999-10-23  2000-01-29    1  71.0  \n3      Rock   2000-08-12  2000-09-16    1  41.0  \n4      Rock   2000-08-05  2000-10-14    1  57.0  \n...     ...          ...         ...  ...   ...  \n24087   R&B   2000-08-05  2000-08-05   76   NaN  \n24088   Rap   2000-02-12  2000-02-12   76   NaN  \n24089  Rock   2000-09-02  2000-09-02   76   NaN  \n24090   Rap   2000-07-01  2000-07-01   76   NaN  \n24091   R&B   2000-10-28  2000-10-28   76   NaN  \n\n[24092 rows x 9 columns]",
      "text/html": "<div>\n<style scoped>\n    .dataframe tbody tr th:only-of-type {\n        vertical-align: middle;\n    }\n\n    .dataframe tbody tr th {\n        vertical-align: top;\n    }\n\n    .dataframe thead th {\n        text-align: right;\n    }\n</style>\n<table border=\"1\" class=\"dataframe\">\n  <thead>\n    <tr style=\"text-align: right;\">\n      <th></th>\n      <th>year</th>\n      <th>artist.inverted</th>\n      <th>track</th>\n      <th>time</th>\n      <th>genre</th>\n      <th>date.entered</th>\n      <th>date.peaked</th>\n      <th>Week</th>\n      <th>Rank</th>\n    </tr>\n  </thead>\n  <tbody>\n    <tr>\n      <th>0</th>\n      <td>2000</td>\n      <td>Destiny's Child</td>\n      <td>Independent Women Part I</td>\n      <td>3:38</td>\n      <td>Rock</td>\n      <td>2000-09-23</td>\n      <td>2000-11-18</td>\n      <td>1</td>\n      <td>78.0</td>\n    </tr>\n    <tr>\n      <th>1</th>\n      <td>2000</td>\n      <td>Santana</td>\n      <td>Maria, Maria</td>\n      <td>4:18</td>\n      <td>Rock</td>\n      <td>2000-02-12</td>\n      <td>2000-04-08</td>\n      <td>1</td>\n      <td>15.0</td>\n    </tr>\n    <tr>\n      <th>2</th>\n      <td>2000</td>\n      <td>Savage Garden</td>\n      <td>I Knew I Loved You</td>\n      <td>4:07</td>\n      <td>Rock</td>\n      <td>1999-10-23</td>\n      <td>2000-01-29</td>\n      <td>1</td>\n      <td>71.0</td>\n    </tr>\n    <tr>\n      <th>3</th>\n      <td>2000</td>\n      <td>Madonna</td>\n      <td>Music</td>\n      <td>3:45</td>\n      <td>Rock</td>\n      <td>2000-08-12</td>\n      <td>2000-09-16</td>\n      <td>1</td>\n      <td>41.0</td>\n    </tr>\n    <tr>\n      <th>4</th>\n      <td>2000</td>\n      <td>Aguilera, Christina</td>\n      <td>Come On Over Baby (All I Want Is You)</td>\n      <td>3:38</td>\n      <td>Rock</td>\n      <td>2000-08-05</td>\n      <td>2000-10-14</td>\n      <td>1</td>\n      <td>57.0</td>\n    </tr>\n    <tr>\n      <th>...</th>\n      <td>...</td>\n      <td>...</td>\n      <td>...</td>\n      <td>...</td>\n      <td>...</td>\n      <td>...</td>\n      <td>...</td>\n      <td>...</td>\n      <td>...</td>\n    </tr>\n    <tr>\n      <th>24087</th>\n      <td>2000</td>\n      <td>Ghostface Killah</td>\n      <td>Cherchez LaGhost</td>\n      <td>3:04</td>\n      <td>R&amp;B</td>\n      <td>2000-08-05</td>\n      <td>2000-08-05</td>\n      <td>76</td>\n      <td>NaN</td>\n    </tr>\n    <tr>\n      <th>24088</th>\n      <td>2000</td>\n      <td>Smith, Will</td>\n      <td>Freakin' It</td>\n      <td>3:58</td>\n      <td>Rap</td>\n      <td>2000-02-12</td>\n      <td>2000-02-12</td>\n      <td>76</td>\n      <td>NaN</td>\n    </tr>\n    <tr>\n      <th>24089</th>\n      <td>2000</td>\n      <td>Zombie Nation</td>\n      <td>Kernkraft 400</td>\n      <td>3:30</td>\n      <td>Rock</td>\n      <td>2000-09-02</td>\n      <td>2000-09-02</td>\n      <td>76</td>\n      <td>NaN</td>\n    </tr>\n    <tr>\n      <th>24090</th>\n      <td>2000</td>\n      <td>Eastsidaz, The</td>\n      <td>Got Beef</td>\n      <td>3:58</td>\n      <td>Rap</td>\n      <td>2000-07-01</td>\n      <td>2000-07-01</td>\n      <td>76</td>\n      <td>NaN</td>\n    </tr>\n    <tr>\n      <th>24091</th>\n      <td>2000</td>\n      <td>Fragma</td>\n      <td>Toca's Miracle</td>\n      <td>3:22</td>\n      <td>R&amp;B</td>\n      <td>2000-10-28</td>\n      <td>2000-10-28</td>\n      <td>76</td>\n      <td>NaN</td>\n    </tr>\n  </tbody>\n</table>\n<p>24092 rows × 9 columns</p>\n</div>"
     },
     "execution_count": 27,
     "metadata": {},
     "output_type": "execute_result"
    }
   ],
   "source": [
    "df_bill['Week'] = df_bill['Week'].str.extract('(\\d+)', expand=False) # Capture group should be inside the bracket and the capture group is '\\d+' \\d means integer digit and + means more than one digit\n",
    "df_bill"
   ],
   "metadata": {
    "collapsed": false,
    "ExecuteTime": {
     "end_time": "2023-10-06T16:42:41.029475Z",
     "start_time": "2023-10-06T16:42:40.997080Z"
    }
   }
  },
  {
   "attachments": {},
   "cell_type": "markdown",
   "metadata": {},
   "source": [
    "5. Now let's inspect the ***Week*** column in the dataframe."
   ]
  },
  {
   "attachments": {},
   "cell_type": "markdown",
   "metadata": {},
   "source": [
    "Next, let's try to find the date at which the song ranked the number that is shown per row.\n",
    "\n",
    "6. To do that let's first think of the equation that is going to get us the relevant date at which the song ranked the *rth*.\n",
    "\n"
   ]
  },
  {
   "cell_type": "code",
   "execution_count": 28,
   "outputs": [
    {
     "name": "stdout",
     "output_type": "stream",
     "text": [
      "<class 'pandas.core.frame.DataFrame'>\n",
      "RangeIndex: 24092 entries, 0 to 24091\n",
      "Data columns (total 9 columns):\n",
      " #   Column           Non-Null Count  Dtype  \n",
      "---  ------           --------------  -----  \n",
      " 0   year             24092 non-null  int64  \n",
      " 1   artist.inverted  24092 non-null  object \n",
      " 2   track            24092 non-null  object \n",
      " 3   time             24092 non-null  object \n",
      " 4   genre            24092 non-null  object \n",
      " 5   date.entered     24092 non-null  object \n",
      " 6   date.peaked      24092 non-null  object \n",
      " 7   Week             24092 non-null  object \n",
      " 8   Rank             5307 non-null   float64\n",
      "dtypes: float64(1), int64(1), object(7)\n",
      "memory usage: 1.7+ MB\n"
     ]
    }
   ],
   "source": [
    "df_bill.info() # gives you the datatypes"
   ],
   "metadata": {
    "collapsed": false,
    "ExecuteTime": {
     "end_time": "2023-10-06T16:45:24.598702Z",
     "start_time": "2023-10-06T16:45:24.584098Z"
    }
   }
  },
  {
   "cell_type": "code",
   "execution_count": 32,
   "outputs": [
    {
     "name": "stdout",
     "output_type": "stream",
     "text": [
      "<class 'pandas.core.frame.DataFrame'>\n",
      "RangeIndex: 24092 entries, 0 to 24091\n",
      "Data columns (total 9 columns):\n",
      " #   Column           Non-Null Count  Dtype         \n",
      "---  ------           --------------  -----         \n",
      " 0   year             24092 non-null  int64         \n",
      " 1   artist.inverted  24092 non-null  object        \n",
      " 2   track            24092 non-null  object        \n",
      " 3   time             24092 non-null  object        \n",
      " 4   genre            24092 non-null  object        \n",
      " 5   date.entered     24092 non-null  datetime64[ns]\n",
      " 6   date.peaked      24092 non-null  object        \n",
      " 7   Week             24092 non-null  int64         \n",
      " 8   Rank             5307 non-null   float64       \n",
      "dtypes: datetime64[ns](1), float64(1), int64(2), object(5)\n",
      "memory usage: 1.7+ MB\n"
     ]
    }
   ],
   "source": [
    "df_bill['Week'] = df_bill['Week'].astype(int)\n",
    "df_bill['date.entered'] = pd.to_datetime(df_bill['date.entered'])\n",
    "df_bill.info()"
   ],
   "metadata": {
    "collapsed": false,
    "ExecuteTime": {
     "end_time": "2023-10-06T16:50:00.052749Z",
     "start_time": "2023-10-06T16:50:00.023369Z"
    }
   }
  },
  {
   "attachments": {},
   "cell_type": "markdown",
   "metadata": {},
   "source": [
    "*Timedeltas are absolute differences in times, expressed in difference units (e.g. days, hours, minutes, seconds). This method converts an argument from a recognized timedelta format / value into a Timedelta type.*\n"
   ]
  },
  {
   "cell_type": "code",
   "execution_count": 36,
   "outputs": [
    {
     "data": {
      "text/plain": "       year      artist.inverted                                  track  time  \\\n0      2000      Destiny's Child               Independent Women Part I  3:38   \n1      2000              Santana                           Maria, Maria  4:18   \n2      2000        Savage Garden                     I Knew I Loved You  4:07   \n3      2000              Madonna                                  Music  3:45   \n4      2000  Aguilera, Christina  Come On Over Baby (All I Want Is You)  3:38   \n...     ...                  ...                                    ...   ...   \n24087  2000     Ghostface Killah                       Cherchez LaGhost  3:04   \n24088  2000          Smith, Will                            Freakin' It  3:58   \n24089  2000        Zombie Nation                          Kernkraft 400  3:30   \n24090  2000       Eastsidaz, The                               Got Beef  3:58   \n24091  2000               Fragma                         Toca's Miracle  3:22   \n\n      genre date.entered date.peaked  Week  Rank  Rank_date  \n0      Rock   2000-09-23  2000-11-18     1  78.0 2000-09-23  \n1      Rock   2000-02-12  2000-04-08     1  15.0 2000-02-12  \n2      Rock   1999-10-23  2000-01-29     1  71.0 1999-10-23  \n3      Rock   2000-08-12  2000-09-16     1  41.0 2000-08-12  \n4      Rock   2000-08-05  2000-10-14     1  57.0 2000-08-05  \n...     ...          ...         ...   ...   ...        ...  \n24087   R&B   2000-08-05  2000-08-05    76   NaN 2002-01-12  \n24088   Rap   2000-02-12  2000-02-12    76   NaN 2001-07-21  \n24089  Rock   2000-09-02  2000-09-02    76   NaN 2002-02-09  \n24090   Rap   2000-07-01  2000-07-01    76   NaN 2001-12-08  \n24091   R&B   2000-10-28  2000-10-28    76   NaN 2002-04-06  \n\n[24092 rows x 10 columns]",
      "text/html": "<div>\n<style scoped>\n    .dataframe tbody tr th:only-of-type {\n        vertical-align: middle;\n    }\n\n    .dataframe tbody tr th {\n        vertical-align: top;\n    }\n\n    .dataframe thead th {\n        text-align: right;\n    }\n</style>\n<table border=\"1\" class=\"dataframe\">\n  <thead>\n    <tr style=\"text-align: right;\">\n      <th></th>\n      <th>year</th>\n      <th>artist.inverted</th>\n      <th>track</th>\n      <th>time</th>\n      <th>genre</th>\n      <th>date.entered</th>\n      <th>date.peaked</th>\n      <th>Week</th>\n      <th>Rank</th>\n      <th>Rank_date</th>\n    </tr>\n  </thead>\n  <tbody>\n    <tr>\n      <th>0</th>\n      <td>2000</td>\n      <td>Destiny's Child</td>\n      <td>Independent Women Part I</td>\n      <td>3:38</td>\n      <td>Rock</td>\n      <td>2000-09-23</td>\n      <td>2000-11-18</td>\n      <td>1</td>\n      <td>78.0</td>\n      <td>2000-09-23</td>\n    </tr>\n    <tr>\n      <th>1</th>\n      <td>2000</td>\n      <td>Santana</td>\n      <td>Maria, Maria</td>\n      <td>4:18</td>\n      <td>Rock</td>\n      <td>2000-02-12</td>\n      <td>2000-04-08</td>\n      <td>1</td>\n      <td>15.0</td>\n      <td>2000-02-12</td>\n    </tr>\n    <tr>\n      <th>2</th>\n      <td>2000</td>\n      <td>Savage Garden</td>\n      <td>I Knew I Loved You</td>\n      <td>4:07</td>\n      <td>Rock</td>\n      <td>1999-10-23</td>\n      <td>2000-01-29</td>\n      <td>1</td>\n      <td>71.0</td>\n      <td>1999-10-23</td>\n    </tr>\n    <tr>\n      <th>3</th>\n      <td>2000</td>\n      <td>Madonna</td>\n      <td>Music</td>\n      <td>3:45</td>\n      <td>Rock</td>\n      <td>2000-08-12</td>\n      <td>2000-09-16</td>\n      <td>1</td>\n      <td>41.0</td>\n      <td>2000-08-12</td>\n    </tr>\n    <tr>\n      <th>4</th>\n      <td>2000</td>\n      <td>Aguilera, Christina</td>\n      <td>Come On Over Baby (All I Want Is You)</td>\n      <td>3:38</td>\n      <td>Rock</td>\n      <td>2000-08-05</td>\n      <td>2000-10-14</td>\n      <td>1</td>\n      <td>57.0</td>\n      <td>2000-08-05</td>\n    </tr>\n    <tr>\n      <th>...</th>\n      <td>...</td>\n      <td>...</td>\n      <td>...</td>\n      <td>...</td>\n      <td>...</td>\n      <td>...</td>\n      <td>...</td>\n      <td>...</td>\n      <td>...</td>\n      <td>...</td>\n    </tr>\n    <tr>\n      <th>24087</th>\n      <td>2000</td>\n      <td>Ghostface Killah</td>\n      <td>Cherchez LaGhost</td>\n      <td>3:04</td>\n      <td>R&amp;B</td>\n      <td>2000-08-05</td>\n      <td>2000-08-05</td>\n      <td>76</td>\n      <td>NaN</td>\n      <td>2002-01-12</td>\n    </tr>\n    <tr>\n      <th>24088</th>\n      <td>2000</td>\n      <td>Smith, Will</td>\n      <td>Freakin' It</td>\n      <td>3:58</td>\n      <td>Rap</td>\n      <td>2000-02-12</td>\n      <td>2000-02-12</td>\n      <td>76</td>\n      <td>NaN</td>\n      <td>2001-07-21</td>\n    </tr>\n    <tr>\n      <th>24089</th>\n      <td>2000</td>\n      <td>Zombie Nation</td>\n      <td>Kernkraft 400</td>\n      <td>3:30</td>\n      <td>Rock</td>\n      <td>2000-09-02</td>\n      <td>2000-09-02</td>\n      <td>76</td>\n      <td>NaN</td>\n      <td>2002-02-09</td>\n    </tr>\n    <tr>\n      <th>24090</th>\n      <td>2000</td>\n      <td>Eastsidaz, The</td>\n      <td>Got Beef</td>\n      <td>3:58</td>\n      <td>Rap</td>\n      <td>2000-07-01</td>\n      <td>2000-07-01</td>\n      <td>76</td>\n      <td>NaN</td>\n      <td>2001-12-08</td>\n    </tr>\n    <tr>\n      <th>24091</th>\n      <td>2000</td>\n      <td>Fragma</td>\n      <td>Toca's Miracle</td>\n      <td>3:22</td>\n      <td>R&amp;B</td>\n      <td>2000-10-28</td>\n      <td>2000-10-28</td>\n      <td>76</td>\n      <td>NaN</td>\n      <td>2002-04-06</td>\n    </tr>\n  </tbody>\n</table>\n<p>24092 rows × 10 columns</p>\n</div>"
     },
     "execution_count": 36,
     "metadata": {},
     "output_type": "execute_result"
    }
   ],
   "source": [
    "df_bill['Rank_date'] = df_bill['date.entered']+pd.to_timedelta(df_bill['Week'], unit='W')-pd.DateOffset(weeks=1)\n",
    "df_bill"
   ],
   "metadata": {
    "collapsed": false,
    "ExecuteTime": {
     "end_time": "2023-10-06T16:58:43.359709Z",
     "start_time": "2023-10-06T16:58:43.344825Z"
    }
   }
  },
  {
   "cell_type": "markdown",
   "source": [
    "***What is the problem with the calculation above?***"
   ],
   "metadata": {
    "collapsed": false
   }
  },
  {
   "cell_type": "markdown",
   "source": [
    "7. Let's only keep necessary columns"
   ],
   "metadata": {
    "collapsed": false
   }
  },
  {
   "cell_type": "code",
   "execution_count": 37,
   "outputs": [],
   "source": [
    "df_bill.drop(columns=['date.entered', 'Week', 'date.peaked'], inplace=True)"
   ],
   "metadata": {
    "collapsed": false,
    "ExecuteTime": {
     "end_time": "2023-10-06T16:59:07.750215Z",
     "start_time": "2023-10-06T16:59:07.736274Z"
    }
   }
  },
  {
   "attachments": {},
   "cell_type": "markdown",
   "metadata": {},
   "source": [
    "8. How to rename your columns?"
   ]
  },
  {
   "cell_type": "code",
   "execution_count": 39,
   "outputs": [
    {
     "data": {
      "text/plain": "       Year               Artist                                  Track  Time  \\\n0      2000      Destiny's Child               Independent Women Part I  3:38   \n1      2000              Santana                           Maria, Maria  4:18   \n2      2000        Savage Garden                     I Knew I Loved You  4:07   \n3      2000              Madonna                                  Music  3:45   \n4      2000  Aguilera, Christina  Come On Over Baby (All I Want Is You)  3:38   \n...     ...                  ...                                    ...   ...   \n24087  2000     Ghostface Killah                       Cherchez LaGhost  3:04   \n24088  2000          Smith, Will                            Freakin' It  3:58   \n24089  2000        Zombie Nation                          Kernkraft 400  3:30   \n24090  2000       Eastsidaz, The                               Got Beef  3:58   \n24091  2000               Fragma                         Toca's Miracle  3:22   \n\n      Genre  Rank  Rank_date  \n0      Rock  78.0 2000-09-23  \n1      Rock  15.0 2000-02-12  \n2      Rock  71.0 1999-10-23  \n3      Rock  41.0 2000-08-12  \n4      Rock  57.0 2000-08-05  \n...     ...   ...        ...  \n24087   R&B   NaN 2002-01-12  \n24088   Rap   NaN 2001-07-21  \n24089  Rock   NaN 2002-02-09  \n24090   Rap   NaN 2001-12-08  \n24091   R&B   NaN 2002-04-06  \n\n[24092 rows x 7 columns]",
      "text/html": "<div>\n<style scoped>\n    .dataframe tbody tr th:only-of-type {\n        vertical-align: middle;\n    }\n\n    .dataframe tbody tr th {\n        vertical-align: top;\n    }\n\n    .dataframe thead th {\n        text-align: right;\n    }\n</style>\n<table border=\"1\" class=\"dataframe\">\n  <thead>\n    <tr style=\"text-align: right;\">\n      <th></th>\n      <th>Year</th>\n      <th>Artist</th>\n      <th>Track</th>\n      <th>Time</th>\n      <th>Genre</th>\n      <th>Rank</th>\n      <th>Rank_date</th>\n    </tr>\n  </thead>\n  <tbody>\n    <tr>\n      <th>0</th>\n      <td>2000</td>\n      <td>Destiny's Child</td>\n      <td>Independent Women Part I</td>\n      <td>3:38</td>\n      <td>Rock</td>\n      <td>78.0</td>\n      <td>2000-09-23</td>\n    </tr>\n    <tr>\n      <th>1</th>\n      <td>2000</td>\n      <td>Santana</td>\n      <td>Maria, Maria</td>\n      <td>4:18</td>\n      <td>Rock</td>\n      <td>15.0</td>\n      <td>2000-02-12</td>\n    </tr>\n    <tr>\n      <th>2</th>\n      <td>2000</td>\n      <td>Savage Garden</td>\n      <td>I Knew I Loved You</td>\n      <td>4:07</td>\n      <td>Rock</td>\n      <td>71.0</td>\n      <td>1999-10-23</td>\n    </tr>\n    <tr>\n      <th>3</th>\n      <td>2000</td>\n      <td>Madonna</td>\n      <td>Music</td>\n      <td>3:45</td>\n      <td>Rock</td>\n      <td>41.0</td>\n      <td>2000-08-12</td>\n    </tr>\n    <tr>\n      <th>4</th>\n      <td>2000</td>\n      <td>Aguilera, Christina</td>\n      <td>Come On Over Baby (All I Want Is You)</td>\n      <td>3:38</td>\n      <td>Rock</td>\n      <td>57.0</td>\n      <td>2000-08-05</td>\n    </tr>\n    <tr>\n      <th>...</th>\n      <td>...</td>\n      <td>...</td>\n      <td>...</td>\n      <td>...</td>\n      <td>...</td>\n      <td>...</td>\n      <td>...</td>\n    </tr>\n    <tr>\n      <th>24087</th>\n      <td>2000</td>\n      <td>Ghostface Killah</td>\n      <td>Cherchez LaGhost</td>\n      <td>3:04</td>\n      <td>R&amp;B</td>\n      <td>NaN</td>\n      <td>2002-01-12</td>\n    </tr>\n    <tr>\n      <th>24088</th>\n      <td>2000</td>\n      <td>Smith, Will</td>\n      <td>Freakin' It</td>\n      <td>3:58</td>\n      <td>Rap</td>\n      <td>NaN</td>\n      <td>2001-07-21</td>\n    </tr>\n    <tr>\n      <th>24089</th>\n      <td>2000</td>\n      <td>Zombie Nation</td>\n      <td>Kernkraft 400</td>\n      <td>3:30</td>\n      <td>Rock</td>\n      <td>NaN</td>\n      <td>2002-02-09</td>\n    </tr>\n    <tr>\n      <th>24090</th>\n      <td>2000</td>\n      <td>Eastsidaz, The</td>\n      <td>Got Beef</td>\n      <td>3:58</td>\n      <td>Rap</td>\n      <td>NaN</td>\n      <td>2001-12-08</td>\n    </tr>\n    <tr>\n      <th>24091</th>\n      <td>2000</td>\n      <td>Fragma</td>\n      <td>Toca's Miracle</td>\n      <td>3:22</td>\n      <td>R&amp;B</td>\n      <td>NaN</td>\n      <td>2002-04-06</td>\n    </tr>\n  </tbody>\n</table>\n<p>24092 rows × 7 columns</p>\n</div>"
     },
     "execution_count": 39,
     "metadata": {},
     "output_type": "execute_result"
    }
   ],
   "source": [
    "df_bill.rename(columns={'year':'Year', 'artist.inverted':'Artist','track':'Track', 'time':'Time', 'genre':'Genre'})"
   ],
   "metadata": {
    "collapsed": false,
    "ExecuteTime": {
     "end_time": "2023-10-06T16:59:58.353434Z",
     "start_time": "2023-10-06T16:59:58.317806Z"
    }
   }
  },
  {
   "attachments": {},
   "cell_type": "markdown",
   "metadata": {},
   "source": [
    "Display the dataframe"
   ]
  },
  {
   "cell_type": "code",
   "execution_count": 41,
   "outputs": [
    {
     "data": {
      "text/plain": "       year      artist.inverted                                  track  time  \\\n0      2000      Destiny's Child               Independent Women Part I  3:38   \n1      2000              Santana                           Maria, Maria  4:18   \n2      2000        Savage Garden                     I Knew I Loved You  4:07   \n3      2000              Madonna                                  Music  3:45   \n4      2000  Aguilera, Christina  Come On Over Baby (All I Want Is You)  3:38   \n...     ...                  ...                                    ...   ...   \n19663  2000             Lonestar                                 Amazed  4:25   \n19700  2000                Creed                                 Higher  5:16   \n19980  2000             Lonestar                                 Amazed  4:25   \n20017  2000                Creed                                 Higher  5:16   \n20334  2000                Creed                                 Higher  5:16   \n\n         genre  Rank  Rank_date  \n0         Rock  78.0 2000-09-23  \n1         Rock  15.0 2000-02-12  \n2         Rock  71.0 1999-10-23  \n3         Rock  41.0 2000-08-12  \n4         Rock  57.0 2000-08-05  \n...        ...   ...        ...  \n19663  Country  45.0 2000-08-12  \n19700     Rock  50.0 2000-11-18  \n19980  Country  50.0 2000-08-19  \n20017     Rock  50.0 2000-11-25  \n20334     Rock  49.0 2000-12-02  \n\n[5307 rows x 7 columns]",
      "text/html": "<div>\n<style scoped>\n    .dataframe tbody tr th:only-of-type {\n        vertical-align: middle;\n    }\n\n    .dataframe tbody tr th {\n        vertical-align: top;\n    }\n\n    .dataframe thead th {\n        text-align: right;\n    }\n</style>\n<table border=\"1\" class=\"dataframe\">\n  <thead>\n    <tr style=\"text-align: right;\">\n      <th></th>\n      <th>year</th>\n      <th>artist.inverted</th>\n      <th>track</th>\n      <th>time</th>\n      <th>genre</th>\n      <th>Rank</th>\n      <th>Rank_date</th>\n    </tr>\n  </thead>\n  <tbody>\n    <tr>\n      <th>0</th>\n      <td>2000</td>\n      <td>Destiny's Child</td>\n      <td>Independent Women Part I</td>\n      <td>3:38</td>\n      <td>Rock</td>\n      <td>78.0</td>\n      <td>2000-09-23</td>\n    </tr>\n    <tr>\n      <th>1</th>\n      <td>2000</td>\n      <td>Santana</td>\n      <td>Maria, Maria</td>\n      <td>4:18</td>\n      <td>Rock</td>\n      <td>15.0</td>\n      <td>2000-02-12</td>\n    </tr>\n    <tr>\n      <th>2</th>\n      <td>2000</td>\n      <td>Savage Garden</td>\n      <td>I Knew I Loved You</td>\n      <td>4:07</td>\n      <td>Rock</td>\n      <td>71.0</td>\n      <td>1999-10-23</td>\n    </tr>\n    <tr>\n      <th>3</th>\n      <td>2000</td>\n      <td>Madonna</td>\n      <td>Music</td>\n      <td>3:45</td>\n      <td>Rock</td>\n      <td>41.0</td>\n      <td>2000-08-12</td>\n    </tr>\n    <tr>\n      <th>4</th>\n      <td>2000</td>\n      <td>Aguilera, Christina</td>\n      <td>Come On Over Baby (All I Want Is You)</td>\n      <td>3:38</td>\n      <td>Rock</td>\n      <td>57.0</td>\n      <td>2000-08-05</td>\n    </tr>\n    <tr>\n      <th>...</th>\n      <td>...</td>\n      <td>...</td>\n      <td>...</td>\n      <td>...</td>\n      <td>...</td>\n      <td>...</td>\n      <td>...</td>\n    </tr>\n    <tr>\n      <th>19663</th>\n      <td>2000</td>\n      <td>Lonestar</td>\n      <td>Amazed</td>\n      <td>4:25</td>\n      <td>Country</td>\n      <td>45.0</td>\n      <td>2000-08-12</td>\n    </tr>\n    <tr>\n      <th>19700</th>\n      <td>2000</td>\n      <td>Creed</td>\n      <td>Higher</td>\n      <td>5:16</td>\n      <td>Rock</td>\n      <td>50.0</td>\n      <td>2000-11-18</td>\n    </tr>\n    <tr>\n      <th>19980</th>\n      <td>2000</td>\n      <td>Lonestar</td>\n      <td>Amazed</td>\n      <td>4:25</td>\n      <td>Country</td>\n      <td>50.0</td>\n      <td>2000-08-19</td>\n    </tr>\n    <tr>\n      <th>20017</th>\n      <td>2000</td>\n      <td>Creed</td>\n      <td>Higher</td>\n      <td>5:16</td>\n      <td>Rock</td>\n      <td>50.0</td>\n      <td>2000-11-25</td>\n    </tr>\n    <tr>\n      <th>20334</th>\n      <td>2000</td>\n      <td>Creed</td>\n      <td>Higher</td>\n      <td>5:16</td>\n      <td>Rock</td>\n      <td>49.0</td>\n      <td>2000-12-02</td>\n    </tr>\n  </tbody>\n</table>\n<p>5307 rows × 7 columns</p>\n</div>"
     },
     "execution_count": 41,
     "metadata": {},
     "output_type": "execute_result"
    }
   ],
   "source": [
    "df_bill"
   ],
   "metadata": {
    "collapsed": false,
    "ExecuteTime": {
     "end_time": "2023-10-06T17:00:27.850332Z",
     "start_time": "2023-10-06T17:00:27.840202Z"
    }
   }
  },
  {
   "attachments": {},
   "cell_type": "markdown",
   "metadata": {},
   "source": [
    "In the above dataframe, there are some *NaN* values. What are we going to do? <br/>\n",
    "9. Apply quick data cleaning and then observe the dataset"
   ]
  },
  {
   "cell_type": "code",
   "execution_count": 40,
   "outputs": [],
   "source": [
    "df_bill = df_bill.dropna()"
   ],
   "metadata": {
    "collapsed": false,
    "ExecuteTime": {
     "end_time": "2023-10-06T17:00:10.933815Z",
     "start_time": "2023-10-06T17:00:10.889271Z"
    }
   }
  },
  {
   "attachments": {},
   "cell_type": "markdown",
   "metadata": {},
   "source": [
    "## **Data Cleaning**\n",
    "\n",
    "Data cleaning involves removing unwanted characters, imputing, or dropping missing values.\n",
    "\n",
    "The decision is based on the dataset you have, and the information you can extract from the other columns.\n",
    "\n",
    "\n",
    "Examples of data cleaning include cleaning:\n",
    "\n",
    "1.   **Missing Data**\n",
    "2.   **Irregular Data** (Outliers)\n",
    "3.   **Unnecessary Data** — Repetitive Data, Duplicates and more\n",
    "4.   **Inconsistent Data** — Capitalization, Addresses and more\n",
    "\n",
    "\n",
    "\n",
    "\n",
    "\n",
    "\n"
   ]
  },
  {
   "attachments": {},
   "cell_type": "markdown",
   "metadata": {},
   "source": [
    "### **Cars Data Set**"
   ]
  },
  {
   "attachments": {},
   "cell_type": "markdown",
   "metadata": {},
   "source": [
    "Start by reading the dataset related to car models: ./CSVs/cars.csv"
   ]
  },
  {
   "cell_type": "code",
   "execution_count": 50,
   "metadata": {
    "vscode": {
     "languageId": "plaintext"
    },
    "ExecuteTime": {
     "end_time": "2023-10-06T17:06:14.710632Z",
     "start_time": "2023-10-06T17:06:14.669508Z"
    }
   },
   "outputs": [
    {
     "data": {
      "text/plain": "                           Car     MPG Cylinders Displacement Horsepower  \\\n0                       STRING  DOUBLE       INT       DOUBLE     DOUBLE   \n1    Chevrolet Chevelle Malibu     NaN         8        307.0      130.0   \n2            Buick Skylark 320    15.0         8        350.0        NaN   \n3           Plymouth Satellite     NaN         8        318.0      150.0   \n4                AMC Rebel SST    16.0         8          NaN      150.0   \n..                         ...     ...       ...          ...        ...   \n402            Ford Mustang GL    27.0         4        140.0      86.00   \n403          Volkswagen Pickup    44.0         4        97.00      52.00   \n404              Dodge Rampage    32.0         4        135.0      84.00   \n405                Ford Ranger    28.0         4        120.0      79.00   \n406                 Chevy S-10    31.0         4        119.0      82.00   \n\n     Weight Acceleration Model  Origin  \n0    DOUBLE       DOUBLE   INT     CAT  \n1     3504.         12.0    70      US  \n2     3693.         11.5    70      US  \n3     3436.         11.0    70      US  \n4       NaN         12.0    70      US  \n..      ...          ...   ...     ...  \n402   2790.         15.6    82      US  \n403   2130.         24.6    82  Europe  \n404   2295.         11.6    82      US  \n405   2625.         18.6    82      US  \n406   2720.         19.4    82      US  \n\n[407 rows x 9 columns]",
      "text/html": "<div>\n<style scoped>\n    .dataframe tbody tr th:only-of-type {\n        vertical-align: middle;\n    }\n\n    .dataframe tbody tr th {\n        vertical-align: top;\n    }\n\n    .dataframe thead th {\n        text-align: right;\n    }\n</style>\n<table border=\"1\" class=\"dataframe\">\n  <thead>\n    <tr style=\"text-align: right;\">\n      <th></th>\n      <th>Car</th>\n      <th>MPG</th>\n      <th>Cylinders</th>\n      <th>Displacement</th>\n      <th>Horsepower</th>\n      <th>Weight</th>\n      <th>Acceleration</th>\n      <th>Model</th>\n      <th>Origin</th>\n    </tr>\n  </thead>\n  <tbody>\n    <tr>\n      <th>0</th>\n      <td>STRING</td>\n      <td>DOUBLE</td>\n      <td>INT</td>\n      <td>DOUBLE</td>\n      <td>DOUBLE</td>\n      <td>DOUBLE</td>\n      <td>DOUBLE</td>\n      <td>INT</td>\n      <td>CAT</td>\n    </tr>\n    <tr>\n      <th>1</th>\n      <td>Chevrolet Chevelle Malibu</td>\n      <td>NaN</td>\n      <td>8</td>\n      <td>307.0</td>\n      <td>130.0</td>\n      <td>3504.</td>\n      <td>12.0</td>\n      <td>70</td>\n      <td>US</td>\n    </tr>\n    <tr>\n      <th>2</th>\n      <td>Buick Skylark 320</td>\n      <td>15.0</td>\n      <td>8</td>\n      <td>350.0</td>\n      <td>NaN</td>\n      <td>3693.</td>\n      <td>11.5</td>\n      <td>70</td>\n      <td>US</td>\n    </tr>\n    <tr>\n      <th>3</th>\n      <td>Plymouth Satellite</td>\n      <td>NaN</td>\n      <td>8</td>\n      <td>318.0</td>\n      <td>150.0</td>\n      <td>3436.</td>\n      <td>11.0</td>\n      <td>70</td>\n      <td>US</td>\n    </tr>\n    <tr>\n      <th>4</th>\n      <td>AMC Rebel SST</td>\n      <td>16.0</td>\n      <td>8</td>\n      <td>NaN</td>\n      <td>150.0</td>\n      <td>NaN</td>\n      <td>12.0</td>\n      <td>70</td>\n      <td>US</td>\n    </tr>\n    <tr>\n      <th>...</th>\n      <td>...</td>\n      <td>...</td>\n      <td>...</td>\n      <td>...</td>\n      <td>...</td>\n      <td>...</td>\n      <td>...</td>\n      <td>...</td>\n      <td>...</td>\n    </tr>\n    <tr>\n      <th>402</th>\n      <td>Ford Mustang GL</td>\n      <td>27.0</td>\n      <td>4</td>\n      <td>140.0</td>\n      <td>86.00</td>\n      <td>2790.</td>\n      <td>15.6</td>\n      <td>82</td>\n      <td>US</td>\n    </tr>\n    <tr>\n      <th>403</th>\n      <td>Volkswagen Pickup</td>\n      <td>44.0</td>\n      <td>4</td>\n      <td>97.00</td>\n      <td>52.00</td>\n      <td>2130.</td>\n      <td>24.6</td>\n      <td>82</td>\n      <td>Europe</td>\n    </tr>\n    <tr>\n      <th>404</th>\n      <td>Dodge Rampage</td>\n      <td>32.0</td>\n      <td>4</td>\n      <td>135.0</td>\n      <td>84.00</td>\n      <td>2295.</td>\n      <td>11.6</td>\n      <td>82</td>\n      <td>US</td>\n    </tr>\n    <tr>\n      <th>405</th>\n      <td>Ford Ranger</td>\n      <td>28.0</td>\n      <td>4</td>\n      <td>120.0</td>\n      <td>79.00</td>\n      <td>2625.</td>\n      <td>18.6</td>\n      <td>82</td>\n      <td>US</td>\n    </tr>\n    <tr>\n      <th>406</th>\n      <td>Chevy S-10</td>\n      <td>31.0</td>\n      <td>4</td>\n      <td>119.0</td>\n      <td>82.00</td>\n      <td>2720.</td>\n      <td>19.4</td>\n      <td>82</td>\n      <td>US</td>\n    </tr>\n  </tbody>\n</table>\n<p>407 rows × 9 columns</p>\n</div>"
     },
     "execution_count": 50,
     "metadata": {},
     "output_type": "execute_result"
    }
   ],
   "source": [
    "df_cars = pd.read_csv('./CSVs/cars.csv', delimiter=';')\n",
    "df_cars"
   ]
  },
  {
   "attachments": {},
   "cell_type": "markdown",
   "metadata": {},
   "source": [
    "First Row seems to be the datatype, we need to remove it"
   ]
  },
  {
   "cell_type": "code",
   "execution_count": 51,
   "outputs": [
    {
     "data": {
      "text/plain": "                           Car   MPG Cylinders Displacement Horsepower Weight  \\\n1    Chevrolet Chevelle Malibu   NaN         8        307.0      130.0  3504.   \n2            Buick Skylark 320  15.0         8        350.0        NaN  3693.   \n3           Plymouth Satellite   NaN         8        318.0      150.0  3436.   \n4                AMC Rebel SST  16.0         8          NaN      150.0    NaN   \n5                  Ford Torino  17.0         8        302.0      140.0  3449.   \n..                         ...   ...       ...          ...        ...    ...   \n402            Ford Mustang GL  27.0         4        140.0      86.00  2790.   \n403          Volkswagen Pickup  44.0         4        97.00      52.00  2130.   \n404              Dodge Rampage  32.0         4        135.0      84.00  2295.   \n405                Ford Ranger  28.0         4        120.0      79.00  2625.   \n406                 Chevy S-10  31.0         4        119.0      82.00  2720.   \n\n    Acceleration Model  Origin  \n1           12.0    70      US  \n2           11.5    70      US  \n3           11.0    70      US  \n4           12.0    70      US  \n5           10.5    70      US  \n..           ...   ...     ...  \n402         15.6    82      US  \n403         24.6    82  Europe  \n404         11.6    82      US  \n405         18.6    82      US  \n406         19.4    82      US  \n\n[406 rows x 9 columns]",
      "text/html": "<div>\n<style scoped>\n    .dataframe tbody tr th:only-of-type {\n        vertical-align: middle;\n    }\n\n    .dataframe tbody tr th {\n        vertical-align: top;\n    }\n\n    .dataframe thead th {\n        text-align: right;\n    }\n</style>\n<table border=\"1\" class=\"dataframe\">\n  <thead>\n    <tr style=\"text-align: right;\">\n      <th></th>\n      <th>Car</th>\n      <th>MPG</th>\n      <th>Cylinders</th>\n      <th>Displacement</th>\n      <th>Horsepower</th>\n      <th>Weight</th>\n      <th>Acceleration</th>\n      <th>Model</th>\n      <th>Origin</th>\n    </tr>\n  </thead>\n  <tbody>\n    <tr>\n      <th>1</th>\n      <td>Chevrolet Chevelle Malibu</td>\n      <td>NaN</td>\n      <td>8</td>\n      <td>307.0</td>\n      <td>130.0</td>\n      <td>3504.</td>\n      <td>12.0</td>\n      <td>70</td>\n      <td>US</td>\n    </tr>\n    <tr>\n      <th>2</th>\n      <td>Buick Skylark 320</td>\n      <td>15.0</td>\n      <td>8</td>\n      <td>350.0</td>\n      <td>NaN</td>\n      <td>3693.</td>\n      <td>11.5</td>\n      <td>70</td>\n      <td>US</td>\n    </tr>\n    <tr>\n      <th>3</th>\n      <td>Plymouth Satellite</td>\n      <td>NaN</td>\n      <td>8</td>\n      <td>318.0</td>\n      <td>150.0</td>\n      <td>3436.</td>\n      <td>11.0</td>\n      <td>70</td>\n      <td>US</td>\n    </tr>\n    <tr>\n      <th>4</th>\n      <td>AMC Rebel SST</td>\n      <td>16.0</td>\n      <td>8</td>\n      <td>NaN</td>\n      <td>150.0</td>\n      <td>NaN</td>\n      <td>12.0</td>\n      <td>70</td>\n      <td>US</td>\n    </tr>\n    <tr>\n      <th>5</th>\n      <td>Ford Torino</td>\n      <td>17.0</td>\n      <td>8</td>\n      <td>302.0</td>\n      <td>140.0</td>\n      <td>3449.</td>\n      <td>10.5</td>\n      <td>70</td>\n      <td>US</td>\n    </tr>\n    <tr>\n      <th>...</th>\n      <td>...</td>\n      <td>...</td>\n      <td>...</td>\n      <td>...</td>\n      <td>...</td>\n      <td>...</td>\n      <td>...</td>\n      <td>...</td>\n      <td>...</td>\n    </tr>\n    <tr>\n      <th>402</th>\n      <td>Ford Mustang GL</td>\n      <td>27.0</td>\n      <td>4</td>\n      <td>140.0</td>\n      <td>86.00</td>\n      <td>2790.</td>\n      <td>15.6</td>\n      <td>82</td>\n      <td>US</td>\n    </tr>\n    <tr>\n      <th>403</th>\n      <td>Volkswagen Pickup</td>\n      <td>44.0</td>\n      <td>4</td>\n      <td>97.00</td>\n      <td>52.00</td>\n      <td>2130.</td>\n      <td>24.6</td>\n      <td>82</td>\n      <td>Europe</td>\n    </tr>\n    <tr>\n      <th>404</th>\n      <td>Dodge Rampage</td>\n      <td>32.0</td>\n      <td>4</td>\n      <td>135.0</td>\n      <td>84.00</td>\n      <td>2295.</td>\n      <td>11.6</td>\n      <td>82</td>\n      <td>US</td>\n    </tr>\n    <tr>\n      <th>405</th>\n      <td>Ford Ranger</td>\n      <td>28.0</td>\n      <td>4</td>\n      <td>120.0</td>\n      <td>79.00</td>\n      <td>2625.</td>\n      <td>18.6</td>\n      <td>82</td>\n      <td>US</td>\n    </tr>\n    <tr>\n      <th>406</th>\n      <td>Chevy S-10</td>\n      <td>31.0</td>\n      <td>4</td>\n      <td>119.0</td>\n      <td>82.00</td>\n      <td>2720.</td>\n      <td>19.4</td>\n      <td>82</td>\n      <td>US</td>\n    </tr>\n  </tbody>\n</table>\n<p>406 rows × 9 columns</p>\n</div>"
     },
     "execution_count": 51,
     "metadata": {},
     "output_type": "execute_result"
    }
   ],
   "source": [
    "df_cars = df_cars.drop(index=0)\n",
    "df_cars"
   ],
   "metadata": {
    "collapsed": false,
    "ExecuteTime": {
     "end_time": "2023-10-06T17:06:16.879772Z",
     "start_time": "2023-10-06T17:06:16.876754Z"
    }
   }
  },
  {
   "attachments": {},
   "cell_type": "markdown",
   "metadata": {},
   "source": [
    "Let's observe the columns with null values.  Either by using the `isnull().sum()` function "
   ]
  },
  {
   "cell_type": "code",
   "execution_count": 52,
   "outputs": [
    {
     "data": {
      "text/plain": "Car             0\nMPG             3\nCylinders       0\nDisplacement    1\nHorsepower      2\nWeight          1\nAcceleration    0\nModel           0\nOrigin          0\ndtype: int64"
     },
     "execution_count": 52,
     "metadata": {},
     "output_type": "execute_result"
    }
   ],
   "source": [
    "df_cars.isnull().sum()"
   ],
   "metadata": {
    "collapsed": false,
    "ExecuteTime": {
     "end_time": "2023-10-06T17:06:20.969023Z",
     "start_time": "2023-10-06T17:06:20.947409Z"
    }
   }
  },
  {
   "attachments": {},
   "cell_type": "markdown",
   "metadata": {},
   "source": [
    "There aren't many missing values. Let's take a glimpse at the percentage of the missing values:\n",
    "\n",
    "**HINT:** We'll need `Numpy` for the below task."
   ]
  },
  {
   "cell_type": "code",
   "execution_count": 53,
   "outputs": [
    {
     "name": "stdout",
     "output_type": "stream",
     "text": [
      "0.19157088122605362\n"
     ]
    }
   ],
   "source": [
    "# df_cars.size\n",
    "total_cells=np.product(df_cars.shape)\n",
    "total_missing_cells = df_cars.isnull().sum().sum()\n",
    "# percentage of missing values\n",
    "percentage_of_na_values = (total_missing_cells/total_cells)*100\n",
    "print(percentage_of_na_values)"
   ],
   "metadata": {
    "collapsed": false,
    "ExecuteTime": {
     "end_time": "2023-10-06T17:09:08.787377Z",
     "start_time": "2023-10-06T17:09:08.759980Z"
    }
   }
  },
  {
   "attachments": {},
   "cell_type": "markdown",
   "metadata": {},
   "source": [
    "Around *0.19%* of the values are missing, which isn't a lot. Therefore, we might go with the option of dropping all the rows with null values."
   ]
  },
  {
   "cell_type": "code",
   "execution_count": 54,
   "outputs": [],
   "source": [
    "data_cleaned = df_cars.dropna()"
   ],
   "metadata": {
    "collapsed": false,
    "ExecuteTime": {
     "end_time": "2023-10-06T17:10:36.608373Z",
     "start_time": "2023-10-06T17:10:36.579896Z"
    }
   }
  },
  {
   "cell_type": "code",
   "execution_count": 58,
   "outputs": [
    {
     "data": {
      "text/plain": "1.2315270935960592"
     },
     "execution_count": 58,
     "metadata": {},
     "output_type": "execute_result"
    }
   ],
   "source": [
    "row_difference = df_cars.shape[0]-data_cleaned.shape[0]\n",
    "percentage_missing = (row_difference/df_cars.shape[0])*100\n",
    "percentage_missing\n",
    "\n",
    "# If the percentage is more than 2-3% then do not drop the null values without a proper analysis."
   ],
   "metadata": {
    "collapsed": false,
    "ExecuteTime": {
     "end_time": "2023-10-06T17:11:46.203572Z",
     "start_time": "2023-10-06T17:11:46.180037Z"
    }
   }
  },
  {
   "cell_type": "markdown",
   "source": [
    "Lets also check dropping the columns"
   ],
   "metadata": {
    "collapsed": false
   }
  },
  {
   "cell_type": "markdown",
   "source": [
    "Let's observe how many columns we lost"
   ],
   "metadata": {
    "collapsed": false
   }
  },
  {
   "attachments": {},
   "cell_type": "markdown",
   "metadata": {},
   "source": [
    "### **Cars Dataset - Filling in missing values automatically**\n",
    "\n",
    "Another option is to try and fill in the missing values through imputations."
   ]
  },
  {
   "attachments": {},
   "cell_type": "markdown",
   "metadata": {},
   "source": [
    "Let's take the `MPG` column for example. We can fill in the missing values with 0s through the following line of code:\n",
    "\n",
    "`df_cars.fillna(0) `. "
   ]
  },
  {
   "cell_type": "code",
   "execution_count": 59,
   "outputs": [
    {
     "data": {
      "text/plain": "Car             0\nMPG             0\nCylinders       0\nDisplacement    1\nHorsepower      2\nWeight          1\nAcceleration    0\nModel           0\nOrigin          0\ndtype: int64"
     },
     "execution_count": 59,
     "metadata": {},
     "output_type": "execute_result"
    }
   ],
   "source": [
    "df_cars_temp = df_cars\n",
    "df_cars_temp['MPG'].fillna(0, inplace=True)\n",
    "df_cars_temp.isnull().sum()"
   ],
   "metadata": {
    "collapsed": false,
    "ExecuteTime": {
     "end_time": "2023-10-06T17:16:39.644753Z",
     "start_time": "2023-10-06T17:16:39.611923Z"
    }
   }
  },
  {
   "attachments": {},
   "cell_type": "markdown",
   "metadata": {},
   "source": [
    "However, this does not make much sense as there isn't MPG equal to 0. How about we plot the MPG column and if it follows a random distribution we can use the mean of the column to compute the missing values. Otherwise, we can use the median (if there is a skewed normal distribution). However, there might be a better way of imputation which is getting the median or the mean of the MPG of the cars with similar attributes."
   ]
  },
  {
   "cell_type": "code",
   "execution_count": 61,
   "outputs": [
    {
     "data": {
      "text/plain": "5      17.0\n7      14.0\n8      14.0\n9      14.0\n10     15.0\n       ... \n402    27.0\n403    44.0\n404    32.0\n405    28.0\n406    31.0\nName: MPG, Length: 401, dtype: float64"
     },
     "execution_count": 61,
     "metadata": {},
     "output_type": "execute_result"
    }
   ],
   "source": [
    "import seaborn as sns\n",
    "import matplotlib.pyplot as plt\n",
    "current_MPG = data_cleaned['MPG'].astype('float')\n",
    "current_MPG"
   ],
   "metadata": {
    "collapsed": false,
    "ExecuteTime": {
     "end_time": "2023-10-06T17:17:55.487055Z",
     "start_time": "2023-10-06T17:17:55.473400Z"
    }
   }
  },
  {
   "cell_type": "code",
   "execution_count": 69,
   "outputs": [],
   "source": [
    "current_MPG_sorted = current_MPG.sort_values(ascending=True)"
   ],
   "metadata": {
    "collapsed": false,
    "ExecuteTime": {
     "end_time": "2023-10-06T17:20:50.263139Z",
     "start_time": "2023-10-06T17:20:50.257458Z"
    }
   }
  },
  {
   "cell_type": "code",
   "execution_count": 70,
   "outputs": [
    {
     "data": {
      "text/plain": "<Axes: ylabel='Frequency'>"
     },
     "execution_count": 70,
     "metadata": {},
     "output_type": "execute_result"
    },
    {
     "data": {
      "text/plain": "<Figure size 640x480 with 1 Axes>",
      "image/png": "[encoded data removed]"
     },
     "metadata": {},
     "output_type": "display_data"
    }
   ],
   "source": [
    "bins = [0,10,20,30,40,50]\n",
    "current_MPG_sorted.plot.hist(bins=bins)"
   ],
   "metadata": {
    "collapsed": false,
    "ExecuteTime": {
     "end_time": "2023-10-06T17:21:21.854599Z",
     "start_time": "2023-10-06T17:21:21.764686Z"
    }
   }
  },
  {
   "cell_type": "code",
   "execution_count": 72,
   "outputs": [
    {
     "data": {
      "text/plain": "<Axes: xlabel='MPG', ylabel='Count'>"
     },
     "execution_count": 72,
     "metadata": {},
     "output_type": "execute_result"
    },
    {
     "data": {
      "text/plain": "<Figure size 640x480 with 1 Axes>",
      "image/png": "[encoded data removed]"
     },
     "metadata": {},
     "output_type": "display_data"
    }
   ],
   "source": [
    "sns.histplot(x=current_MPG_sorted, bins=bins, kde=True)"
   ],
   "metadata": {
    "collapsed": false,
    "ExecuteTime": {
     "end_time": "2023-10-06T17:22:03.667534Z",
     "start_time": "2023-10-06T17:22:03.555934Z"
    }
   }
  },
  {
   "attachments": {},
   "cell_type": "markdown",
   "metadata": {},
   "source": [
    "If we observe the graph above, we can consider it in a way or another normally distributed. Therefore, we can impute the missing values using the mean."
   ]
  },
  {
   "attachments": {},
   "cell_type": "markdown",
   "metadata": {},
   "source": [
    "To compute the mean we need numeric values. However the values in the dataframe are objects. Therefore, we need to change them to numerics so that we can compute them."
   ]
  },
  {
   "attachments": {},
   "cell_type": "markdown",
   "metadata": {},
   "source": [
    "Now let's see what is the mean of the MPG column"
   ]
  },
  {
   "cell_type": "code",
   "execution_count": 74,
   "outputs": [
    {
     "data": {
      "text/plain": "23.134164588528677"
     },
     "execution_count": 74,
     "metadata": {},
     "output_type": "execute_result"
    }
   ],
   "source": [
    "mean = current_MPG_sorted.mean()"
   ],
   "metadata": {
    "collapsed": false,
    "ExecuteTime": {
     "end_time": "2023-10-06T17:23:28.206594Z",
     "start_time": "2023-10-06T17:23:28.184049Z"
    }
   }
  },
  {
   "attachments": {},
   "cell_type": "markdown",
   "metadata": {},
   "source": [
    "We can use this mean to compute the missing values since the graph demonstarted a normal distribution"
   ]
  },
  {
   "cell_type": "code",
   "execution_count": 76,
   "outputs": [
    {
     "data": {
      "text/plain": "                           Car   MPG Cylinders Displacement Horsepower Weight  \\\n1    Chevrolet Chevelle Malibu     0         8        307.0      130.0  3504.   \n2            Buick Skylark 320  15.0         8        350.0        NaN  3693.   \n3           Plymouth Satellite     0         8        318.0      150.0  3436.   \n4                AMC Rebel SST  16.0         8          NaN      150.0    NaN   \n5                  Ford Torino  17.0         8        302.0      140.0  3449.   \n..                         ...   ...       ...          ...        ...    ...   \n402            Ford Mustang GL  27.0         4        140.0      86.00  2790.   \n403          Volkswagen Pickup  44.0         4        97.00      52.00  2130.   \n404              Dodge Rampage  32.0         4        135.0      84.00  2295.   \n405                Ford Ranger  28.0         4        120.0      79.00  2625.   \n406                 Chevy S-10  31.0         4        119.0      82.00  2720.   \n\n    Acceleration Model  Origin  \n1           12.0    70      US  \n2           11.5    70      US  \n3           11.0    70      US  \n4           12.0    70      US  \n5           10.5    70      US  \n..           ...   ...     ...  \n402         15.6    82      US  \n403         24.6    82  Europe  \n404         11.6    82      US  \n405         18.6    82      US  \n406         19.4    82      US  \n\n[406 rows x 9 columns]",
      "text/html": "<div>\n<style scoped>\n    .dataframe tbody tr th:only-of-type {\n        vertical-align: middle;\n    }\n\n    .dataframe tbody tr th {\n        vertical-align: top;\n    }\n\n    .dataframe thead th {\n        text-align: right;\n    }\n</style>\n<table border=\"1\" class=\"dataframe\">\n  <thead>\n    <tr style=\"text-align: right;\">\n      <th></th>\n      <th>Car</th>\n      <th>MPG</th>\n      <th>Cylinders</th>\n      <th>Displacement</th>\n      <th>Horsepower</th>\n      <th>Weight</th>\n      <th>Acceleration</th>\n      <th>Model</th>\n      <th>Origin</th>\n    </tr>\n  </thead>\n  <tbody>\n    <tr>\n      <th>1</th>\n      <td>Chevrolet Chevelle Malibu</td>\n      <td>0</td>\n      <td>8</td>\n      <td>307.0</td>\n      <td>130.0</td>\n      <td>3504.</td>\n      <td>12.0</td>\n      <td>70</td>\n      <td>US</td>\n    </tr>\n    <tr>\n      <th>2</th>\n      <td>Buick Skylark 320</td>\n      <td>15.0</td>\n      <td>8</td>\n      <td>350.0</td>\n      <td>NaN</td>\n      <td>3693.</td>\n      <td>11.5</td>\n      <td>70</td>\n      <td>US</td>\n    </tr>\n    <tr>\n      <th>3</th>\n      <td>Plymouth Satellite</td>\n      <td>0</td>\n      <td>8</td>\n      <td>318.0</td>\n      <td>150.0</td>\n      <td>3436.</td>\n      <td>11.0</td>\n      <td>70</td>\n      <td>US</td>\n    </tr>\n    <tr>\n      <th>4</th>\n      <td>AMC Rebel SST</td>\n      <td>16.0</td>\n      <td>8</td>\n      <td>NaN</td>\n      <td>150.0</td>\n      <td>NaN</td>\n      <td>12.0</td>\n      <td>70</td>\n      <td>US</td>\n    </tr>\n    <tr>\n      <th>5</th>\n      <td>Ford Torino</td>\n      <td>17.0</td>\n      <td>8</td>\n      <td>302.0</td>\n      <td>140.0</td>\n      <td>3449.</td>\n      <td>10.5</td>\n      <td>70</td>\n      <td>US</td>\n    </tr>\n    <tr>\n      <th>...</th>\n      <td>...</td>\n      <td>...</td>\n      <td>...</td>\n      <td>...</td>\n      <td>...</td>\n      <td>...</td>\n      <td>...</td>\n      <td>...</td>\n      <td>...</td>\n    </tr>\n    <tr>\n      <th>402</th>\n      <td>Ford Mustang GL</td>\n      <td>27.0</td>\n      <td>4</td>\n      <td>140.0</td>\n      <td>86.00</td>\n      <td>2790.</td>\n      <td>15.6</td>\n      <td>82</td>\n      <td>US</td>\n    </tr>\n    <tr>\n      <th>403</th>\n      <td>Volkswagen Pickup</td>\n      <td>44.0</td>\n      <td>4</td>\n      <td>97.00</td>\n      <td>52.00</td>\n      <td>2130.</td>\n      <td>24.6</td>\n      <td>82</td>\n      <td>Europe</td>\n    </tr>\n    <tr>\n      <th>404</th>\n      <td>Dodge Rampage</td>\n      <td>32.0</td>\n      <td>4</td>\n      <td>135.0</td>\n      <td>84.00</td>\n      <td>2295.</td>\n      <td>11.6</td>\n      <td>82</td>\n      <td>US</td>\n    </tr>\n    <tr>\n      <th>405</th>\n      <td>Ford Ranger</td>\n      <td>28.0</td>\n      <td>4</td>\n      <td>120.0</td>\n      <td>79.00</td>\n      <td>2625.</td>\n      <td>18.6</td>\n      <td>82</td>\n      <td>US</td>\n    </tr>\n    <tr>\n      <th>406</th>\n      <td>Chevy S-10</td>\n      <td>31.0</td>\n      <td>4</td>\n      <td>119.0</td>\n      <td>82.00</td>\n      <td>2720.</td>\n      <td>19.4</td>\n      <td>82</td>\n      <td>US</td>\n    </tr>\n  </tbody>\n</table>\n<p>406 rows × 9 columns</p>\n</div>"
     },
     "execution_count": 76,
     "metadata": {},
     "output_type": "execute_result"
    }
   ],
   "source": [
    "df_cars_temp['MPG'].fillna(mean, inplace=True)\n",
    "df_cars_temp"
   ],
   "metadata": {
    "collapsed": false,
    "ExecuteTime": {
     "end_time": "2023-10-06T17:28:43.742595Z",
     "start_time": "2023-10-06T17:28:43.724806Z"
    }
   }
  },
  {
   "attachments": {},
   "cell_type": "markdown",
   "metadata": {},
   "source": [
    "### **Car Dataset - Simple Imputer**"
   ]
  },
  {
   "attachments": {},
   "cell_type": "markdown",
   "metadata": {},
   "source": [
    "*SimpleImputer* is a `scikit-learn` class which is helpful in handling the missing data in the predictive model dataset. It replaces the `NaN` values with a specified placeholder.\n",
    "It is implemented by the use of the `SimpleImputer()` method which takes the following arguments :\n",
    "\n",
    "`missing_values` : The missing_values placeholder which has to be imputed. By default is NaN\n",
    "\n",
    "`strategy` : The data which will replace the NaN values from the dataset. The strategy argument can take the values – ‘mean'(default), ‘median’, ‘most_frequent’ and ‘constant’.\n"
   ]
  },
  {
   "attachments": {},
   "cell_type": "markdown",
   "metadata": {},
   "source": [
    "Let's start by importing the `SimpleImputer` into our notebook"
   ]
  },
  {
   "attachments": {},
   "cell_type": "markdown",
   "metadata": {},
   "source": [
    "What we need to do are two essential steps:\n",
    "\n",
    "1. fit the data (compute the mean / median / most freq)\n",
    "2. transform the data (place the computed values in the NaN cells)"
   ]
  },
  {
   "cell_type": "code",
   "execution_count": 81,
   "metadata": {
    "ExecuteTime": {
     "end_time": "2023-10-06T17:35:50.295724Z",
     "start_time": "2023-10-06T17:35:50.113016Z"
    }
   },
   "outputs": [
    {
     "data": {
      "text/plain": "SimpleImputer()",
      "text/html": "<style>#sk-container-id-1 {color: black;}#sk-container-id-1 pre{padding: 0;}#sk-container-id-1 div.sk-toggleable {background-color: white;}#sk-container-id-1 label.sk-toggleable__label {cursor: pointer;display: block;width: 100%;margin-bottom: 0;padding: 0.3em;box-sizing: border-box;text-align: center;}#sk-container-id-1 label.sk-toggleable__label-arrow:before {content: \"▸\";float: left;margin-right: 0.25em;color: #696969;}#sk-container-id-1 label.sk-toggleable__label-arrow:hover:before {color: black;}#sk-container-id-1 div.sk-estimator:hover label.sk-toggleable__label-arrow:before {color: black;}#sk-container-id-1 div.sk-toggleable__content {max-height: 0;max-width: 0;overflow: hidden;text-align: left;background-color: #f0f8ff;}#sk-container-id-1 div.sk-toggleable__content pre {margin: 0.2em;color: black;border-radius: 0.25em;background-color: #f0f8ff;}#sk-container-id-1 input.sk-toggleable__control:checked~div.sk-toggleable__content {max-height: 200px;max-width: 100%;overflow: auto;}#sk-container-id-1 input.sk-toggleable__control:checked~label.sk-toggleable__label-arrow:before {content: \"▾\";}#sk-container-id-1 div.sk-estimator input.sk-toggleable__control:checked~label.sk-toggleable__label {background-color: #d4ebff;}#sk-container-id-1 div.sk-label input.sk-toggleable__control:checked~label.sk-toggleable__label {background-color: #d4ebff;}#sk-container-id-1 input.sk-hidden--visually {border: 0;clip: rect(1px 1px 1px 1px);clip: rect(1px, 1px, 1px, 1px);height: 1px;margin: -1px;overflow: hidden;padding: 0;position: absolute;width: 1px;}#sk-container-id-1 div.sk-estimator {font-family: monospace;background-color: #f0f8ff;border: 1px dotted black;border-radius: 0.25em;box-sizing: border-box;margin-bottom: 0.5em;}#sk-container-id-1 div.sk-estimator:hover {background-color: #d4ebff;}#sk-container-id-1 div.sk-parallel-item::after {content: \"\";width: 100%;border-bottom: 1px solid gray;flex-grow: 1;}#sk-container-id-1 div.sk-label:hover label.sk-toggleable__label {background-color: #d4ebff;}#sk-container-id-1 div.sk-serial::before {content: \"\";position: absolute;border-left: 1px solid gray;box-sizing: border-box;top: 0;bottom: 0;left: 50%;z-index: 0;}#sk-container-id-1 div.sk-serial {display: flex;flex-direction: column;align-items: center;background-color: white;padding-right: 0.2em;padding-left: 0.2em;position: relative;}#sk-container-id-1 div.sk-item {position: relative;z-index: 1;}#sk-container-id-1 div.sk-parallel {display: flex;align-items: stretch;justify-content: center;background-color: white;position: relative;}#sk-container-id-1 div.sk-item::before, #sk-container-id-1 div.sk-parallel-item::before {content: \"\";position: absolute;border-left: 1px solid gray;box-sizing: border-box;top: 0;bottom: 0;left: 50%;z-index: -1;}#sk-container-id-1 div.sk-parallel-item {display: flex;flex-direction: column;z-index: 1;position: relative;background-color: white;}#sk-container-id-1 div.sk-parallel-item:first-child::after {align-self: flex-end;width: 50%;}#sk-container-id-1 div.sk-parallel-item:last-child::after {align-self: flex-start;width: 50%;}#sk-container-id-1 div.sk-parallel-item:only-child::after {width: 0;}#sk-container-id-1 div.sk-dashed-wrapped {border: 1px dashed gray;margin: 0 0.4em 0.5em 0.4em;box-sizing: border-box;padding-bottom: 0.4em;background-color: white;}#sk-container-id-1 div.sk-label label {font-family: monospace;font-weight: bold;display: inline-block;line-height: 1.2em;}#sk-container-id-1 div.sk-label-container {text-align: center;}#sk-container-id-1 div.sk-container {/* jupyter's `normalize.less` sets `[hidden] { display: none; }` but bootstrap.min.css set `[hidden] { display: none !important; }` so we also need the `!important` here to be able to override the default hidden behavior on the sphinx rendered scikit-learn.org. See: https://github.com/scikit-learn/scikit-learn/issues/21755 */display: inline-block !important;position: relative;}#sk-container-id-1 div.sk-text-repr-fallback {display: none;}</style><div id=\"sk-container-id-1\" class=\"sk-top-container\"><div class=\"sk-text-repr-fallback\"><pre>SimpleImputer()</pre><b>In a Jupyter environment, please rerun this cell to show the HTML representation or trust the notebook. <br />On GitHub, the HTML representation is unable to render, please try loading this page with nbviewer.org.</b></div><div class=\"sk-container\" hidden><div class=\"sk-item\"><div class=\"sk-estimator sk-toggleable\"><input class=\"sk-toggleable__control sk-hidden--visually\" id=\"sk-estimator-id-1\" type=\"checkbox\" checked><label for=\"sk-estimator-id-1\" class=\"sk-toggleable__label sk-toggleable__label-arrow\">SimpleImputer</label><div class=\"sk-toggleable__content\"><pre>SimpleImputer()</pre></div></div></div></div></div>"
     },
     "execution_count": 81,
     "metadata": {},
     "output_type": "execute_result"
    }
   ],
   "source": [
    "from sklearn.impute import SimpleImputer\n",
    "# strategy = \"median\", 'mode', 'mean', 'constant' --> fill value, \n",
    "imputer = SimpleImputer(missing_values = np.nan, strategy = 'mean')\n",
    "imputer.fit(df_cars.iloc[:, 1:8])"
   ]
  },
  {
   "cell_type": "markdown",
   "metadata": {},
   "source": [
    "## **Outlier Detection** \n",
    "\n",
    "\n",
    "An Outlier is a data-item/object that deviates significantly from the rest of the (so-called normal)objects. They can be caused by measurement or execution errors. The analysis for outlier detection is referred to as outlier mining. There are many ways to detect the outliers, and the removal process is the data frame same as removing a data item from the panda’s data frame.\n",
    "\n",
    "\n",
    "\n",
    "https://www.geeksforgeeks.org/detect-and-remove-the-outliers-using-python/\n",
    "\n",
    "\n",
    "\n"
   ]
  },
  {
   "cell_type": "code",
   "execution_count": 82,
   "metadata": {
    "ExecuteTime": {
     "end_time": "2023-10-06T17:35:54.504422Z",
     "start_time": "2023-10-06T17:35:54.423701Z"
    }
   },
   "outputs": [
    {
     "ename": "ValueError",
     "evalue": "Per-column arrays must each be 1-dimensional",
     "output_type": "error",
     "traceback": [
      "\u001B[0;31m---------------------------------------------------------------------------\u001B[0m",
      "\u001B[0;31mValueError\u001B[0m                                Traceback (most recent call last)",
      "Cell \u001B[0;32mIn[82], line 4\u001B[0m\n\u001B[1;32m      2\u001B[0m diabetes \u001B[38;5;241m=\u001B[39m load_diabetes()\n\u001B[1;32m      3\u001B[0m columns \u001B[38;5;241m=\u001B[39m diabetes\u001B[38;5;241m.\u001B[39mfeature_names\n\u001B[0;32m----> 4\u001B[0m df_diabetics \u001B[38;5;241m=\u001B[39m \u001B[43mpd\u001B[49m\u001B[38;5;241;43m.\u001B[39;49m\u001B[43mDataFrame\u001B[49m\u001B[43m(\u001B[49m\u001B[43mdiabetes\u001B[49m\u001B[43m)\u001B[49m\n",
      "File \u001B[0;32m~/Documents/Github/venv/lib/python3.11/site-packages/pandas/core/frame.py:736\u001B[0m, in \u001B[0;36mDataFrame.__init__\u001B[0;34m(self, data, index, columns, dtype, copy)\u001B[0m\n\u001B[1;32m    730\u001B[0m     mgr \u001B[38;5;241m=\u001B[39m \u001B[38;5;28mself\u001B[39m\u001B[38;5;241m.\u001B[39m_init_mgr(\n\u001B[1;32m    731\u001B[0m         data, axes\u001B[38;5;241m=\u001B[39m{\u001B[38;5;124m\"\u001B[39m\u001B[38;5;124mindex\u001B[39m\u001B[38;5;124m\"\u001B[39m: index, \u001B[38;5;124m\"\u001B[39m\u001B[38;5;124mcolumns\u001B[39m\u001B[38;5;124m\"\u001B[39m: columns}, dtype\u001B[38;5;241m=\u001B[39mdtype, copy\u001B[38;5;241m=\u001B[39mcopy\n\u001B[1;32m    732\u001B[0m     )\n\u001B[1;32m    734\u001B[0m \u001B[38;5;28;01melif\u001B[39;00m \u001B[38;5;28misinstance\u001B[39m(data, \u001B[38;5;28mdict\u001B[39m):\n\u001B[1;32m    735\u001B[0m     \u001B[38;5;66;03m# GH#38939 de facto copy defaults to False only in non-dict cases\u001B[39;00m\n\u001B[0;32m--> 736\u001B[0m     mgr \u001B[38;5;241m=\u001B[39m \u001B[43mdict_to_mgr\u001B[49m\u001B[43m(\u001B[49m\u001B[43mdata\u001B[49m\u001B[43m,\u001B[49m\u001B[43m \u001B[49m\u001B[43mindex\u001B[49m\u001B[43m,\u001B[49m\u001B[43m \u001B[49m\u001B[43mcolumns\u001B[49m\u001B[43m,\u001B[49m\u001B[43m \u001B[49m\u001B[43mdtype\u001B[49m\u001B[38;5;241;43m=\u001B[39;49m\u001B[43mdtype\u001B[49m\u001B[43m,\u001B[49m\u001B[43m \u001B[49m\u001B[43mcopy\u001B[49m\u001B[38;5;241;43m=\u001B[39;49m\u001B[43mcopy\u001B[49m\u001B[43m,\u001B[49m\u001B[43m \u001B[49m\u001B[43mtyp\u001B[49m\u001B[38;5;241;43m=\u001B[39;49m\u001B[43mmanager\u001B[49m\u001B[43m)\u001B[49m\n\u001B[1;32m    737\u001B[0m \u001B[38;5;28;01melif\u001B[39;00m \u001B[38;5;28misinstance\u001B[39m(data, ma\u001B[38;5;241m.\u001B[39mMaskedArray):\n\u001B[1;32m    738\u001B[0m     \u001B[38;5;28;01mfrom\u001B[39;00m \u001B[38;5;21;01mnumpy\u001B[39;00m\u001B[38;5;21;01m.\u001B[39;00m\u001B[38;5;21;01mma\u001B[39;00m \u001B[38;5;28;01mimport\u001B[39;00m mrecords\n",
      "File \u001B[0;32m~/Documents/Github/venv/lib/python3.11/site-packages/pandas/core/internals/construction.py:503\u001B[0m, in \u001B[0;36mdict_to_mgr\u001B[0;34m(data, index, columns, dtype, typ, copy)\u001B[0m\n\u001B[1;32m    499\u001B[0m     \u001B[38;5;28;01melse\u001B[39;00m:\n\u001B[1;32m    500\u001B[0m         \u001B[38;5;66;03m# dtype check to exclude e.g. range objects, scalars\u001B[39;00m\n\u001B[1;32m    501\u001B[0m         arrays \u001B[38;5;241m=\u001B[39m [x\u001B[38;5;241m.\u001B[39mcopy() \u001B[38;5;28;01mif\u001B[39;00m \u001B[38;5;28mhasattr\u001B[39m(x, \u001B[38;5;124m\"\u001B[39m\u001B[38;5;124mdtype\u001B[39m\u001B[38;5;124m\"\u001B[39m) \u001B[38;5;28;01melse\u001B[39;00m x \u001B[38;5;28;01mfor\u001B[39;00m x \u001B[38;5;129;01min\u001B[39;00m arrays]\n\u001B[0;32m--> 503\u001B[0m \u001B[38;5;28;01mreturn\u001B[39;00m \u001B[43marrays_to_mgr\u001B[49m\u001B[43m(\u001B[49m\u001B[43marrays\u001B[49m\u001B[43m,\u001B[49m\u001B[43m \u001B[49m\u001B[43mcolumns\u001B[49m\u001B[43m,\u001B[49m\u001B[43m \u001B[49m\u001B[43mindex\u001B[49m\u001B[43m,\u001B[49m\u001B[43m \u001B[49m\u001B[43mdtype\u001B[49m\u001B[38;5;241;43m=\u001B[39;49m\u001B[43mdtype\u001B[49m\u001B[43m,\u001B[49m\u001B[43m \u001B[49m\u001B[43mtyp\u001B[49m\u001B[38;5;241;43m=\u001B[39;49m\u001B[43mtyp\u001B[49m\u001B[43m,\u001B[49m\u001B[43m \u001B[49m\u001B[43mconsolidate\u001B[49m\u001B[38;5;241;43m=\u001B[39;49m\u001B[43mcopy\u001B[49m\u001B[43m)\u001B[49m\n",
      "File \u001B[0;32m~/Documents/Github/venv/lib/python3.11/site-packages/pandas/core/internals/construction.py:114\u001B[0m, in \u001B[0;36marrays_to_mgr\u001B[0;34m(arrays, columns, index, dtype, verify_integrity, typ, consolidate)\u001B[0m\n\u001B[1;32m    111\u001B[0m \u001B[38;5;28;01mif\u001B[39;00m verify_integrity:\n\u001B[1;32m    112\u001B[0m     \u001B[38;5;66;03m# figure out the index, if necessary\u001B[39;00m\n\u001B[1;32m    113\u001B[0m     \u001B[38;5;28;01mif\u001B[39;00m index \u001B[38;5;129;01mis\u001B[39;00m \u001B[38;5;28;01mNone\u001B[39;00m:\n\u001B[0;32m--> 114\u001B[0m         index \u001B[38;5;241m=\u001B[39m \u001B[43m_extract_index\u001B[49m\u001B[43m(\u001B[49m\u001B[43marrays\u001B[49m\u001B[43m)\u001B[49m\n\u001B[1;32m    115\u001B[0m     \u001B[38;5;28;01melse\u001B[39;00m:\n\u001B[1;32m    116\u001B[0m         index \u001B[38;5;241m=\u001B[39m ensure_index(index)\n",
      "File \u001B[0;32m~/Documents/Github/venv/lib/python3.11/site-packages/pandas/core/internals/construction.py:664\u001B[0m, in \u001B[0;36m_extract_index\u001B[0;34m(data)\u001B[0m\n\u001B[1;32m    662\u001B[0m         raw_lengths\u001B[38;5;241m.\u001B[39mappend(\u001B[38;5;28mlen\u001B[39m(val))\n\u001B[1;32m    663\u001B[0m     \u001B[38;5;28;01melif\u001B[39;00m \u001B[38;5;28misinstance\u001B[39m(val, np\u001B[38;5;241m.\u001B[39mndarray) \u001B[38;5;129;01mand\u001B[39;00m val\u001B[38;5;241m.\u001B[39mndim \u001B[38;5;241m>\u001B[39m \u001B[38;5;241m1\u001B[39m:\n\u001B[0;32m--> 664\u001B[0m         \u001B[38;5;28;01mraise\u001B[39;00m \u001B[38;5;167;01mValueError\u001B[39;00m(\u001B[38;5;124m\"\u001B[39m\u001B[38;5;124mPer-column arrays must each be 1-dimensional\u001B[39m\u001B[38;5;124m\"\u001B[39m)\n\u001B[1;32m    666\u001B[0m \u001B[38;5;28;01mif\u001B[39;00m \u001B[38;5;129;01mnot\u001B[39;00m indexes \u001B[38;5;129;01mand\u001B[39;00m \u001B[38;5;129;01mnot\u001B[39;00m raw_lengths:\n\u001B[1;32m    667\u001B[0m     \u001B[38;5;28;01mraise\u001B[39;00m \u001B[38;5;167;01mValueError\u001B[39;00m(\u001B[38;5;124m\"\u001B[39m\u001B[38;5;124mIf using all scalar values, you must pass an index\u001B[39m\u001B[38;5;124m\"\u001B[39m)\n",
      "\u001B[0;31mValueError\u001B[0m: Per-column arrays must each be 1-dimensional"
     ]
    }
   ],
   "source": [
    "from sklearn.datasets import load_diabetes\n",
    "diabetes = load_diabetes()\n",
    "columns = diabetes.feature_names\n",
    "df_diabetics = pd.DataFrame(diabetes)"
   ]
  },
  {
   "cell_type": "markdown",
   "metadata": {},
   "source": [
    "### Outliers Visualization"
   ]
  },
  {
   "cell_type": "code",
   "execution_count": 83,
   "metadata": {
    "ExecuteTime": {
     "end_time": "2023-10-06T17:36:11.270784Z",
     "start_time": "2023-10-06T17:36:11.162870Z"
    }
   },
   "outputs": [
    {
     "ename": "NameError",
     "evalue": "name 'df_diabetics' is not defined",
     "output_type": "error",
     "traceback": [
      "\u001B[0;31m---------------------------------------------------------------------------\u001B[0m",
      "\u001B[0;31mNameError\u001B[0m                                 Traceback (most recent call last)",
      "Cell \u001B[0;32mIn[83], line 1\u001B[0m\n\u001B[0;32m----> 1\u001B[0m sns\u001B[38;5;241m.\u001B[39mboxplot(\u001B[43mdf_diabetics\u001B[49m)\n",
      "\u001B[0;31mNameError\u001B[0m: name 'df_diabetics' is not defined"
     ]
    }
   ],
   "source": [
    "sns.boxplot(df_diabetics)"
   ]
  },
  {
   "cell_type": "code",
   "execution_count": null,
   "outputs": [],
   "source": [
    "df_diabetics['Sex Category'] = df_diabetics['sex']"
   ],
   "metadata": {
    "collapsed": false
   }
  },
  {
   "cell_type": "markdown",
   "source": [
    "#### Visualizing Outliers Using Box Plot\n",
    "It captures the summary of the data effectively and efficiently with only a simple box and whiskers. Boxplot summarizes sample data using 25th, 50th, and 75th percentiles. One can just get insights(quartiles, median, and outliers) into the dataset by just looking at its boxplot."
   ],
   "metadata": {
    "collapsed": false
   }
  },
  {
   "cell_type": "markdown",
   "metadata": {},
   "source": [
    "#### Visualizing Outliers Using ScatterPlot.\n",
    "\n",
    "It is used when you have paired numerical data and when your dependent variable has multiple values for each reading independent variable, or when trying to determine the relationship between the two variables. In the process of utilizing the scatter plot, one can also use it for outlier detection."
   ]
  },
  {
   "cell_type": "code",
   "execution_count": null,
   "metadata": {},
   "outputs": [],
   "source": []
  },
  {
   "cell_type": "markdown",
   "metadata": {},
   "source": [
    "#### Z-Score:\n",
    "Z- Score is also called a standard score. This value/score helps to understand that how far is the data point from the mean. And after setting up a threshold value one can utilize z score values of data points to define the outliers.\n",
    "<br>\n",
    "Zscore = (data_point -mean) / std. deviation\n",
    "\n"
   ]
  },
  {
   "cell_type": "code",
   "execution_count": null,
   "metadata": {},
   "outputs": [],
   "source": []
  },
  {
   "cell_type": "markdown",
   "metadata": {},
   "source": [
    "Now to define an outlier threshold value is chosen which is generally 3.0. As 99.7% of the data points lie between +/- 3 standard deviation (using Gaussian Distribution approach).\n",
    "\n",
    "Rows where Z value is greater than 2"
   ]
  },
  {
   "cell_type": "code",
   "execution_count": null,
   "metadata": {},
   "outputs": [],
   "source": []
  },
  {
   "cell_type": "markdown",
   "metadata": {},
   "source": [
    "#### IQR (Inter-Quartile Range)\n",
    "Inter Quartile Range approach to finding the outliers is the most commonly used and most trusted approach used in the research field. <Br>\n",
    "IQR = Quartile3 - Quartile1"
   ]
  },
  {
   "cell_type": "code",
   "execution_count": null,
   "metadata": {},
   "outputs": [],
   "source": []
  },
  {
   "cell_type": "markdown",
   "metadata": {},
   "source": [
    "To define the outlier base value is defined above and below dataset’s normal range namely Upper and Lower bounds, define the upper and the lower bound (1.5*IQR value is considered) :<br>\n",
    "upper = Q3 + 1.5 * IQR <br>\n",
    "lower = Q1 - 1.5 * IQR <br> "
   ]
  },
  {
   "cell_type": "code",
   "execution_count": null,
   "metadata": {},
   "outputs": [],
   "source": []
  },
  {
   "cell_type": "markdown",
   "metadata": {},
   "source": [
    "- Removing the outliers:\n",
    "For removing the outlier, one must follow the same process of removing an entry from the dataset using its exact position in the dataset because in all the above methods of detecting the outliers end result is the list of all those data items that satisfy the outlier definition according to the method used."
   ]
  },
  {
   "cell_type": "code",
   "execution_count": null,
   "metadata": {},
   "outputs": [],
   "source": []
  }
 ],
 "metadata": {
  "kernelspec": {
   "display_name": "Python 3",
   "language": "python",
   "name": "python3"
  },
  "language_info": {
   "codemirror_mode": {
    "name": "ipython",
    "version": 3
   },
   "file_extension": ".py",
   "mimetype": "text/x-python",
   "name": "python",
   "nbconvert_exporter": "python",
   "pygments_lexer": "ipython3",
   "version": "3.7.7"
  },
  "orig_nbformat": 4
 },
 "nbformat": 4,
 "nbformat_minor": 2
}
