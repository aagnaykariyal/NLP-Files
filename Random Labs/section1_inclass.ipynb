{
 "cells": [
  {
   "cell_type": "markdown",
   "metadata": {},
   "source": [
    "### Lambda Functions"
   ]
  },
  {
   "cell_type": "code",
   "execution_count": 1,
   "metadata": {},
   "outputs": [
    {
     "name": "stdout",
     "output_type": "stream",
     "text": [
      "11 11\n",
      "Islam Mahmoud\n"
     ]
    }
   ],
   "source": [
    "# python function definition\n",
    "def add(x):\n",
    "    return x+1\n",
    "# changing it to lambda function\n",
    "addOne = lambda x : x+1\n",
    "print(add(10), addOne(10))\n",
    "# Lambda function takes input first and last names, returns full_name\n",
    "combineNames = lambda first, last : first + \" \" + last\n",
    "print(combineNames(\"Islam\", \"Mahmoud\"))"
   ]
  },
  {
   "cell_type": "markdown",
   "metadata": {},
   "source": [
    "### NumPy"
   ]
  },
  {
   "cell_type": "code",
   "execution_count": 2,
   "metadata": {},
   "outputs": [
    {
     "data": {
      "text/plain": [
       "'1.19.5'"
      ]
     },
     "execution_count": 2,
     "metadata": {},
     "output_type": "execute_result"
    }
   ],
   "source": [
    "import numpy as np\n",
    "np.__version__"
   ]
  },
  {
   "cell_type": "code",
   "execution_count": 3,
   "metadata": {},
   "outputs": [
    {
     "name": "stdout",
     "output_type": "stream",
     "text": [
      "[1, 2, 3] [1 2 3]\n",
      "[[1, 2, 3], [4, 5, 6]] \n",
      " [[1 2 3]\n",
      " [4 5 6]] 2\n"
     ]
    }
   ],
   "source": [
    "## Defining a list & np array of known elements\n",
    "listX = [1,2,3]\n",
    "numpyArr = np.array(listX)\n",
    "print(listX,numpyArr)\n",
    "list2D = [[1,2,3],[4,5,6]]\n",
    "numpy2D = np.array(list2D)\n",
    "## Ndim returns the number of dimensions an a numpy array\n",
    "print(list2D,'\\n', numpy2D, numpy2D.ndim)"
   ]
  },
  {
   "cell_type": "code",
   "execution_count": 4,
   "metadata": {},
   "outputs": [
    {
     "name": "stdout",
     "output_type": "stream",
     "text": [
      "[1, 2, 3, 4, 5, 6, 7, 8] [1 2 3 4 5 6 7 8]\n",
      "<class 'list'> <class 'numpy.ndarray'>\n"
     ]
    }
   ],
   "source": [
    "## Creating a list/numpy arr from min to max with steps\n",
    "listOfElements = list(range(1,9))\n",
    "numpyArrOfElements = np.arange(start=1,stop=9, step=1)\n",
    "print(listOfElements, numpyArrOfElements)\n",
    "print(type(listOfElements), type(numpyArrOfElements))"
   ]
  },
  {
   "cell_type": "code",
   "execution_count": 5,
   "metadata": {},
   "outputs": [
    {
     "name": "stdout",
     "output_type": "stream",
     "text": [
      "[[[1 2 3 4 5 6 7 8]]]\n",
      "[[[1 2]\n",
      "  [3 4]]\n",
      "\n",
      " [[5 6]\n",
      "  [7 8]]]\n"
     ]
    }
   ],
   "source": [
    "## Creating an array of minimum n=3 dimensions\n",
    "arr3D = np.array(listOfElements, ndmin=3)\n",
    "print(arr3D)\n",
    "## If the elements must fit in a n*2*2 -> returns reshaped array into shape of (min,2,2)\n",
    "## Reshape takes as an input the dimensions comma seperated\n",
    "arr3DReshaped=arr3D.reshape(-1,2,2)\n",
    "print(arr3DReshaped)"
   ]
  },
  {
   "cell_type": "code",
   "execution_count": 6,
   "metadata": {},
   "outputs": [
    {
     "name": "stdout",
     "output_type": "stream",
     "text": [
      "2 2\n",
      "[1 2] [1 2]\n",
      "8\n"
     ]
    }
   ],
   "source": [
    "## Accessing elements in one dimesnional numpy array similar to python lists\n",
    "print(numpyArr[1], listX[1])\n",
    "## Accessing element sin multi-dimensional numpy arrays can be done in 2 ways\n",
    "print(arr3DReshaped[0,0], arr3DReshaped[0][0])\n",
    "## Accessing last element in an array (Think of it as circular array from -len to len-1)\n",
    "print(numpyArrOfElements[-1])"
   ]
  },
  {
   "cell_type": "code",
   "execution_count": 7,
   "metadata": {},
   "outputs": [
    {
     "name": "stdout",
     "output_type": "stream",
     "text": [
      "[2 4 6 8] [7 8] [1 2 3 4 5 6]\n"
     ]
    }
   ],
   "source": [
    "## Array Slicing --> Extract elements based on given indices\n",
    "print(numpyArrOfElements[1:8:2], numpyArrOfElements[-2:],\n",
    "      numpyArrOfElements[:-2])"
   ]
  },
  {
   "cell_type": "code",
   "execution_count": 8,
   "metadata": {},
   "outputs": [
    {
     "name": "stdout",
     "output_type": "stream",
     "text": [
      "[100   2   3   4   5   6   7   8]\n",
      "[1 2 3 4 5 6 7 8] [1 2 3 4 5 6 7 8] [100   2   3   4   5   6   7   8]\n"
     ]
    }
   ],
   "source": [
    "numpyArrOfElements2 = numpyArrOfElements\n",
    "numpyArrOfElements[0] =100\n",
    "print(numpyArrOfElements2)\n",
    "numpyArrOfElements3 = numpyArrOfElements.copy()\n",
    "numpyArrOfElements[0]=1\n",
    "print(numpyArrOfElements, numpyArrOfElements2, numpyArrOfElements3)"
   ]
  },
  {
   "cell_type": "code",
   "execution_count": 9,
   "metadata": {},
   "outputs": [
    {
     "data": {
      "text/plain": [
       "array([[1, 2, 3],\n",
       "       [1, 2, 3]])"
      ]
     },
     "execution_count": 9,
     "metadata": {},
     "output_type": "execute_result"
    }
   ],
   "source": [
    "## 3 Function usually used to initiate an array of given size\n",
    "## Given size of zeros\n",
    "zerosArray = np.zeros((2,4))\n",
    "onesArray = np.ones((2,4))\n",
    "fullArray = np.full((2,3), np.array([1,2,3]))\n",
    "fullArray"
   ]
  },
  {
   "cell_type": "code",
   "execution_count": 10,
   "metadata": {},
   "outputs": [
    {
     "name": "stdout",
     "output_type": "stream",
     "text": [
      "[ 0  1  2  9 10 11]\n",
      "[[ 0  1  2]\n",
      " [ 3  4  5]\n",
      " [ 6  7  8]\n",
      " [ 9 10 11]]\n",
      "[[ 0  1  2  9]\n",
      " [ 3  4  5 10]\n",
      " [ 6  7  8 11]]\n",
      "[[ 0  1  2]\n",
      " [ 3  4  5]\n",
      " [ 6  7  8]\n",
      " [ 9 10 11]]\n"
     ]
    }
   ],
   "source": [
    "## Concatenate 2 1d Arrays in numpy\n",
    "firstArray = np.arange(0,3)\n",
    "secondArray = np.arange(9,12)\n",
    "print(np.concatenate((firstArray, secondArray)))\n",
    "## What if: You would like to use concatenation to add a row to a 2D array\n",
    "array2DConcat = np.arange(0,9).reshape(3,3)\n",
    "print(np.concatenate((array2DConcat, secondArray.reshape(-1,3))))\n",
    "# Simpler function for adding rows/columns you have --> vstack/hstack\n",
    "stackedArray = np.hstack((array2DConcat, secondArray.reshape(3,-1)))\n",
    "print(stackedArray)\n",
    "stackedArrayVertical = np.vstack((array2DConcat, secondArray))\n",
    "print(stackedArrayVertical)"
   ]
  },
  {
   "cell_type": "code",
   "execution_count": 11,
   "metadata": {},
   "outputs": [
    {
     "name": "stdout",
     "output_type": "stream",
     "text": [
      "[[2]\n",
      " [1]]\n",
      "[[ 3  6  1]\n",
      " [ 2 23 56]\n",
      " [ 1 45 -1]] \n",
      " [[ 1  6 -1]\n",
      " [ 2 23  1]\n",
      " [ 3 45 56]] \n",
      " [[ 1  3  6]\n",
      " [ 2 23 56]\n",
      " [-1  1 45]]\n",
      "[[-1  1  1]\n",
      " [ 2  3  6]\n",
      " [23 45 56]]\n"
     ]
    }
   ],
   "source": [
    "## Return the indices (dimension-wise) where the condition is true\n",
    "print(np.array(np.where(stackedArrayVertical==7)))\n",
    "## Sorting numpy array\n",
    "npUnsorted = np.array([[3,6,1], [2,23,56], [1,45,-1]])\n",
    "print(npUnsorted, '\\n', np.sort(npUnsorted, axis=0), '\\n', np.sort(npUnsorted))\n",
    "## What if: [[-1,1,1], ..]\n",
    "## Sorting All Elements\n",
    "## 1. Flatten (array becomes one dimensional array)\n",
    "## 2. Sort the array\n",
    "## 3. Reshape to original shape\n",
    "print(np.sort(npUnsorted.flatten()).reshape(npUnsorted.shape))"
   ]
  },
  {
   "cell_type": "code",
   "execution_count": 12,
   "metadata": {},
   "outputs": [
    {
     "data": {
      "text/plain": [
       "array([ 3,  6,  1,  2,  1, -1])"
      ]
     },
     "execution_count": 12,
     "metadata": {},
     "output_type": "execute_result"
    }
   ],
   "source": [
    "## Extracting elements based on filter criteria inside where clause\n",
    "npUnsorted[np.where(npUnsorted<20)]"
   ]
  },
  {
   "cell_type": "code",
   "execution_count": 17,
   "metadata": {},
   "outputs": [
    {
     "name": "stdout",
     "output_type": "stream",
     "text": [
      "[[7 1]\n",
      " [0 1]\n",
      " [4 6]\n",
      " [5 9]\n",
      " [1 6]\n",
      " [2 9]\n",
      " [6 3]\n",
      " [6 5]\n",
      " [7 8]\n",
      " [6 7]]\n"
     ]
    },
    {
     "data": {
      "text/plain": [
       "array([[0.61088893, 0.88426288],\n",
       "       [0.79283995, 0.64140056]])"
      ]
     },
     "execution_count": 17,
     "metadata": {},
     "output_type": "execute_result"
    }
   ],
   "source": [
    "## Creating random np array with size given\n",
    "randomIntArr = np.random.randint(0,10, size=(10,2))\n",
    "print(randomIntArr)\n",
    "np.random.rand(2,2) ## NOTE: 0 and 1 are unexpected values (1 in a million chance)"
   ]
  },
  {
   "cell_type": "markdown",
   "metadata": {},
   "source": [
    "## Pandas"
   ]
  },
  {
   "cell_type": "code",
   "execution_count": 18,
   "metadata": {},
   "outputs": [
    {
     "name": "stdout",
     "output_type": "stream",
     "text": [
      "1.3.0\n"
     ]
    }
   ],
   "source": [
    "import pandas as pd\n",
    "print(pd.__version__)"
   ]
  },
  {
   "cell_type": "code",
   "execution_count": 25,
   "metadata": {},
   "outputs": [
    {
     "name": "stdout",
     "output_type": "stream",
     "text": [
      "0    1.0\n",
      "1    2.0\n",
      "2    3.0\n",
      "3    NaN\n",
      "dtype: float64 RangeIndex(start=0, stop=4, step=1)\n",
      "DatetimeIndex(['2023-09-30', '2023-10-31', '2023-11-30'], dtype='datetime64[ns]', freq='M') DatetimeIndex(['2023-09-01 00:00:00', '2023-09-04 16:00:00',\n",
      "               '2023-09-08 08:00:00', '2023-09-12 00:00:00'],\n",
      "              dtype='datetime64[ns]', freq=None)\n"
     ]
    }
   ],
   "source": [
    "## Note: Notice the index\n",
    "creatingPdSeries = pd.Series([1,2,3,np.nan])\n",
    "print(creatingPdSeries, creatingPdSeries.index)\n",
    "## PD Date Range\n",
    "## Note: The frequency and periods usage check pd documentation\n",
    "print(pd.date_range(\"09/01/2023\", \"12/22/2023\", freq=\"m\"), \n",
    "      pd.date_range(\"09/01/2023\",\"09/12/2023\", periods=4))"
   ]
  },
  {
   "cell_type": "code",
   "execution_count": 30,
   "metadata": {},
   "outputs": [
    {
     "data": {
      "text/html": [
       "<div>\n",
       "<style scoped>\n",
       "    .dataframe tbody tr th:only-of-type {\n",
       "        vertical-align: middle;\n",
       "    }\n",
       "\n",
       "    .dataframe tbody tr th {\n",
       "        vertical-align: top;\n",
       "    }\n",
       "\n",
       "    .dataframe thead th {\n",
       "        text-align: right;\n",
       "    }\n",
       "</style>\n",
       "<table border=\"1\" class=\"dataframe\">\n",
       "  <thead>\n",
       "    <tr style=\"text-align: right;\">\n",
       "      <th></th>\n",
       "      <th>Name</th>\n",
       "      <th>Price</th>\n",
       "      <th>Quantity</th>\n",
       "    </tr>\n",
       "  </thead>\n",
       "  <tbody>\n",
       "    <tr>\n",
       "      <th>0</th>\n",
       "      <td>Strawberry</td>\n",
       "      <td>5</td>\n",
       "      <td>20</td>\n",
       "    </tr>\n",
       "    <tr>\n",
       "      <th>1</th>\n",
       "      <td>Raspberry</td>\n",
       "      <td>8</td>\n",
       "      <td>100</td>\n",
       "    </tr>\n",
       "    <tr>\n",
       "      <th>2</th>\n",
       "      <td>Banana</td>\n",
       "      <td>1</td>\n",
       "      <td>200</td>\n",
       "    </tr>\n",
       "  </tbody>\n",
       "</table>\n",
       "</div>"
      ],
      "text/plain": [
       "         Name  Price  Quantity\n",
       "0  Strawberry      5        20\n",
       "1   Raspberry      8       100\n",
       "2      Banana      1       200"
      ]
     },
     "metadata": {},
     "output_type": "display_data"
    },
    {
     "data": {
      "text/html": [
       "<div>\n",
       "<style scoped>\n",
       "    .dataframe tbody tr th:only-of-type {\n",
       "        vertical-align: middle;\n",
       "    }\n",
       "\n",
       "    .dataframe tbody tr th {\n",
       "        vertical-align: top;\n",
       "    }\n",
       "\n",
       "    .dataframe thead th {\n",
       "        text-align: right;\n",
       "    }\n",
       "</style>\n",
       "<table border=\"1\" class=\"dataframe\">\n",
       "  <thead>\n",
       "    <tr style=\"text-align: right;\">\n",
       "      <th></th>\n",
       "      <th>Names</th>\n",
       "      <th>Price</th>\n",
       "      <th>Quantity</th>\n",
       "    </tr>\n",
       "  </thead>\n",
       "  <tbody>\n",
       "    <tr>\n",
       "      <th>0</th>\n",
       "      <td>Strawberry</td>\n",
       "      <td>5</td>\n",
       "      <td>20</td>\n",
       "    </tr>\n",
       "    <tr>\n",
       "      <th>1</th>\n",
       "      <td>Raspberry</td>\n",
       "      <td>8</td>\n",
       "      <td>100</td>\n",
       "    </tr>\n",
       "    <tr>\n",
       "      <th>2</th>\n",
       "      <td>Banana</td>\n",
       "      <td>1</td>\n",
       "      <td>200</td>\n",
       "    </tr>\n",
       "  </tbody>\n",
       "</table>\n",
       "</div>"
      ],
      "text/plain": [
       "        Names  Price  Quantity\n",
       "0  Strawberry      5        20\n",
       "1   Raspberry      8       100\n",
       "2      Banana      1       200"
      ]
     },
     "metadata": {},
     "output_type": "display_data"
    },
    {
     "data": {
      "text/plain": [
       "(        Names  Price  Quantity\n",
       " 0  Strawberry      5        20,\n",
       "         Name  Price  Quantity\n",
       " 1  Raspberry      8       100\n",
       " 2     Banana      1       200)"
      ]
     },
     "execution_count": 30,
     "metadata": {},
     "output_type": "execute_result"
    }
   ],
   "source": [
    "numpyArrayOfFP = [[\"Strawberry\", 5, 20],\n",
    "                  [\"Raspberry\", 8, 100],\n",
    "                  [\"Banana\", 1, 200]]\n",
    "fpDataframe = pd.DataFrame(numpyArrayOfFP, index=[0,1,2], columns=[\"Name\", \"Price\", \"Quantity\"])\n",
    "display(fpDataframe)\n",
    "dictionaryFP = {\"Names\": [\"Strawberry\", \"Raspberry\", \"Banana\"],\n",
    "                \"Price\":[5,8,1],\n",
    "                \"Quantity\":[20,100,200]}\n",
    "dataframeFromDict=pd.DataFrame(dictionaryFP)\n",
    "display(dataframeFromDict)\n",
    "dataframeFromDict.head(1), fpDataframe.tail(2)"
   ]
  },
  {
   "cell_type": "code",
   "execution_count": null,
   "metadata": {},
   "outputs": [],
   "source": []
  }
 ],
 "metadata": {
  "kernelspec": {
   "display_name": "Python 3",
   "language": "python",
   "name": "python3"
  },
  "language_info": {
   "codemirror_mode": {
    "name": "ipython",
    "version": 3
   },
   "file_extension": ".py",
   "mimetype": "text/x-python",
   "name": "python",
   "nbconvert_exporter": "python",
   "pygments_lexer": "ipython3",
   "version": "3.7.7"
  },
  "orig_nbformat": 4
 },
 "nbformat": 4,
 "nbformat_minor": 2
}
