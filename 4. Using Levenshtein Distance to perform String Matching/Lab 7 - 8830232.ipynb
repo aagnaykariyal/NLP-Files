{
 "cells": [
  {
   "cell_type": "markdown",
   "metadata": {},
   "source": [
    "### Lab_7_Inclass_Assignment\n",
    "- Name: Aagnay Kariyal\n",
    "- Student ID: 8830232\n"
   ]
  },
  {
   "cell_type": "markdown",
   "metadata": {},
   "source": [
    "##### Data Integration: Approximate String Matching\n",
    "1- Implement FROM SCRATCH the approximate string matching functionality using Levenshtein Distance\n",
    "- Levenshtein Distance between two strings a,b of length |a| and |b| is calculated by creating a matrix of dimensions |a+1|x|b+1| and then filling the matrix by the following equation:<br>\n",
    "lev<sub>a,b</sub>(i,j) = <br>\n",
    "a. max(i,j) IF min(i,j)=0<br>\n",
    "b. minimum of:    \n",
    "    <ol> <li>lev<sub>a,b</sub>(i-1,j)+1</li>\n",
    "    <li>lev<sub>a,b</sub>(i,j-1)+1</li>\n",
    "    <li>lev<sub>a,b</sub>(i-1,j-1)+ \n",
    "            *1 if (a<sub>i</sub> != b<sub>j</sub>), 0 otherwise*</li> </ol>"
   ]
  },
  {
   "cell_type": "code",
   "execution_count": 188,
   "metadata": {
    "ExecuteTime": {
     "end_time": "2023-10-21T01:05:30.343643Z",
     "start_time": "2023-10-21T01:05:30.132247Z"
    }
   },
   "outputs": [],
   "source": [
    "# Importing Dependencies\n",
    "import pandas as pd\n",
    "import numpy as np\n",
    "import re"
   ]
  },
  {
   "cell_type": "code",
   "execution_count": 189,
   "metadata": {
    "ExecuteTime": {
     "end_time": "2023-10-21T01:05:30.344316Z",
     "start_time": "2023-10-21T01:05:30.140784Z"
    }
   },
   "outputs": [],
   "source": [
    "def calculate_levenshtein_distance(string_a, string_b): # Creating a function to get the levenshtein distance\n",
    "    ## TODO: Write the functionality that calculates how many edit operations are required to change one string into another\n",
    "    ## Example: Distance \"HONDA\" to \"HYUNDAI\" is 3, where the operations are adding \"Y\" after H in Honda\n",
    "    ## Then replacing O with Y, then keeping N, keeping D, keeping A, adding I.\n",
    "    \n",
    "    # Adding 1 to the length of the string to have enough cells in the matrices\n",
    "    length_a = len(string_a) + 1 \n",
    "    length_b = len(string_b) + 1\n",
    "    matrix = np.zeros([length_a, length_b]) # Creating a matrix\n",
    "    \n",
    "    # Using a for loop to impute values in their location\n",
    "    for x in range(length_a):\n",
    "        matrix[x][0] = x\n",
    "    for y in range(length_b):\n",
    "        matrix[0][y] = y\n",
    "        \n",
    "    # Using a for loop to iterate through every cell and implement the levenshtein equations    \n",
    "    for x in range(1, length_a):\n",
    "        for y in range(1, length_b):\n",
    "            deletion = matrix[x-1][y] + 1 # Deletion equation with the matrix\n",
    "            insertion = matrix[x][y-1] + 1 # Insertion equation with the matrix\n",
    "            if string_a[x-1] == string_b[y-1]: # Substitution conditional check\n",
    "                subs = 0\n",
    "            else:\n",
    "                subs = 1\n",
    "            substitution = matrix[x-1][y-1] + subs # Inserting the substitution value\n",
    "            \n",
    "            matrix[x][y] = min(deletion, insertion, substitution) # Inserting the minimum value out of the three processes into the bottom right cell of the matrix\n",
    "    return int(matrix[length_a-1, length_b-1]) # Returning the value at the bottom right cell of the matrix after convering it into an int"
   ]
  },
  {
   "cell_type": "markdown",
   "metadata": {},
   "source": [
    "2- Using the implemented Levenshtein's distance, merge the following dataframes based on the closest match for the \"Name\" attribute. (You will need to find first the matching pairs)"
   ]
  },
  {
   "cell_type": "code",
   "execution_count": 190,
   "metadata": {
    "ExecuteTime": {
     "end_time": "2023-10-21T01:05:30.346717Z",
     "start_time": "2023-10-21T01:05:30.147589Z"
    }
   },
   "outputs": [],
   "source": [
    "# First Dataframe\n",
    "data1 = {'ID1': [1, 2, 3, 4],\n",
    "         'Name1': ['John Smith', 'Alice Johnson', 'Bob Marley', 'David Doe']}\n",
    "df1 = pd.DataFrame(data1)\n",
    "# Second Dataframe\n",
    "data2 = {'ID2': [101, 102, 103, 104,105],\n",
    "         'Name2': ['Jon Smith', 'Alyce Jonson', 'Robert Marley', 'Dave D.', 'Rob Marly']}\n",
    "df2 = pd.DataFrame(data2)"
   ]
  },
  {
   "cell_type": "code",
   "execution_count": 191,
   "outputs": [],
   "source": [
    "def closest_match(name, list): # Defining a function to get the closest match\n",
    "    distances = {} # Creating a dictionary to insert the name and levenshtein distance value\n",
    "    for nme in list: # Iterating through a list of names from the second dataframe\n",
    "        dist = calculate_levenshtein_distance(name, nme) # Calculating the distance between the two names\n",
    "        distances.update({nme:dist}) # Updating the dataframe with the name and the distance\n",
    "    min_distance = min(distances.values()) # Getting the minimum distance value from the dictionary\n",
    "    pos = '' # Empty string to store the name consisting the minimum distance\n",
    "    for key, value in distances.items(): # Iterating through the dictionary to find the name\n",
    "        if value == min_distance: # Conditional statement\n",
    "            pos = key # Inserting the value of the name from the dict into the empty string\n",
    "    return name, pos, min_distance # Return the name from df1 and df 2 along with the min distance"
   ],
   "metadata": {
    "collapsed": false,
    "ExecuteTime": {
     "end_time": "2023-10-21T01:05:30.346821Z",
     "start_time": "2023-10-21T01:05:30.153298Z"
    }
   }
  },
  {
   "cell_type": "code",
   "execution_count": 192,
   "outputs": [
    {
     "name": "stdout",
     "output_type": "stream",
     "text": [
      "The closest match for John Smith is Jon Smith with the Levenshtein distance of 1\n",
      "The closest match for Alice Johnson is Alyce Jonson with the Levenshtein distance of 2\n",
      "The closest match for Bob Marley is Rob Marly with the Levenshtein distance of 2\n",
      "The closest match for David Doe is Dave D. with the Levenshtein distance of 4\n"
     ]
    },
    {
     "data": {
      "text/plain": "              n1            n2  distance\n0     John Smith     Jon Smith         1\n1  Alice Johnson  Alyce Jonson         2\n2     Bob Marley     Rob Marly         2\n3      David Doe       Dave D.         4",
      "text/html": "<div>\n<style scoped>\n    .dataframe tbody tr th:only-of-type {\n        vertical-align: middle;\n    }\n\n    .dataframe tbody tr th {\n        vertical-align: top;\n    }\n\n    .dataframe thead th {\n        text-align: right;\n    }\n</style>\n<table border=\"1\" class=\"dataframe\">\n  <thead>\n    <tr style=\"text-align: right;\">\n      <th></th>\n      <th>n1</th>\n      <th>n2</th>\n      <th>distance</th>\n    </tr>\n  </thead>\n  <tbody>\n    <tr>\n      <th>0</th>\n      <td>John Smith</td>\n      <td>Jon Smith</td>\n      <td>1</td>\n    </tr>\n    <tr>\n      <th>1</th>\n      <td>Alice Johnson</td>\n      <td>Alyce Jonson</td>\n      <td>2</td>\n    </tr>\n    <tr>\n      <th>2</th>\n      <td>Bob Marley</td>\n      <td>Rob Marly</td>\n      <td>2</td>\n    </tr>\n    <tr>\n      <th>3</th>\n      <td>David Doe</td>\n      <td>Dave D.</td>\n      <td>4</td>\n    </tr>\n  </tbody>\n</table>\n</div>"
     },
     "execution_count": 192,
     "metadata": {},
     "output_type": "execute_result"
    }
   ],
   "source": [
    "levenshtein_df = pd.DataFrame(columns=['n1','n2','distance']) # Creating an empty dataframe with 3 columns to store values\n",
    "for name in data1['Name1']: # Iterating names through a list of names\n",
    "    name1, name2, min_dist = closest_match(name, data2['Name2']) # Storing values into variables\n",
    "    print(f'The closest match for {name1} is {name2} with the Levenshtein distance of {min_dist}') # Printing a statement to check values\n",
    "    levenshtein_df.loc[len(levenshtein_df)] = [name1,name2,min_dist] # Storing the values into the empty dataframe\n",
    "    \n",
    "levenshtein_df # Checking the dataframe"
   ],
   "metadata": {
    "collapsed": false,
    "ExecuteTime": {
     "end_time": "2023-10-21T01:05:30.371623Z",
     "start_time": "2023-10-21T01:05:30.178764Z"
    }
   }
  },
  {
   "cell_type": "code",
   "execution_count": 193,
   "outputs": [
    {
     "data": {
      "text/plain": "   ID1          Name1 closest_match  Id2\n0    1     John Smith     Jon Smith  101\n1    2  Alice Johnson  Alyce Jonson  102\n2    3     Bob Marley     Rob Marly  105\n3    4      David Doe       Dave D.  104",
      "text/html": "<div>\n<style scoped>\n    .dataframe tbody tr th:only-of-type {\n        vertical-align: middle;\n    }\n\n    .dataframe tbody tr th {\n        vertical-align: top;\n    }\n\n    .dataframe thead th {\n        text-align: right;\n    }\n</style>\n<table border=\"1\" class=\"dataframe\">\n  <thead>\n    <tr style=\"text-align: right;\">\n      <th></th>\n      <th>ID1</th>\n      <th>Name1</th>\n      <th>closest_match</th>\n      <th>Id2</th>\n    </tr>\n  </thead>\n  <tbody>\n    <tr>\n      <th>0</th>\n      <td>1</td>\n      <td>John Smith</td>\n      <td>Jon Smith</td>\n      <td>101</td>\n    </tr>\n    <tr>\n      <th>1</th>\n      <td>2</td>\n      <td>Alice Johnson</td>\n      <td>Alyce Jonson</td>\n      <td>102</td>\n    </tr>\n    <tr>\n      <th>2</th>\n      <td>3</td>\n      <td>Bob Marley</td>\n      <td>Rob Marly</td>\n      <td>105</td>\n    </tr>\n    <tr>\n      <th>3</th>\n      <td>4</td>\n      <td>David Doe</td>\n      <td>Dave D.</td>\n      <td>104</td>\n    </tr>\n  </tbody>\n</table>\n</div>"
     },
     "execution_count": 193,
     "metadata": {},
     "output_type": "execute_result"
    }
   ],
   "source": [
    "id_cols = [] # Empty List to store the id numbers of the name2 from df2\n",
    "for n in levenshtein_df['n2']: # Iterating names through the new dataframe\n",
    "    for n2 in df2['Name2']: # Iterating names through df2\n",
    "        if n == n2: # Checking if both of the names match\n",
    "            ind = df2[df2['Name2']==n].index.values[0] # Getting the index value of the name from df2\n",
    "            ids = df2.iloc[ind]['ID2'] # Getting the id by using the index value\n",
    "            id_cols.append(ids) # Appending the id into the empty list\n",
    "        \n",
    "df1['closest_match'] = levenshtein_df['n2'] # Inserting and merging the names from df2 into df1\n",
    "df1['Id2'] = id_cols # Inserting and merging IDs from df2 into df1\n",
    "df1       # Checking the values"
   ],
   "metadata": {
    "collapsed": false,
    "ExecuteTime": {
     "end_time": "2023-10-21T01:05:30.371885Z",
     "start_time": "2023-10-21T01:05:30.186880Z"
    }
   }
  },
  {
   "cell_type": "markdown",
   "metadata": {},
   "source": [
    "3- Using bookings and yachts csv:\n",
    "<ol>\n",
    "    <li> Inspect the bookings and yachts csv files.</li>\n",
    "    <li> Before merging, make sure to keep only bookings with correctly formatted Yacht_IDs, where the Yacht_ID should be in a format of two characters, followed by 3 numbers.</li>\n",
    "    <li> Combine both dataframes into one dataframe.</li>\n",
    "    <li> Make sure that all columns are of correct format where it is expected that: <br>\n",
    "        a. Title, First_Name, Last_Name, Street_Address, Area, Post_Code, Telephone, Yacht_ID, Yacht_Name, Yacht_Make, Yacht_Ref, Depart_Port, Depart_Country<br>\n",
    "        b. Cust_ID, Built, Length(m), Cabins, Toilets, Guiests, Day_Rate are Numbers <br>\n",
    "        c. Depart_Date is Date (its original format id dd/mm/yyyy)</li>\n",
    "    \n",
    "</ol>\n",
    "\n",
    "***Note: Data may contain Latin Characters, You may need to use Latin Encoding, drop data where name contains any characters other than normal alphabetics***"
   ]
  },
  {
   "cell_type": "code",
   "execution_count": 194,
   "metadata": {
    "ExecuteTime": {
     "end_time": "2023-10-21T01:05:30.372195Z",
     "start_time": "2023-10-21T01:05:30.192278Z"
    }
   },
   "outputs": [
    {
     "data": {
      "text/plain": "             Yacht_Name           Yacht_Make Yacht_Ref          Depart_Port  \\\n0         Adriatic Star  Balandro Calypso 45     SY001  Pavao Island Marina   \n1         Amber Sunrise  Benedetti 37 Mirage     SY002  Pavao Island Marina   \n2        Anne Elizabeth   Marchal Grande 410     SY003          Port Djurak   \n3            Aqua Calma  Benedetti 37 Mirage     SY004     Marina Naupotiri   \n4    Arizona Challenger   Marchal Grande 382     SY005  Pavao Island Marina   \n..                  ...                  ...       ...                  ...   \n114     Triple Sycara V  Benedetti 51 Mirage     SY115  Pavao Island Marina   \n115   Tropical Paradise     Neumann 445 Opus     SY116  Pavao Island Marina   \n116         Uptown Girl  Balandro Calypso 37     SY117          Port Djurak   \n117           Vista Mar    Benedetti 44 Alto     SY118     Marina Naupotiri   \n118     Vivaldi Empress   Marchal Grande 512     SY119          Port Djurak   \n\n    Depart_Country  Built  Length(m)  Cabins  Toilets  Guests  Day_Rate  \n0          Croatia   2013      13.85       4        2      10       656  \n1          Croatia   2014      11.30       3        1       8       431  \n2          Croatia   2016      12.35       3        2       8       486  \n3           Greece   2007      11.35       3        1       8       377  \n4          Croatia   2016      11.23       3        2       8       423  \n..             ...    ...        ...     ...      ...     ...       ...  \n114        Croatia   2015      15.54       5        3      11       799  \n115        Croatia   2013      13.52       4        2      10       640  \n116        Croatia   2011      11.48       3        1      10       416  \n117         Greece   2002      13.95       4        2       8       413  \n118        Croatia   2017      15.20       5        2      12       774  \n\n[119 rows x 11 columns]",
      "text/html": "<div>\n<style scoped>\n    .dataframe tbody tr th:only-of-type {\n        vertical-align: middle;\n    }\n\n    .dataframe tbody tr th {\n        vertical-align: top;\n    }\n\n    .dataframe thead th {\n        text-align: right;\n    }\n</style>\n<table border=\"1\" class=\"dataframe\">\n  <thead>\n    <tr style=\"text-align: right;\">\n      <th></th>\n      <th>Yacht_Name</th>\n      <th>Yacht_Make</th>\n      <th>Yacht_Ref</th>\n      <th>Depart_Port</th>\n      <th>Depart_Country</th>\n      <th>Built</th>\n      <th>Length(m)</th>\n      <th>Cabins</th>\n      <th>Toilets</th>\n      <th>Guests</th>\n      <th>Day_Rate</th>\n    </tr>\n  </thead>\n  <tbody>\n    <tr>\n      <th>0</th>\n      <td>Adriatic Star</td>\n      <td>Balandro Calypso 45</td>\n      <td>SY001</td>\n      <td>Pavao Island Marina</td>\n      <td>Croatia</td>\n      <td>2013</td>\n      <td>13.85</td>\n      <td>4</td>\n      <td>2</td>\n      <td>10</td>\n      <td>656</td>\n    </tr>\n    <tr>\n      <th>1</th>\n      <td>Amber Sunrise</td>\n      <td>Benedetti 37 Mirage</td>\n      <td>SY002</td>\n      <td>Pavao Island Marina</td>\n      <td>Croatia</td>\n      <td>2014</td>\n      <td>11.30</td>\n      <td>3</td>\n      <td>1</td>\n      <td>8</td>\n      <td>431</td>\n    </tr>\n    <tr>\n      <th>2</th>\n      <td>Anne Elizabeth</td>\n      <td>Marchal Grande 410</td>\n      <td>SY003</td>\n      <td>Port Djurak</td>\n      <td>Croatia</td>\n      <td>2016</td>\n      <td>12.35</td>\n      <td>3</td>\n      <td>2</td>\n      <td>8</td>\n      <td>486</td>\n    </tr>\n    <tr>\n      <th>3</th>\n      <td>Aqua Calma</td>\n      <td>Benedetti 37 Mirage</td>\n      <td>SY004</td>\n      <td>Marina Naupotiri</td>\n      <td>Greece</td>\n      <td>2007</td>\n      <td>11.35</td>\n      <td>3</td>\n      <td>1</td>\n      <td>8</td>\n      <td>377</td>\n    </tr>\n    <tr>\n      <th>4</th>\n      <td>Arizona Challenger</td>\n      <td>Marchal Grande 382</td>\n      <td>SY005</td>\n      <td>Pavao Island Marina</td>\n      <td>Croatia</td>\n      <td>2016</td>\n      <td>11.23</td>\n      <td>3</td>\n      <td>2</td>\n      <td>8</td>\n      <td>423</td>\n    </tr>\n    <tr>\n      <th>...</th>\n      <td>...</td>\n      <td>...</td>\n      <td>...</td>\n      <td>...</td>\n      <td>...</td>\n      <td>...</td>\n      <td>...</td>\n      <td>...</td>\n      <td>...</td>\n      <td>...</td>\n      <td>...</td>\n    </tr>\n    <tr>\n      <th>114</th>\n      <td>Triple Sycara V</td>\n      <td>Benedetti 51 Mirage</td>\n      <td>SY115</td>\n      <td>Pavao Island Marina</td>\n      <td>Croatia</td>\n      <td>2015</td>\n      <td>15.54</td>\n      <td>5</td>\n      <td>3</td>\n      <td>11</td>\n      <td>799</td>\n    </tr>\n    <tr>\n      <th>115</th>\n      <td>Tropical Paradise</td>\n      <td>Neumann 445 Opus</td>\n      <td>SY116</td>\n      <td>Pavao Island Marina</td>\n      <td>Croatia</td>\n      <td>2013</td>\n      <td>13.52</td>\n      <td>4</td>\n      <td>2</td>\n      <td>10</td>\n      <td>640</td>\n    </tr>\n    <tr>\n      <th>116</th>\n      <td>Uptown Girl</td>\n      <td>Balandro Calypso 37</td>\n      <td>SY117</td>\n      <td>Port Djurak</td>\n      <td>Croatia</td>\n      <td>2011</td>\n      <td>11.48</td>\n      <td>3</td>\n      <td>1</td>\n      <td>10</td>\n      <td>416</td>\n    </tr>\n    <tr>\n      <th>117</th>\n      <td>Vista Mar</td>\n      <td>Benedetti 44 Alto</td>\n      <td>SY118</td>\n      <td>Marina Naupotiri</td>\n      <td>Greece</td>\n      <td>2002</td>\n      <td>13.95</td>\n      <td>4</td>\n      <td>2</td>\n      <td>8</td>\n      <td>413</td>\n    </tr>\n    <tr>\n      <th>118</th>\n      <td>Vivaldi Empress</td>\n      <td>Marchal Grande 512</td>\n      <td>SY119</td>\n      <td>Port Djurak</td>\n      <td>Croatia</td>\n      <td>2017</td>\n      <td>15.20</td>\n      <td>5</td>\n      <td>2</td>\n      <td>12</td>\n      <td>774</td>\n    </tr>\n  </tbody>\n</table>\n<p>119 rows × 11 columns</p>\n</div>"
     },
     "execution_count": 194,
     "metadata": {},
     "output_type": "execute_result"
    }
   ],
   "source": [
    "# Loading the data into dataframes\n",
    "yacht_df = pd.read_csv('yachts.csv')\n",
    "bookings_df = pd.read_csv('bookings.csv', encoding='latin-1')\n",
    "yacht_df # Checking the dataframe"
   ]
  },
  {
   "cell_type": "code",
   "execution_count": 195,
   "outputs": [
    {
     "data": {
      "text/plain": "  Title   First_Name   Last_Name  Cust_ID        Street_Address        Area  \\\n0    Mr       Finley       Kosar     1580      27 Culmore Cross      Marden   \n1    Ms      Caitlin    Anderson     1322      34 Portelet Road   Southwell   \n2    Mr  Christopher  Washington     1323    108 Chatsworth Way  New Milton   \n3   Mrs       Nicola    Leighton     1330  108 St Maurices Road     Preston   \n4    Mr        David       Ellis     1338        15 Omega Place    Hatfield   \n\n  Post_Code    Telephone Depart_Date  Days Yacht_ID  \n0  TN21 1ZL  77009001111   12/6/2022    14   SY0182  \n1   KA8 9LJ  77009001122  26/07/2022     8    SY098  \n2  BH25 6GY  77009001133    7/5/2022    10    SY026  \n3   CT3 8BR  77009001152    7/5/2022    14    SY118  \n4   ML6 0XP  77009001154  23/06/2022    14    SY094  ",
      "text/html": "<div>\n<style scoped>\n    .dataframe tbody tr th:only-of-type {\n        vertical-align: middle;\n    }\n\n    .dataframe tbody tr th {\n        vertical-align: top;\n    }\n\n    .dataframe thead th {\n        text-align: right;\n    }\n</style>\n<table border=\"1\" class=\"dataframe\">\n  <thead>\n    <tr style=\"text-align: right;\">\n      <th></th>\n      <th>Title</th>\n      <th>First_Name</th>\n      <th>Last_Name</th>\n      <th>Cust_ID</th>\n      <th>Street_Address</th>\n      <th>Area</th>\n      <th>Post_Code</th>\n      <th>Telephone</th>\n      <th>Depart_Date</th>\n      <th>Days</th>\n      <th>Yacht_ID</th>\n    </tr>\n  </thead>\n  <tbody>\n    <tr>\n      <th>0</th>\n      <td>Mr</td>\n      <td>Finley</td>\n      <td>Kosar</td>\n      <td>1580</td>\n      <td>27 Culmore Cross</td>\n      <td>Marden</td>\n      <td>TN21 1ZL</td>\n      <td>77009001111</td>\n      <td>12/6/2022</td>\n      <td>14</td>\n      <td>SY0182</td>\n    </tr>\n    <tr>\n      <th>1</th>\n      <td>Ms</td>\n      <td>Caitlin</td>\n      <td>Anderson</td>\n      <td>1322</td>\n      <td>34 Portelet Road</td>\n      <td>Southwell</td>\n      <td>KA8 9LJ</td>\n      <td>77009001122</td>\n      <td>26/07/2022</td>\n      <td>8</td>\n      <td>SY098</td>\n    </tr>\n    <tr>\n      <th>2</th>\n      <td>Mr</td>\n      <td>Christopher</td>\n      <td>Washington</td>\n      <td>1323</td>\n      <td>108 Chatsworth Way</td>\n      <td>New Milton</td>\n      <td>BH25 6GY</td>\n      <td>77009001133</td>\n      <td>7/5/2022</td>\n      <td>10</td>\n      <td>SY026</td>\n    </tr>\n    <tr>\n      <th>3</th>\n      <td>Mrs</td>\n      <td>Nicola</td>\n      <td>Leighton</td>\n      <td>1330</td>\n      <td>108 St Maurices Road</td>\n      <td>Preston</td>\n      <td>CT3 8BR</td>\n      <td>77009001152</td>\n      <td>7/5/2022</td>\n      <td>14</td>\n      <td>SY118</td>\n    </tr>\n    <tr>\n      <th>4</th>\n      <td>Mr</td>\n      <td>David</td>\n      <td>Ellis</td>\n      <td>1338</td>\n      <td>15 Omega Place</td>\n      <td>Hatfield</td>\n      <td>ML6 0XP</td>\n      <td>77009001154</td>\n      <td>23/06/2022</td>\n      <td>14</td>\n      <td>SY094</td>\n    </tr>\n  </tbody>\n</table>\n</div>"
     },
     "execution_count": 195,
     "metadata": {},
     "output_type": "execute_result"
    }
   ],
   "source": [
    "bookings_df.head() # Checking the dataframe"
   ],
   "metadata": {
    "collapsed": false,
    "ExecuteTime": {
     "end_time": "2023-10-21T01:05:30.372520Z",
     "start_time": "2023-10-21T01:05:30.205511Z"
    }
   }
  },
  {
   "cell_type": "code",
   "execution_count": 196,
   "outputs": [
    {
     "name": "stdout",
     "output_type": "stream",
     "text": [
      "Shape of bookings_df before removing values: (979, 11)\n",
      "Shape of bookings_df after removing values that are out of format: (976, 11)\n"
     ]
    }
   ],
   "source": [
    "print(f'Shape of bookings_df before removing values: {bookings_df.shape}') # print statement to check\n",
    "def check_id(string): # Creating a function to check if the string is in the correct format\n",
    "    if re.fullmatch(r'[A-Z]{2}\\d{3}', string): # Checking if the string is in the correct format\n",
    "        return 1 # Returning 1 if correct\n",
    "    else:\n",
    "        return 0 # Returning 0 if not correct\n",
    "for index in range(len(bookings_df)): # Iterating through every row in Yacht_ID column\n",
    "    ids = bookings_df.loc[index, 'Yacht_ID'] # Getting the value \n",
    "    result = check_id(ids) # Checking through the function\n",
    "    if result == 0: # Conditional statement\n",
    "       bookings_df = bookings_df.drop(index) # If returned 0, row is dropped\n",
    "bookings_df = bookings_df.reset_index(drop=True) # Resetting the index to have a continuous data\n",
    "print(f'Shape of bookings_df after removing values that are out of format: {bookings_df.shape}') # Checking the shape to make sure the process worked"
   ],
   "metadata": {
    "collapsed": false,
    "ExecuteTime": {
     "end_time": "2023-10-21T01:05:30.372602Z",
     "start_time": "2023-10-21T01:05:30.209883Z"
    }
   }
  },
  {
   "cell_type": "code",
   "execution_count": 197,
   "outputs": [
    {
     "data": {
      "text/plain": "          Yacht_Name           Yacht_Make Yacht_Ref          Depart_Port  \\\n0      Adriatic Star  Balandro Calypso 45     SY001  Pavao Island Marina   \n1      Adriatic Star  Balandro Calypso 45     SY001  Pavao Island Marina   \n2      Adriatic Star  Balandro Calypso 45     SY001  Pavao Island Marina   \n3      Adriatic Star  Balandro Calypso 45     SY001  Pavao Island Marina   \n4      Adriatic Star  Balandro Calypso 45     SY001  Pavao Island Marina   \n..               ...                  ...       ...                  ...   \n971  Vivaldi Empress   Marchal Grande 512     SY119          Port Djurak   \n972  Vivaldi Empress   Marchal Grande 512     SY119          Port Djurak   \n973  Vivaldi Empress   Marchal Grande 512     SY119          Port Djurak   \n974  Vivaldi Empress   Marchal Grande 512     SY119          Port Djurak   \n975  Vivaldi Empress   Marchal Grande 512     SY119          Port Djurak   \n\n    Depart_Country  Built  Length(m)  Cabins  Toilets  Guests  ...  \\\n0          Croatia   2013      13.85       4        2      10  ...   \n1          Croatia   2013      13.85       4        2      10  ...   \n2          Croatia   2013      13.85       4        2      10  ...   \n3          Croatia   2013      13.85       4        2      10  ...   \n4          Croatia   2013      13.85       4        2      10  ...   \n..             ...    ...        ...     ...      ...     ...  ...   \n971        Croatia   2017      15.20       5        2      12  ...   \n972        Croatia   2017      15.20       5        2      12  ...   \n973        Croatia   2017      15.20       5        2      12  ...   \n974        Croatia   2017      15.20       5        2      12  ...   \n975        Croatia   2017      15.20       5        2      12  ...   \n\n     First_Name    Last_Name Cust_ID         Street_Address            Area  \\\n0      Margaret  De Villiers    1430  120 Stone Cellar Road        Boraston   \n1          Myra         Khan    1963         28 Walwyn Road      Chastleton   \n2         Jason        Idris    2263    140 Freezeland Lane       Hutingdon   \n3    Baek Hyeon        Chong    2440        134 Dorset Walk        Kingsdon   \n4        Rachel      Brookes    3167        31 Coley Street  Blackpool Gate   \n..          ...          ...     ...                    ...             ...   \n971       Reece         Hunt    3175    123 Beaumont Avenue     Basingstoke   \n972     Shirley      Gardner    3177     97 Drayton Terrace          Durham   \n973    Muhammad         Shah    3469      142 Hendford Hill         Brandon   \n974    Fernanda   Wainwright    3896        95 Lowndes Mews    East Tilbury   \n975        Ruth        Pirvu    4183       139 Ormsby Place      Wallinford   \n\n    Post_Code    Telephone Depart_Date  Days Yacht_ID  \n0    BR16 6ZB  77009001391    7/5/2022    18    SY001  \n1    GL56 3XY  77009002929  29/06/2022    10    SY001  \n2    AB38 7WB  77009003955    8/6/2022     7    SY001  \n3    TA11 8YD  77009004673  25/05/2022    14    SY001  \n4     CA6 2RA  77009006699    9/7/2022    21    SY001  \n..        ...          ...         ...   ...      ...  \n971  BS30 0YL  77009006745    7/5/2022    14    SY119  \n972  IP22 9PU  77009006761    5/9/2022    14    SY119  \n973   HR2 7TZ  77009007672  21/06/2022    10    SY119  \n974  RM18 0PR  77009008794  17/08/2022     7    SY119  \n975  PH20 8DX  77009009676   11/6/2022    10    SY119  \n\n[976 rows x 22 columns]",
      "text/html": "<div>\n<style scoped>\n    .dataframe tbody tr th:only-of-type {\n        vertical-align: middle;\n    }\n\n    .dataframe tbody tr th {\n        vertical-align: top;\n    }\n\n    .dataframe thead th {\n        text-align: right;\n    }\n</style>\n<table border=\"1\" class=\"dataframe\">\n  <thead>\n    <tr style=\"text-align: right;\">\n      <th></th>\n      <th>Yacht_Name</th>\n      <th>Yacht_Make</th>\n      <th>Yacht_Ref</th>\n      <th>Depart_Port</th>\n      <th>Depart_Country</th>\n      <th>Built</th>\n      <th>Length(m)</th>\n      <th>Cabins</th>\n      <th>Toilets</th>\n      <th>Guests</th>\n      <th>...</th>\n      <th>First_Name</th>\n      <th>Last_Name</th>\n      <th>Cust_ID</th>\n      <th>Street_Address</th>\n      <th>Area</th>\n      <th>Post_Code</th>\n      <th>Telephone</th>\n      <th>Depart_Date</th>\n      <th>Days</th>\n      <th>Yacht_ID</th>\n    </tr>\n  </thead>\n  <tbody>\n    <tr>\n      <th>0</th>\n      <td>Adriatic Star</td>\n      <td>Balandro Calypso 45</td>\n      <td>SY001</td>\n      <td>Pavao Island Marina</td>\n      <td>Croatia</td>\n      <td>2013</td>\n      <td>13.85</td>\n      <td>4</td>\n      <td>2</td>\n      <td>10</td>\n      <td>...</td>\n      <td>Margaret</td>\n      <td>De Villiers</td>\n      <td>1430</td>\n      <td>120 Stone Cellar Road</td>\n      <td>Boraston</td>\n      <td>BR16 6ZB</td>\n      <td>77009001391</td>\n      <td>7/5/2022</td>\n      <td>18</td>\n      <td>SY001</td>\n    </tr>\n    <tr>\n      <th>1</th>\n      <td>Adriatic Star</td>\n      <td>Balandro Calypso 45</td>\n      <td>SY001</td>\n      <td>Pavao Island Marina</td>\n      <td>Croatia</td>\n      <td>2013</td>\n      <td>13.85</td>\n      <td>4</td>\n      <td>2</td>\n      <td>10</td>\n      <td>...</td>\n      <td>Myra</td>\n      <td>Khan</td>\n      <td>1963</td>\n      <td>28 Walwyn Road</td>\n      <td>Chastleton</td>\n      <td>GL56 3XY</td>\n      <td>77009002929</td>\n      <td>29/06/2022</td>\n      <td>10</td>\n      <td>SY001</td>\n    </tr>\n    <tr>\n      <th>2</th>\n      <td>Adriatic Star</td>\n      <td>Balandro Calypso 45</td>\n      <td>SY001</td>\n      <td>Pavao Island Marina</td>\n      <td>Croatia</td>\n      <td>2013</td>\n      <td>13.85</td>\n      <td>4</td>\n      <td>2</td>\n      <td>10</td>\n      <td>...</td>\n      <td>Jason</td>\n      <td>Idris</td>\n      <td>2263</td>\n      <td>140 Freezeland Lane</td>\n      <td>Hutingdon</td>\n      <td>AB38 7WB</td>\n      <td>77009003955</td>\n      <td>8/6/2022</td>\n      <td>7</td>\n      <td>SY001</td>\n    </tr>\n    <tr>\n      <th>3</th>\n      <td>Adriatic Star</td>\n      <td>Balandro Calypso 45</td>\n      <td>SY001</td>\n      <td>Pavao Island Marina</td>\n      <td>Croatia</td>\n      <td>2013</td>\n      <td>13.85</td>\n      <td>4</td>\n      <td>2</td>\n      <td>10</td>\n      <td>...</td>\n      <td>Baek Hyeon</td>\n      <td>Chong</td>\n      <td>2440</td>\n      <td>134 Dorset Walk</td>\n      <td>Kingsdon</td>\n      <td>TA11 8YD</td>\n      <td>77009004673</td>\n      <td>25/05/2022</td>\n      <td>14</td>\n      <td>SY001</td>\n    </tr>\n    <tr>\n      <th>4</th>\n      <td>Adriatic Star</td>\n      <td>Balandro Calypso 45</td>\n      <td>SY001</td>\n      <td>Pavao Island Marina</td>\n      <td>Croatia</td>\n      <td>2013</td>\n      <td>13.85</td>\n      <td>4</td>\n      <td>2</td>\n      <td>10</td>\n      <td>...</td>\n      <td>Rachel</td>\n      <td>Brookes</td>\n      <td>3167</td>\n      <td>31 Coley Street</td>\n      <td>Blackpool Gate</td>\n      <td>CA6 2RA</td>\n      <td>77009006699</td>\n      <td>9/7/2022</td>\n      <td>21</td>\n      <td>SY001</td>\n    </tr>\n    <tr>\n      <th>...</th>\n      <td>...</td>\n      <td>...</td>\n      <td>...</td>\n      <td>...</td>\n      <td>...</td>\n      <td>...</td>\n      <td>...</td>\n      <td>...</td>\n      <td>...</td>\n      <td>...</td>\n      <td>...</td>\n      <td>...</td>\n      <td>...</td>\n      <td>...</td>\n      <td>...</td>\n      <td>...</td>\n      <td>...</td>\n      <td>...</td>\n      <td>...</td>\n      <td>...</td>\n      <td>...</td>\n    </tr>\n    <tr>\n      <th>971</th>\n      <td>Vivaldi Empress</td>\n      <td>Marchal Grande 512</td>\n      <td>SY119</td>\n      <td>Port Djurak</td>\n      <td>Croatia</td>\n      <td>2017</td>\n      <td>15.20</td>\n      <td>5</td>\n      <td>2</td>\n      <td>12</td>\n      <td>...</td>\n      <td>Reece</td>\n      <td>Hunt</td>\n      <td>3175</td>\n      <td>123 Beaumont Avenue</td>\n      <td>Basingstoke</td>\n      <td>BS30 0YL</td>\n      <td>77009006745</td>\n      <td>7/5/2022</td>\n      <td>14</td>\n      <td>SY119</td>\n    </tr>\n    <tr>\n      <th>972</th>\n      <td>Vivaldi Empress</td>\n      <td>Marchal Grande 512</td>\n      <td>SY119</td>\n      <td>Port Djurak</td>\n      <td>Croatia</td>\n      <td>2017</td>\n      <td>15.20</td>\n      <td>5</td>\n      <td>2</td>\n      <td>12</td>\n      <td>...</td>\n      <td>Shirley</td>\n      <td>Gardner</td>\n      <td>3177</td>\n      <td>97 Drayton Terrace</td>\n      <td>Durham</td>\n      <td>IP22 9PU</td>\n      <td>77009006761</td>\n      <td>5/9/2022</td>\n      <td>14</td>\n      <td>SY119</td>\n    </tr>\n    <tr>\n      <th>973</th>\n      <td>Vivaldi Empress</td>\n      <td>Marchal Grande 512</td>\n      <td>SY119</td>\n      <td>Port Djurak</td>\n      <td>Croatia</td>\n      <td>2017</td>\n      <td>15.20</td>\n      <td>5</td>\n      <td>2</td>\n      <td>12</td>\n      <td>...</td>\n      <td>Muhammad</td>\n      <td>Shah</td>\n      <td>3469</td>\n      <td>142 Hendford Hill</td>\n      <td>Brandon</td>\n      <td>HR2 7TZ</td>\n      <td>77009007672</td>\n      <td>21/06/2022</td>\n      <td>10</td>\n      <td>SY119</td>\n    </tr>\n    <tr>\n      <th>974</th>\n      <td>Vivaldi Empress</td>\n      <td>Marchal Grande 512</td>\n      <td>SY119</td>\n      <td>Port Djurak</td>\n      <td>Croatia</td>\n      <td>2017</td>\n      <td>15.20</td>\n      <td>5</td>\n      <td>2</td>\n      <td>12</td>\n      <td>...</td>\n      <td>Fernanda</td>\n      <td>Wainwright</td>\n      <td>3896</td>\n      <td>95 Lowndes Mews</td>\n      <td>East Tilbury</td>\n      <td>RM18 0PR</td>\n      <td>77009008794</td>\n      <td>17/08/2022</td>\n      <td>7</td>\n      <td>SY119</td>\n    </tr>\n    <tr>\n      <th>975</th>\n      <td>Vivaldi Empress</td>\n      <td>Marchal Grande 512</td>\n      <td>SY119</td>\n      <td>Port Djurak</td>\n      <td>Croatia</td>\n      <td>2017</td>\n      <td>15.20</td>\n      <td>5</td>\n      <td>2</td>\n      <td>12</td>\n      <td>...</td>\n      <td>Ruth</td>\n      <td>Pirvu</td>\n      <td>4183</td>\n      <td>139 Ormsby Place</td>\n      <td>Wallinford</td>\n      <td>PH20 8DX</td>\n      <td>77009009676</td>\n      <td>11/6/2022</td>\n      <td>10</td>\n      <td>SY119</td>\n    </tr>\n  </tbody>\n</table>\n<p>976 rows × 22 columns</p>\n</div>"
     },
     "execution_count": 197,
     "metadata": {},
     "output_type": "execute_result"
    }
   ],
   "source": [
    "new_df = pd.DataFrame() # Creating a new dataframe to store the merged dataframe\n",
    "new_df = pd.merge(yacht_df, bookings_df, left_on='Yacht_Ref', right_on='Yacht_ID') # Merging the dataframe\n",
    "new_df # Checking the merged dataframe"
   ],
   "metadata": {
    "collapsed": false,
    "ExecuteTime": {
     "end_time": "2023-10-21T01:05:30.372998Z",
     "start_time": "2023-10-21T01:05:30.222080Z"
    }
   }
  },
  {
   "cell_type": "code",
   "execution_count": 198,
   "outputs": [
    {
     "data": {
      "text/plain": "Yacht_Name         object\nYacht_Make         object\nYacht_Ref          object\nDepart_Port        object\nDepart_Country     object\nBuilt               int64\nLength(m)         float64\nCabins              int64\nToilets             int64\nGuests              int64\nDay_Rate            int64\nTitle              object\nFirst_Name         object\nLast_Name          object\nCust_ID             int64\nStreet_Address     object\nArea               object\nPost_Code          object\nTelephone           int64\nDepart_Date        object\nDays                int64\nYacht_ID           object\ndtype: object"
     },
     "execution_count": 198,
     "metadata": {},
     "output_type": "execute_result"
    }
   ],
   "source": [
    "new_df.dtypes # Checking the datatypes of each column"
   ],
   "metadata": {
    "collapsed": false,
    "ExecuteTime": {
     "end_time": "2023-10-21T01:05:30.373202Z",
     "start_time": "2023-10-21T01:05:30.231771Z"
    }
   }
  },
  {
   "cell_type": "code",
   "execution_count": 199,
   "outputs": [],
   "source": [
    "new_df['Depart_Date'] = pd.to_datetime(new_df['Depart_Date'], dayfirst=True) # Changing the datatype of Depart Date into datetime\n",
    "new_df['Depart_Date'] = new_df['Depart_Date'].dt.strftime('%d-%m-%Y') # Changing the format of the date\n",
    "new_df['Telephone'] = new_df['Telephone'].astype(str) # Changing the datatype from int64 into a string as required"
   ],
   "metadata": {
    "collapsed": false,
    "ExecuteTime": {
     "end_time": "2023-10-21T01:05:30.373255Z",
     "start_time": "2023-10-21T01:05:30.234352Z"
    }
   }
  }
 ],
 "metadata": {
  "kernelspec": {
   "display_name": "Python 3",
   "language": "python",
   "name": "python3"
  },
  "language_info": {
   "codemirror_mode": {
    "name": "ipython",
    "version": 3
   },
   "file_extension": ".py",
   "mimetype": "text/x-python",
   "name": "python",
   "nbconvert_exporter": "python",
   "pygments_lexer": "ipython3",
   "version": "3.7.7"
  }
 },
 "nbformat": 4,
 "nbformat_minor": 2
}
