{
 "cells": [
  {
   "cell_type": "markdown",
   "metadata": {},
   "source": [
    "## Lab Assignment 10: <br>\n",
    "### Student Name: Aagnay Kariyal\n",
    "### Student ID: 8830232\n",
    "\n",
    "***\n"
   ]
  },
  {
   "cell_type": "markdown",
   "metadata": {},
   "source": [
    "This assignment targets to assure that the students understood basic IR concepts.<br>"
   ]
  },
  {
   "cell_type": "markdown",
   "metadata": {},
   "source": [
    "**Part 1: Implementing an IR System (10/16)**<br>\n",
    "\n",
    "Consider a collection of 1000 documents and a set of 10 queries. Implement an IR system based on the Vector Space Model (VSM) using TF-IDF weighting.<br>\n",
    "\n",
    "Dataset:<br>\n",
    "\n",
    "- 1000 documents (text content for each document)\n",
    "- 10 sample queries <br>\n",
    "IR System:<br>\n",
    "\n",
    "Implement TF-IDF calculation for document-term matrix construction. <br>\n",
    "Develop a cosine similarity-based retrieval system to rank documents for each query. <br>\n",
    "Rank the top 10 documents for each query using the IR system. <br>\n",
    "Evaluation: <br>\n",
    "\n",
    "Compute Precision at k (P@k) for k=5, k=6, and k=10 for each query.<br>\n",
    "Calculate Mean Average Precision (MAP) across all queries. <br>\n",
    "Calculate the Mean Reciprocal Rank (MRR) across all queries.(3) <br><br>\n",
    "**Part 2: Assessing Inter-Annotator Agreement (6/16)**<br>\n",
    "\n",
    "Given the relevance assessments by three different annotators for a set of documents:<br>\n",
    "\n",
    "Annotator 1,2 and 3 relevance assessments<br>\n",
    "\n",
    "You are expected to: <br>\n",
    "\n",
    "Compute pairwise Cohen's Kappa values for the annotators' relevance assessments.<br>\n",
    "Discuss the observed agreement levels among annotators.<br>\n",
    "Explain how to improve the kappa value if we are not satisfied with the kappa.<br>\n"
   ]
  },
  {
   "cell_type": "markdown",
   "metadata": {},
   "source": [
    "----------------------------------------------------------------------------------------\n",
    "- Part 1"
   ]
  },
  {
   "cell_type": "code",
   "execution_count": 1,
   "outputs": [],
   "source": [
    "from sklearn.feature_extraction.text import TfidfVectorizer\n",
    "from sklearn.metrics.pairwise import cosine_similarity\n",
    "from sklearn.metrics import cohen_kappa_score"
   ],
   "metadata": {
    "collapsed": false,
    "ExecuteTime": {
     "end_time": "2023-12-30T17:39:36.983445Z",
     "start_time": "2023-12-30T17:39:27.495124Z"
    }
   }
  },
  {
   "cell_type": "markdown",
   "source": [
    "Creating a list of Documents or Sentences along with queries that we are going to match them with.\n",
    "You could also create this list by scraping data or by using Reddit/Twitter APIs"
   ],
   "metadata": {
    "collapsed": false
   }
  },
  {
   "cell_type": "code",
   "execution_count": 3,
   "metadata": {
    "ExecuteTime": {
     "end_time": "2023-12-30T17:45:02.534661Z",
     "start_time": "2023-12-30T17:45:02.523888Z"
    }
   },
   "outputs": [],
   "source": [
    "documents = [\n",
    "    \"Machine learning is transforming various industries.\",\n",
    "    \"Natural language processing helps in text analysis.\",\n",
    "    \"AI algorithms can improve decision-making processes.\",\n",
    "    \"Data science involves extracting insights from data.\",\n",
    "    \"Robotics is a field combining hardware and software.\",\n",
    "    \"Deep learning models require large amounts of data.\",\n",
    "    \"Blockchain technology secures digital transactions.\",\n",
    "    \"Cloud computing offers scalable computing power.\",\n",
    "    \"Virtual reality provides immersive experiences.\",\n",
    "    \"Augmented reality enhances real-world environments.\",\n",
    "    \"Internet of Things connects devices for data exchange.\",\n",
    "    \"Biometric authentication ensures secure access.\",\n",
    "    \"Quantum computing promises faster computations.\",\n",
    "    \"Cybersecurity protects against digital threats.\",\n",
    "    \"Ethical considerations in AI development are crucial.\",\n",
    "    \"Healthcare benefits from AI-driven diagnostics.\",\n",
    "    \"E-commerce relies on personalized recommendation systems.\",\n",
    "    \"Autonomous vehicles revolutionize transportation.\",\n",
    "    \"Smart cities utilize IoT for efficient operations.\",\n",
    "    \"Social media analysis aids in understanding trends.\",\n",
    "    \"Predictive analytics anticipates future outcomes.\",\n",
    "    \"Remote work trends increase reliance on digital tools.\",\n",
    "    \"Energy efficiency through smart grids is vital.\",\n",
    "    \"Fintech innovations reshape financial services.\",\n",
    "    \"Data privacy concerns arise in the era of big data.\",\n",
    "    \"Artificial general intelligence remains a challenge.\",\n",
    "    \"Human-computer interaction shapes user experiences.\",\n",
    "    \"Big data analytics drives informed decision-making.\",\n",
    "    \"Climate change predictions benefit from AI models.\",\n",
    "    \"Bioinformatics applies computational techniques to biology.\",\n",
    "    \"Robotic process automation streamlines workflows.\",\n",
    "    \"Industry 4.0 integrates AI with manufacturing.\",\n",
    "    \"Sentiment analysis detects emotions in text data.\",\n",
    "    \"Reinforcement learning powers autonomous agents.\",\n",
    "    \"Data visualization simplifies complex information.\",\n",
    "    \"Edge computing reduces latency in data processing.\",\n",
    "    \"Smart farming optimizes agricultural practices.\",\n",
    "    \"AI in education enhances personalized learning.\",\n",
    "    \"Natural disaster predictions leverage machine learning.\",\n",
    "    \"Media recommendation systems personalize content.\",\n",
    "    \"Speech recognition enables hands-free interactions.\",\n",
    "    \"Genetic algorithms mimic natural selection.\",\n",
    "    \"Neural networks simulate the human brain.\",\n",
    "    \"Behavioral analytics uncovers patterns in behavior.\",\n",
    "    \"Spatial analysis benefits from geospatial data.\",\n",
    "    \"Explainable AI improves transparency in models.\",\n",
    "    \"AI ethics guide responsible technology development.\",\n",
    "    \"Prescriptive analytics offers actionable insights.\",\n",
    "    \"Supply chain optimization employs predictive models.\",\n",
    "    \"Emotion AI detects emotions in facial expressions.\",\n",
    "    \"Distributed ledger technology ensures secure transactions.\",\n",
    "    \"Biological data analysis aids in medical research.\",\n",
    "    \"Smart grid technology enhances energy distribution.\",\n",
    "    \"AI-powered chatbots automate customer support.\",\n",
    "    \"Machine translation breaks language barriers.\",\n",
    "    \"Personalized medicine tailors treatments to individuals.\",\n",
    "    \"Data-driven marketing optimizes customer engagement.\",\n",
    "    \"Smart home devices enhance living experiences.\",\n",
    "    \"Time series forecasting predicts future trends.\",\n",
    "    \"AI-driven creativity challenges human capabilities.\",\n",
    "    \"Intelligent document processing automates data extraction.\",\n",
    "    \"Graph analytics explores relationships in networks.\",\n",
    "    \"Adversarial attacks pose challenges to AI security.\",\n",
    "    \"Predictive maintenance minimizes equipment downtime.\",\n",
    "    \"Spatial reasoning enhances AI navigation systems.\",\n",
    "    \"Privacy-preserving techniques protect sensitive data.\",\n",
    "    \"Automated decision-making raises ethical concerns.\",\n",
    "    \"Behavioral biometrics verifies user identities.\",\n",
    "    \"Explainable recommendations increase user trust.\",\n",
    "    \"Quantum machine learning explores quantum states.\",\n",
    "    \"Internet censorship detection uses AI techniques.\",\n",
    "    \"Smart wearables monitor health and fitness.\",\n",
    "    \"Intelligent tutoring systems adapt to student needs.\",\n",
    "    \"Graph neural networks model complex relationships.\",\n",
    "    \"AI in sports analytics improves performance analysis.\",\n",
    "    \"Facial recognition technology raises privacy debates.\",\n",
    "    \"Digital twin technology replicates physical systems.\",\n",
    "    \"Emotion detection in video content aids analysis.\",\n",
    "    \"Neuromorphic computing mimics brain structure.\",\n",
    "    \"Robotic surgery enhances precision in operations.\",\n",
    "    \"AI-powered language translation assists global communication.\",\n",
    "    \"Automated content moderation filters online content.\",\n",
    "    \"Network anomaly detection identifies security threats.\",\n",
    "    \"Predictive policing uses data to prevent crime.\",\n",
    "    \"Quantum cryptography ensures secure communications.\",\n",
    "    \"AI-generated art challenges traditional creativity.\",\n",
    "    \"Ethical considerations in autonomous vehicles are debated.\",\n",
    "    \"Adaptive learning systems personalize educational content.\",\n",
    "    \"Biomedical image analysis aids in disease diagnosis.\",\n",
    "    \"Explainable computer vision interprets image features.\",\n",
    "    \"AI-driven personalization enhances user experiences.\",\n",
    "    \"Conversational AI improves human-like interactions.\",\n",
    "    \"Federated learning protects individual data privacy.\",\n",
    "    \"Human-centered AI design prioritizes user needs.\",\n",
    "    \"Quantum annealing solves optimization problems.\",\n",
    "    \"Behavior-based authentication enhances security.\",\n",
    "    \"AI in music composition transforms creative processes.\",\n",
    "    \"Semantic search improves information retrieval.\",\n",
    "    \"Recommender systems optimize user preferences.\",\n",
    "    \"Information Retrieval systems are outdated without neural networks\"\n",
    "]\n",
    "\n",
    "queries = [\n",
    "    \"What are the impacts of AI on healthcare?\",\n",
    "    \"How does machine learning improve financial services?\",\n",
    "    \"What is the role of AI in autonomous vehicles?\",\n",
    "    \"Explain the applications of natural language processing.\",\n",
    "    \"How does robotics benefit from AI integration?\",\n",
    "    \"What are the challenges in implementing AI in education?\",\n",
    "    \"How does data science contribute to climate change predictions?\",\n",
    "    \"What are the ethical considerations in AI development?\",\n",
    "    \"Explain the significance of AI in smart cities.\",\n",
    "    \"How does AI enhance cybersecurity measures?\"\n",
    "]"
   ]
  },
  {
   "cell_type": "code",
   "execution_count": 4,
   "metadata": {
    "ExecuteTime": {
     "end_time": "2023-12-30T17:45:02.723791Z",
     "start_time": "2023-12-30T17:45:02.719152Z"
    }
   },
   "outputs": [
    {
     "name": "stdout",
     "output_type": "stream",
     "text": [
      "10\n"
     ]
    }
   ],
   "source": [
    "ground_truth =[[3, 74, 38, 92, 71, 72, 98, 48, 18, 100], \n",
    "                [12, 26, 52, 54, 21, 63, 64, 45, 14, 83],\n",
    "                [58, 77, 62, 31, 6, 61, 36, 96, 85, 18], \n",
    "                [99, 62, 98, 34, 63, 79, 43, 31, 3, 16],\n",
    "                [8, 88, 73, 82, 37, 25, 34, 87, 66, 58], \n",
    "                [90, 40, 84, 64, 34, 2, 73, 23, 59, 89],\n",
    "                [80, 10, 86, 21, 68, 37, 83, 57, 6, 98],\n",
    "                [22, 3, 2, 44, 56, 80, 50, 63, 87, 13],\n",
    "                [1, 18, 22, 44, 99, 72, 24, 95, 10, 87],\n",
    "                [31, 10, 56, 50, 75, 4, 18, 85, 84, 74]\n",
    "                           ]\n",
    "print(len(ground_truth))"
   ]
  },
  {
   "cell_type": "code",
   "execution_count": 9,
   "metadata": {
    "ExecuteTime": {
     "end_time": "2023-12-30T17:50:06.779122Z",
     "start_time": "2023-12-30T17:50:06.746454Z"
    }
   },
   "outputs": [
    {
     "name": "stdout",
     "output_type": "stream",
     "text": [
      "[15 24 14 42 16 86 21 99  5 10]\n",
      "Top documents for the query 'What are the impacts of AI on healthcare?' is:\n",
      "1. Healthcare benefits from AI-driven diagnostics.\n",
      "2. Data privacy concerns arise in the era of big data.\n",
      "3. Ethical considerations in AI development are crucial.\n",
      "4. Neural networks simulate the human brain.\n",
      "5. E-commerce relies on personalized recommendation systems.\n",
      "6. Ethical considerations in autonomous vehicles are debated.\n",
      "7. Remote work trends increase reliance on digital tools.\n",
      "8. Information Retrieval systems are outdated without neural networks\n",
      "9. Deep learning models require large amounts of data.\n",
      "10. Internet of Things connects devices for data exchange.\n",
      "\n",
      "\n",
      "[23 38  0 69  2 54 37 33 92 87]\n",
      "Top documents for the query 'How does machine learning improve financial services?' is:\n",
      "1. Fintech innovations reshape financial services.\n",
      "2. Natural disaster predictions leverage machine learning.\n",
      "3. Machine learning is transforming various industries.\n",
      "4. Quantum machine learning explores quantum states.\n",
      "5. AI algorithms can improve decision-making processes.\n",
      "6. Machine translation breaks language barriers.\n",
      "7. AI in education enhances personalized learning.\n",
      "8. Reinforcement learning powers autonomous agents.\n",
      "9. Federated learning protects individual data privacy.\n",
      "10. Adaptive learning systems personalize educational content.\n",
      "\n",
      "\n",
      "[17 86 24 42 33  0 37 22  5 45]\n",
      "Top documents for the query 'What is the role of AI in autonomous vehicles?' is:\n",
      "1. Autonomous vehicles revolutionize transportation.\n",
      "2. Ethical considerations in autonomous vehicles are debated.\n",
      "3. Data privacy concerns arise in the era of big data.\n",
      "4. Neural networks simulate the human brain.\n",
      "5. Reinforcement learning powers autonomous agents.\n",
      "6. Machine learning is transforming various industries.\n",
      "7. AI in education enhances personalized learning.\n",
      "8. Energy efficiency through smart grids is vital.\n",
      "9. Deep learning models require large amounts of data.\n",
      "10. Explainable AI improves transparency in models.\n",
      "\n",
      "\n",
      "[ 1 24 42 54 41 38 60 35 80  5]\n",
      "Top documents for the query 'Explain the applications of natural language processing.' is:\n",
      "1. Natural language processing helps in text analysis.\n",
      "2. Data privacy concerns arise in the era of big data.\n",
      "3. Neural networks simulate the human brain.\n",
      "4. Machine translation breaks language barriers.\n",
      "5. Genetic algorithms mimic natural selection.\n",
      "6. Natural disaster predictions leverage machine learning.\n",
      "7. Intelligent document processing automates data extraction.\n",
      "8. Edge computing reduces latency in data processing.\n",
      "9. AI-powered language translation assists global communication.\n",
      "10. Deep learning models require large amounts of data.\n",
      "\n",
      "\n",
      "[28 15  4 44  3 37 45 90 64 59]\n",
      "Top documents for the query 'How does robotics benefit from AI integration?' is:\n",
      "1. Climate change predictions benefit from AI models.\n",
      "2. Healthcare benefits from AI-driven diagnostics.\n",
      "3. Robotics is a field combining hardware and software.\n",
      "4. Spatial analysis benefits from geospatial data.\n",
      "5. Data science involves extracting insights from data.\n",
      "6. AI in education enhances personalized learning.\n",
      "7. Explainable AI improves transparency in models.\n",
      "8. AI-driven personalization enhances user experiences.\n",
      "9. Spatial reasoning enhances AI navigation systems.\n",
      "10. AI-driven creativity challenges human capabilities.\n",
      "\n",
      "\n",
      "[37 14 86 24 59 85 45 62 74 42]\n",
      "Top documents for the query 'What are the challenges in implementing AI in education?' is:\n",
      "1. AI in education enhances personalized learning.\n",
      "2. Ethical considerations in AI development are crucial.\n",
      "3. Ethical considerations in autonomous vehicles are debated.\n",
      "4. Data privacy concerns arise in the era of big data.\n",
      "5. AI-driven creativity challenges human capabilities.\n",
      "6. AI-generated art challenges traditional creativity.\n",
      "7. Explainable AI improves transparency in models.\n",
      "8. Adversarial attacks pose challenges to AI security.\n",
      "9. AI in sports analytics improves performance analysis.\n",
      "10. Neural networks simulate the human brain.\n",
      "\n",
      "\n",
      "[28  3 83 38 29 55 62 72 24 34]\n",
      "Top documents for the query 'How does data science contribute to climate change predictions?' is:\n",
      "1. Climate change predictions benefit from AI models.\n",
      "2. Data science involves extracting insights from data.\n",
      "3. Predictive policing uses data to prevent crime.\n",
      "4. Natural disaster predictions leverage machine learning.\n",
      "5. Bioinformatics applies computational techniques to biology.\n",
      "6. Personalized medicine tailors treatments to individuals.\n",
      "7. Adversarial attacks pose challenges to AI security.\n",
      "8. Intelligent tutoring systems adapt to student needs.\n",
      "9. Data privacy concerns arise in the era of big data.\n",
      "10. Data visualization simplifies complex information.\n",
      "\n",
      "\n",
      "[14 86 46 24 42 66 37 99 45 74]\n",
      "Top documents for the query 'What are the ethical considerations in AI development?' is:\n",
      "1. Ethical considerations in AI development are crucial.\n",
      "2. Ethical considerations in autonomous vehicles are debated.\n",
      "3. AI ethics guide responsible technology development.\n",
      "4. Data privacy concerns arise in the era of big data.\n",
      "5. Neural networks simulate the human brain.\n",
      "6. Automated decision-making raises ethical concerns.\n",
      "7. AI in education enhances personalized learning.\n",
      "8. Information Retrieval systems are outdated without neural networks\n",
      "9. Explainable AI improves transparency in models.\n",
      "10. AI in sports analytics improves performance analysis.\n",
      "\n",
      "\n",
      "[24 18 42 37  5 45 10 74 36 52]\n",
      "Top documents for the query 'Explain the significance of AI in smart cities.' is:\n",
      "1. Data privacy concerns arise in the era of big data.\n",
      "2. Smart cities utilize IoT for efficient operations.\n",
      "3. Neural networks simulate the human brain.\n",
      "4. AI in education enhances personalized learning.\n",
      "5. Deep learning models require large amounts of data.\n",
      "6. Explainable AI improves transparency in models.\n",
      "7. Internet of Things connects devices for data exchange.\n",
      "8. AI in sports analytics improves performance analysis.\n",
      "9. Smart farming optimizes agricultural practices.\n",
      "10. Smart grid technology enhances energy distribution.\n",
      "\n",
      "\n",
      "[13 57 37 45 90 64 59 74 31 91]\n",
      "Top documents for the query 'How does AI enhance cybersecurity measures?' is:\n",
      "1. Cybersecurity protects against digital threats.\n",
      "2. Smart home devices enhance living experiences.\n",
      "3. AI in education enhances personalized learning.\n",
      "4. Explainable AI improves transparency in models.\n",
      "5. AI-driven personalization enhances user experiences.\n",
      "6. Spatial reasoning enhances AI navigation systems.\n",
      "7. AI-driven creativity challenges human capabilities.\n",
      "8. AI in sports analytics improves performance analysis.\n",
      "9. Industry 4.0 integrates AI with manufacturing.\n",
      "10. Conversational AI improves human-like interactions.\n"
     ]
    }
   ],
   "source": [
    "## TODO: Implement your solution for part 1\n",
    "vectorizer = TfidfVectorizer()\n",
    "tfidf_matrix = vectorizer.fit_transform(documents)\n",
    "docs = []\n",
    "for q in queries:\n",
    "    query_vector = vectorizer.transform([q])\n",
    "    \n",
    "    cs = cosine_similarity(query_vector, tfidf_matrix)\n",
    "    res = cs[0].argsort()[-10:][::-1]\n",
    "    #docs.append(res.tolist()) - Doesn't really need it\n",
    "    print(res)\n",
    "    print(f\"Top documents for the query '{q}' is:\")\n",
    "    ind = 1\n",
    "    for i in res:\n",
    "        print(f'{ind}. {documents[i]}')\n",
    "        ind = ind + 1\n",
    "    print('\\n')"
   ]
  },
  {
   "cell_type": "code",
   "execution_count": 14,
   "outputs": [
    {
     "name": "stdout",
     "output_type": "stream",
     "text": [
      "[[15, 24, 14, 42, 16, 86, 21, 99, 5, 10], [23, 38, 0, 69, 2, 54, 37, 33, 92, 87], [17, 86, 24, 42, 33, 0, 37, 22, 5, 45], [1, 24, 42, 54, 41, 38, 60, 35, 80, 5], [28, 15, 4, 44, 3, 37, 45, 90, 64, 59], [37, 14, 86, 24, 59, 85, 45, 62, 74, 42], [28, 3, 83, 38, 29, 55, 62, 72, 24, 34], [14, 86, 46, 24, 42, 66, 37, 99, 45, 74], [24, 18, 42, 37, 5, 45, 10, 74, 36, 52], [13, 57, 37, 45, 90, 64, 59, 74, 31, 91]]\n"
     ]
    }
   ],
   "source": [
    "print(docs)"
   ],
   "metadata": {
    "collapsed": false,
    "ExecuteTime": {
     "end_time": "2023-12-08T18:07:53.620597Z",
     "start_time": "2023-12-08T18:07:53.573806Z"
    }
   }
  },
  {
   "cell_type": "markdown",
   "source": [
    "### Evaluation:"
   ],
   "metadata": {
    "collapsed": false
   }
  },
  {
   "cell_type": "code",
   "execution_count": 15,
   "outputs": [
    {
     "name": "stdout",
     "output_type": "stream",
     "text": [
      "The precision of query \"What are the impacts of AI on healthcare?\" for k values \n",
      "5: 0.0\n",
      "6: 0.0\n",
      "10: 0.1\n",
      "The precision of query \"How does machine learning improve financial services?\" for k values \n",
      "5: 0.2\n",
      "6: 0.16666666666666666\n",
      "10: 0.2\n",
      "The precision of query \"What is the role of AI in autonomous vehicles?\" for k values \n",
      "5: 0.0\n",
      "6: 0.0\n",
      "10: 0.1\n",
      "The precision of query \"Explain the applications of natural language processing.\" for k values \n",
      "5: 0.0\n",
      "6: 0.0\n",
      "10: 0.0\n",
      "The precision of query \"How does robotics benefit from AI integration?\" for k values \n",
      "5: 0.2\n",
      "6: 0.16666666666666666\n",
      "10: 0.1\n",
      "The precision of query \"What are the challenges in implementing AI in education?\" for k values \n",
      "5: 0.2\n",
      "6: 0.16666666666666666\n",
      "10: 0.1\n",
      "The precision of query \"How does data science contribute to climate change predictions?\" for k values \n",
      "5: 0.0\n",
      "6: 0.0\n",
      "10: 0.1\n",
      "The precision of query \"What are the ethical considerations in AI development?\" for k values \n",
      "5: 0.2\n",
      "6: 0.16666666666666666\n",
      "10: 0.2\n",
      "The precision of query \"Explain the significance of AI in smart cities.\" for k values \n",
      "5: 0.0\n",
      "6: 0.0\n",
      "10: 0.0\n",
      "The precision of query \"How does AI enhance cybersecurity measures?\" for k values \n",
      "5: 0.0\n",
      "6: 0.0\n",
      "10: 0.0\n",
      "\n",
      "\n",
      "The mean average precision across all the queries is: 0.07888888888888888\n"
     ]
    }
   ],
   "source": [
    "map_values = []\n",
    "for i,query in enumerate(queries):\n",
    "    relevant_documents = ground_truth[i-1]\n",
    "    retrieved_documents = docs[i]\n",
    "    \n",
    "    k_values = [5,6,10]\n",
    "    precision_at_k = []\n",
    "    \n",
    "    for k in k_values:\n",
    "        retrieved_doc = retrieved_documents[:k]\n",
    "        \n",
    "        tp = set(relevant_documents) & set(retrieved_doc)\n",
    "        precision = len(tp)/len(retrieved_doc)\n",
    "        \n",
    "        precision_at_k.append(precision)\n",
    "    \n",
    "    print(f'The precision of query \"{query}\" for k values \\n5: {precision_at_k[0]}'\n",
    "          f'\\n6: {precision_at_k[1]}'\n",
    "          f'\\n10: {precision_at_k[2]}')\n",
    "    avg_precision = sum(precision_at_k)/len(precision_at_k)\n",
    "    map_values.append(avg_precision)\n",
    "    \n",
    "map = sum(map_values)/len(map_values)\n",
    "print(\"\\n\")\n",
    "print(f'The mean average precision across all the queries is: {map}')"
   ],
   "metadata": {
    "collapsed": false,
    "ExecuteTime": {
     "end_time": "2023-12-08T18:07:53.620888Z",
     "start_time": "2023-12-08T18:07:53.580430Z"
    }
   }
  },
  {
   "cell_type": "markdown",
   "metadata": {},
   "source": [
    "-------------------------------------------------------------------\n",
    "- Part 2"
   ]
  },
  {
   "cell_type": "code",
   "execution_count": 16,
   "metadata": {
    "ExecuteTime": {
     "end_time": "2023-12-08T18:07:53.621131Z",
     "start_time": "2023-12-08T18:07:53.590260Z"
    }
   },
   "outputs": [],
   "source": [
    "# 0 is not relevant, 1 is relevant\n",
    "annotator1_relevance = [1, 0, 1, 0, 1, 1, 0, 0, 1, 0]  \n",
    "annotator2_relevance = [1, 1, 1, 0, 1, 0, 0, 1, 1, 1]  \n",
    "annotator3_relevance = [1, 0, 0, 0, 1, 0, 0, 1, 1, 0]  "
   ]
  },
  {
   "cell_type": "code",
   "execution_count": 17,
   "metadata": {
    "ExecuteTime": {
     "end_time": "2023-12-08T18:07:53.621362Z",
     "start_time": "2023-12-08T18:07:53.600231Z"
    }
   },
   "outputs": [
    {
     "name": "stdout",
     "output_type": "stream",
     "text": [
      "The kappa score between annotator 1 and 2 is : 0.19999999999999996\n",
      "The kappa score between annotator 1 and 3 is : 0.4\n",
      "The kappa score between annotator 2 and 3 is : 0.44444444444444453\n"
     ]
    }
   ],
   "source": [
    "## TODO: Implement your solution for part 2\n",
    "kappa_scores = []\n",
    "kappa_scores.append(cohen_kappa_score(annotator1_relevance, annotator2_relevance))\n",
    "kappa_scores.append(cohen_kappa_score(annotator1_relevance, annotator3_relevance))\n",
    "kappa_scores.append(cohen_kappa_score(annotator2_relevance, annotator3_relevance))\n",
    "\n",
    "print(f'The kappa score between annotator 1 and 2 is : {kappa_scores[0]}')\n",
    "print(f'The kappa score between annotator 1 and 3 is : {kappa_scores[1]}')\n",
    "print(f'The kappa score between annotator 2 and 3 is : {kappa_scores[2]}')"
   ]
  },
  {
   "cell_type": "markdown",
   "source": [
    "The output suggests a decent agreement between annotators 1 and 3, and annotators 2 and 3, but there is less agreement between annotators 1 and 2.\n",
    "\n",
    "It will be possible to improve the kappa score by getting more and better data."
   ],
   "metadata": {
    "collapsed": false
   }
  },
  {
   "cell_type": "code",
   "execution_count": 17,
   "outputs": [],
   "source": [],
   "metadata": {
    "collapsed": false,
    "ExecuteTime": {
     "end_time": "2023-12-08T18:07:53.621704Z",
     "start_time": "2023-12-08T18:07:53.603174Z"
    }
   }
  }
 ],
 "metadata": {
  "kernelspec": {
   "display_name": "Python 3",
   "language": "python",
   "name": "python3"
  },
  "language_info": {
   "codemirror_mode": {
    "name": "ipython",
    "version": 3
   },
   "file_extension": ".py",
   "mimetype": "text/x-python",
   "name": "python",
   "nbconvert_exporter": "python",
   "pygments_lexer": "ipython3",
   "version": "3.7.7"
  }
 },
 "nbformat": 4,
 "nbformat_minor": 2
}
