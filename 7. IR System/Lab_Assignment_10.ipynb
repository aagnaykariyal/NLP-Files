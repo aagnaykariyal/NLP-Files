{
 "cells": [
  {
   "cell_type": "markdown",
   "metadata": {},
   "source": [
    "## Lab Assignment 10: <br>\n",
    "### Student Name: Aagnay Kariyal\n",
    "### Student ID: 8830232\n",
    "\n",
    "***\n"
   ]
  },
  {
   "cell_type": "markdown",
   "metadata": {},
   "source": [
    "This assignment targets to assure that the students understood basic IR concepts.<br>"
   ]
  },
  {
   "cell_type": "markdown",
   "metadata": {},
   "source": [
    "**Part 1: Implementing an IR System (10/16)**<br>\n",
    "\n",
    "Consider a collection of 1000 documents and a set of 10 queries. Implement an IR system based on the Vector Space Model (VSM) using TF-IDF weighting.<br>\n",
    "\n",
    "Dataset:<br>\n",
    "\n",
    "- 1000 documents (text content for each document)\n",
    "- 10 sample queries <br>\n",
    "IR System:<br>\n",
    "\n",
    "Implement TF-IDF calculation for document-term matrix construction. <br>\n",
    "Develop a cosine similarity-based retrieval system to rank documents for each query. <br>\n",
    "Rank the top 10 documents for each query using the IR system. <br>\n",
    "Evaluation: <br>\n",
    "\n",
    "Compute Precision at k (P@k) for k=5, k=6, and k=10 for each query.<br>\n",
    "Calculate Mean Average Precision (MAP) across all queries. <br>\n",
    "Calculate the Mean Reciprocal Rank (MRR) across all queries.(3) <br><br>\n",
    "**Part 2: Assessing Inter-Annotator Agreement (6/16)**<br>\n",
    "\n",
    "Given the relevance assessments by three different annotators for a set of documents:<br>\n",
    "\n",
    "Annotator 1,2 and 3 relevance assessments<br>\n",
    "\n",
    "You are expected to: <br>\n",
    "\n",
    "Compute pairwise Cohen's Kappa values for the annotators' relevance assessments.<br>\n",
    "Discuss the observed agreement levels among annotators.<br>\n",
    "Explain how to improve the kappa value if we are not satisfied with the kappa.<br>\n"
   ]
  },
  {
   "cell_type": "markdown",
   "metadata": {},
   "source": [
    "----------------------------------------------------------------------------------------\n",
    "- Part 1"
   ]
  },
  {
   "cell_type": "code",
   "execution_count": 9,
   "outputs": [],
   "source": [
    "from sklearn.feature_extraction.text import TfidfVectorizer\n",
    "from sklearn.metrics.pairwise import cosine_similarity\n",
    "from sklearn.metrics import cohen_kappa_score"
   ],
   "metadata": {
    "collapsed": false,
    "ExecuteTime": {
     "end_time": "2023-12-08T18:07:53.526175Z",
     "start_time": "2023-12-08T18:07:53.506586Z"
    }
   }
  },
  {
   "cell_type": "code",
   "execution_count": 10,
   "metadata": {
    "ExecuteTime": {
     "end_time": "2023-12-08T18:07:53.527680Z",
     "start_time": "2023-12-08T18:07:53.514825Z"
    }
   },
   "outputs": [
    {
     "name": "stdout",
     "output_type": "stream",
     "text": [
      "100\n"
     ]
    }
   ],
   "source": [
    "documents = [\n",
    "    \"Machine learning is transforming various industries.\",\n",
    "    \"Natural language processing helps in text analysis.\",\n",
    "    \"AI algorithms can improve decision-making processes.\",\n",
    "    \"Data science involves extracting insights from data.\",\n",
    "    \"Robotics is a field combining hardware and software.\",\n",
    "    \"Deep learning models require large amounts of data.\",\n",
    "    \"Blockchain technology secures digital transactions.\",\n",
    "    \"Cloud computing offers scalable computing power.\",\n",
    "    \"Virtual reality provides immersive experiences.\",\n",
    "    \"Augmented reality enhances real-world environments.\",\n",
    "    \"Internet of Things connects devices for data exchange.\",\n",
    "    \"Biometric authentication ensures secure access.\",\n",
    "    \"Quantum computing promises faster computations.\",\n",
    "    \"Cybersecurity protects against digital threats.\",\n",
    "    \"Ethical considerations in AI development are crucial.\",\n",
    "    \"Healthcare benefits from AI-driven diagnostics.\",\n",
    "    \"E-commerce relies on personalized recommendation systems.\",\n",
    "    \"Autonomous vehicles revolutionize transportation.\",\n",
    "    \"Smart cities utilize IoT for efficient operations.\",\n",
    "    \"Social media analysis aids in understanding trends.\",\n",
    "    \"Predictive analytics anticipates future outcomes.\",\n",
    "    \"Remote work trends increase reliance on digital tools.\",\n",
    "    \"Energy efficiency through smart grids is vital.\",\n",
    "    \"Fintech innovations reshape financial services.\",\n",
    "    \"Data privacy concerns arise in the era of big data.\",\n",
    "    \"Artificial general intelligence remains a challenge.\",\n",
    "    \"Human-computer interaction shapes user experiences.\",\n",
    "    \"Big data analytics drives informed decision-making.\",\n",
    "    \"Climate change predictions benefit from AI models.\",\n",
    "    \"Bioinformatics applies computational techniques to biology.\",\n",
    "    \"Robotic process automation streamlines workflows.\",\n",
    "    \"Industry 4.0 integrates AI with manufacturing.\",\n",
    "    \"Sentiment analysis detects emotions in text data.\",\n",
    "    \"Reinforcement learning powers autonomous agents.\",\n",
    "    \"Data visualization simplifies complex information.\",\n",
    "    \"Edge computing reduces latency in data processing.\",\n",
    "    \"Smart farming optimizes agricultural practices.\",\n",
    "    \"AI in education enhances personalized learning.\",\n",
    "    \"Natural disaster predictions leverage machine learning.\",\n",
    "    \"Media recommendation systems personalize content.\",\n",
    "    \"Speech recognition enables hands-free interactions.\",\n",
    "    \"Genetic algorithms mimic natural selection.\",\n",
    "    \"Neural networks simulate the human brain.\",\n",
    "    \"Behavioral analytics uncovers patterns in behavior.\",\n",
    "    \"Spatial analysis benefits from geospatial data.\",\n",
    "    \"Explainable AI improves transparency in models.\",\n",
    "    \"AI ethics guide responsible technology development.\",\n",
    "    \"Prescriptive analytics offers actionable insights.\",\n",
    "    \"Supply chain optimization employs predictive models.\",\n",
    "    \"Emotion AI detects emotions in facial expressions.\",\n",
    "    \"Distributed ledger technology ensures secure transactions.\",\n",
    "    \"Biological data analysis aids in medical research.\",\n",
    "    \"Smart grid technology enhances energy distribution.\",\n",
    "    \"AI-powered chatbots automate customer support.\",\n",
    "    \"Machine translation breaks language barriers.\",\n",
    "    \"Personalized medicine tailors treatments to individuals.\",\n",
    "    \"Data-driven marketing optimizes customer engagement.\",\n",
    "    \"Smart home devices enhance living experiences.\",\n",
    "    \"Time series forecasting predicts future trends.\",\n",
    "    \"AI-driven creativity challenges human capabilities.\",\n",
    "    \"Intelligent document processing automates data extraction.\",\n",
    "    \"Graph analytics explores relationships in networks.\",\n",
    "    \"Adversarial attacks pose challenges to AI security.\",\n",
    "    \"Predictive maintenance minimizes equipment downtime.\",\n",
    "    \"Spatial reasoning enhances AI navigation systems.\",\n",
    "    \"Privacy-preserving techniques protect sensitive data.\",\n",
    "    \"Automated decision-making raises ethical concerns.\",\n",
    "    \"Behavioral biometrics verifies user identities.\",\n",
    "    \"Explainable recommendations increase user trust.\",\n",
    "    \"Quantum machine learning explores quantum states.\",\n",
    "    \"Internet censorship detection uses AI techniques.\",\n",
    "    \"Smart wearables monitor health and fitness.\",\n",
    "    \"Intelligent tutoring systems adapt to student needs.\",\n",
    "    \"Graph neural networks model complex relationships.\",\n",
    "    \"AI in sports analytics improves performance analysis.\",\n",
    "    \"Facial recognition technology raises privacy debates.\",\n",
    "    \"Digital twin technology replicates physical systems.\",\n",
    "    \"Emotion detection in video content aids analysis.\",\n",
    "    \"Neuromorphic computing mimics brain structure.\",\n",
    "    \"Robotic surgery enhances precision in operations.\",\n",
    "    \"AI-powered language translation assists global communication.\",\n",
    "    \"Automated content moderation filters online content.\",\n",
    "    \"Network anomaly detection identifies security threats.\",\n",
    "    \"Predictive policing uses data to prevent crime.\",\n",
    "    \"Quantum cryptography ensures secure communications.\",\n",
    "    \"AI-generated art challenges traditional creativity.\",\n",
    "    \"Ethical considerations in autonomous vehicles are debated.\",\n",
    "    \"Adaptive learning systems personalize educational content.\",\n",
    "    \"Biomedical image analysis aids in disease diagnosis.\",\n",
    "    \"Explainable computer vision interprets image features.\",\n",
    "    \"AI-driven personalization enhances user experiences.\",\n",
    "    \"Conversational AI improves human-like interactions.\",\n",
    "    \"Federated learning protects individual data privacy.\",\n",
    "    \"Human-centered AI design prioritizes user needs.\",\n",
    "    \"Quantum annealing solves optimization problems.\",\n",
    "    \"Behavior-based authentication enhances security.\",\n",
    "    \"AI in music composition transforms creative processes.\",\n",
    "    \"Semantic search improves information retrieval.\",\n",
    "    \"Recommender systems optimize user preferences.\",\n",
    "    \"Information Retrieval systems are outdated without neural networks\"\n",
    "]\n",
    "print(len(documents))"
   ]
  },
  {
   "cell_type": "code",
   "execution_count": 11,
   "metadata": {
    "ExecuteTime": {
     "end_time": "2023-12-08T18:07:53.534491Z",
     "start_time": "2023-12-08T18:07:53.530201Z"
    }
   },
   "outputs": [
    {
     "name": "stdout",
     "output_type": "stream",
     "text": [
      "10\n"
     ]
    }
   ],
   "source": [
    "queries = [\n",
    "    \"What are the impacts of AI on healthcare?\",\n",
    "    \"How does machine learning improve financial services?\",\n",
    "    \"What is the role of AI in autonomous vehicles?\",\n",
    "    \"Explain the applications of natural language processing.\",\n",
    "    \"How does robotics benefit from AI integration?\",\n",
    "    \"What are the challenges in implementing AI in education?\",\n",
    "    \"How does data science contribute to climate change predictions?\",\n",
    "    \"What are the ethical considerations in AI development?\",\n",
    "    \"Explain the significance of AI in smart cities.\",\n",
    "    \"How does AI enhance cybersecurity measures?\"\n",
    "]\n",
    "print(len(queries))"
   ]
  },
  {
   "cell_type": "code",
   "execution_count": 12,
   "metadata": {
    "ExecuteTime": {
     "end_time": "2023-12-08T18:07:53.554939Z",
     "start_time": "2023-12-08T18:07:53.534519Z"
    }
   },
   "outputs": [
    {
     "name": "stdout",
     "output_type": "stream",
     "text": [
      "10\n"
     ]
    }
   ],
   "source": [
    "ground_truth =[[3, 74, 38, 92, 71, 72, 98, 48, 18, 100], \n",
    "                [12, 26, 52, 54, 21, 63, 64, 45, 14, 83],\n",
    "                [58, 77, 62, 31, 6, 61, 36, 96, 85, 18], \n",
    "                [99, 62, 98, 34, 63, 79, 43, 31, 3, 16],\n",
    "                [8, 88, 73, 82, 37, 25, 34, 87, 66, 58], \n",
    "                [90, 40, 84, 64, 34, 2, 73, 23, 59, 89],\n",
    "                [80, 10, 86, 21, 68, 37, 83, 57, 6, 98],\n",
    "                [22, 3, 2, 44, 56, 80, 50, 63, 87, 13],\n",
    "                [1, 18, 22, 44, 99, 72, 24, 95, 10, 87],\n",
    "                [31, 10, 56, 50, 75, 4, 18, 85, 84, 74]\n",
    "                           ]\n",
    "print(len(ground_truth))"
   ]
  },
  {
   "cell_type": "code",
   "execution_count": 20,
   "metadata": {
    "ExecuteTime": {
     "end_time": "2023-12-08T19:30:47.223892Z",
     "start_time": "2023-12-08T19:30:47.145830Z"
    }
   },
   "outputs": [
    {
     "name": "stdout",
     "output_type": "stream",
     "text": [
      "[[0.         0.         0.05369247 0.         0.         0.14077287\n",
      "  0.         0.         0.         0.         0.13664188 0.\n",
      "  0.         0.         0.219157   0.28532093 0.18078151 0.\n",
      "  0.         0.         0.         0.15041547 0.         0.\n",
      "  0.27334757 0.         0.         0.         0.05366144 0.\n",
      "  0.         0.0605609  0.         0.         0.         0.\n",
      "  0.         0.06889688 0.         0.         0.         0.\n",
      "  0.18490832 0.         0.         0.06571741 0.05791905 0.\n",
      "  0.         0.05634082 0.         0.         0.         0.05621812\n",
      "  0.         0.         0.         0.         0.         0.06168574\n",
      "  0.         0.         0.0540962  0.         0.06172844 0.\n",
      "  0.         0.         0.         0.         0.05945264 0.\n",
      "  0.         0.         0.06059861 0.         0.         0.\n",
      "  0.         0.         0.05244155 0.         0.         0.\n",
      "  0.         0.05681766 0.15401874 0.         0.         0.\n",
      "  0.06536486 0.05980962 0.         0.05449853 0.         0.\n",
      "  0.0538115  0.         0.         0.14094465]]\n",
      "[[0.25442686 0.         0.21092398 0.         0.         0.09500284\n",
      "  0.         0.         0.         0.         0.         0.\n",
      "  0.         0.         0.         0.         0.         0.\n",
      "  0.         0.         0.         0.         0.         0.43934597\n",
      "  0.         0.         0.         0.         0.         0.\n",
      "  0.         0.         0.         0.11529871 0.         0.\n",
      "  0.         0.13051226 0.25864524 0.         0.         0.\n",
      "  0.         0.         0.         0.         0.         0.\n",
      "  0.         0.         0.         0.         0.         0.\n",
      "  0.15795136 0.         0.         0.         0.         0.\n",
      "  0.         0.         0.         0.         0.         0.\n",
      "  0.         0.         0.         0.23681683 0.         0.\n",
      "  0.         0.         0.         0.         0.         0.\n",
      "  0.         0.         0.         0.         0.         0.\n",
      "  0.         0.         0.         0.1120485  0.         0.\n",
      "  0.         0.         0.11396038 0.         0.         0.\n",
      "  0.         0.         0.         0.        ]]\n",
      "[[0.15825516 0.0634419  0.05349572 0.         0.13632298 0.14025703\n",
      "  0.         0.         0.         0.         0.13614118 0.\n",
      "  0.         0.         0.1215697  0.05919281 0.         0.39562858\n",
      "  0.         0.06225546 0.         0.         0.1411719  0.\n",
      "  0.3230885  0.         0.         0.         0.0534648  0.\n",
      "  0.         0.06033898 0.0647754  0.17022075 0.         0.06219796\n",
      "  0.         0.14549442 0.         0.         0.         0.\n",
      "  0.18423075 0.06550019 0.         0.13878009 0.05770681 0.\n",
      "  0.         0.11897889 0.         0.06384412 0.         0.05601212\n",
      "  0.         0.         0.         0.         0.         0.0614597\n",
      "  0.         0.06940321 0.05389797 0.         0.06150225 0.\n",
      "  0.         0.         0.         0.         0.05923478 0.\n",
      "  0.         0.         0.12797037 0.         0.         0.06446157\n",
      "  0.         0.06578893 0.05224938 0.         0.         0.\n",
      "  0.         0.05660946 0.38970208 0.         0.06069259 0.\n",
      "  0.06512533 0.05959046 0.         0.05429882 0.         0.\n",
      "  0.11363755 0.         0.         0.        ]]\n",
      "[[0.         0.51709951 0.         0.         0.         0.15198679\n",
      "  0.         0.         0.         0.         0.14752673 0.\n",
      "  0.         0.         0.         0.         0.         0.\n",
      "  0.         0.         0.         0.         0.         0.\n",
      "  0.29512234 0.         0.         0.         0.         0.\n",
      "  0.         0.         0.         0.         0.         0.16898679\n",
      "  0.         0.         0.1743334  0.         0.         0.17706287\n",
      "  0.19963805 0.         0.         0.         0.         0.\n",
      "  0.         0.         0.         0.         0.         0.\n",
      "  0.18397432 0.         0.         0.         0.         0.\n",
      "  0.17094806 0.         0.         0.         0.         0.\n",
      "  0.         0.         0.         0.         0.         0.\n",
      "  0.         0.         0.         0.         0.         0.\n",
      "  0.         0.         0.15892655 0.         0.         0.\n",
      "  0.         0.         0.         0.         0.         0.\n",
      "  0.         0.         0.         0.         0.         0.\n",
      "  0.         0.         0.         0.        ]]\n",
      "[[0.         0.         0.06602451 0.16026506 0.2279261  0.\n",
      "  0.         0.         0.         0.         0.         0.\n",
      "  0.         0.         0.07078975 0.25704942 0.         0.\n",
      "  0.         0.         0.         0.         0.         0.\n",
      "  0.         0.         0.         0.         0.48309033 0.\n",
      "  0.         0.07447047 0.         0.         0.         0.\n",
      "  0.         0.08472106 0.         0.         0.         0.\n",
      "  0.         0.         0.18981503 0.08081132 0.07122184 0.\n",
      "  0.         0.06928113 0.         0.         0.         0.06913025\n",
      "  0.         0.         0.         0.         0.         0.07585366\n",
      "  0.         0.         0.06652096 0.         0.07590618 0.\n",
      "  0.         0.         0.         0.         0.07310767 0.\n",
      "  0.         0.         0.07451684 0.         0.         0.\n",
      "  0.         0.         0.06448628 0.         0.         0.\n",
      "  0.         0.06986749 0.         0.         0.         0.\n",
      "  0.0803778  0.07354664 0.         0.0670157  0.         0.\n",
      "  0.06617088 0.         0.         0.        ]]\n",
      "[[0.         0.12277747 0.05176444 0.         0.         0.\n",
      "  0.         0.         0.         0.         0.         0.\n",
      "  0.         0.         0.33555707 0.05727715 0.         0.\n",
      "  0.         0.12048138 0.         0.         0.         0.\n",
      "  0.23862643 0.         0.         0.         0.05173452 0.\n",
      "  0.         0.05838623 0.12535814 0.         0.         0.12037008\n",
      "  0.         0.46772386 0.         0.         0.         0.\n",
      "  0.17826848 0.12676081 0.         0.20521993 0.05583924 0.\n",
      "  0.         0.17593906 0.         0.12355585 0.         0.0541994\n",
      "  0.         0.         0.         0.         0.         0.22640167\n",
      "  0.         0.13431423 0.19854621 0.         0.05951185 0.\n",
      "  0.         0.         0.         0.         0.05731777 0.\n",
      "  0.         0.         0.18923514 0.         0.         0.1247508\n",
      "  0.         0.1273196  0.05055843 0.         0.         0.\n",
      "  0.         0.20853464 0.2669357  0.         0.11745679 0.\n",
      "  0.06301768 0.05766193 0.         0.05254155 0.         0.\n",
      "  0.1680406  0.         0.         0.13588349]]\n",
      "[[0.         0.         0.         0.31559752 0.         0.06119289\n",
      "  0.         0.         0.         0.         0.05939718 0.\n",
      "  0.         0.         0.         0.         0.         0.\n",
      "  0.         0.         0.         0.         0.         0.\n",
      "  0.11101312 0.         0.         0.06685662 0.55792359 0.11942904\n",
      "  0.         0.         0.07085685 0.         0.07712043 0.06803743\n",
      "  0.         0.         0.17720283 0.         0.         0.\n",
      "  0.         0.         0.07478377 0.         0.         0.\n",
      "  0.         0.         0.         0.06983814 0.         0.\n",
      "  0.         0.11942904 0.07052549 0.         0.         0.\n",
      "  0.06882707 0.         0.11941607 0.         0.         0.07012121\n",
      "  0.         0.         0.         0.         0.         0.\n",
      "  0.11491302 0.         0.         0.         0.         0.\n",
      "  0.         0.         0.         0.         0.         0.1837352\n",
      "  0.         0.         0.         0.         0.         0.\n",
      "  0.         0.         0.07340375 0.         0.         0.\n",
      "  0.         0.         0.         0.        ]]\n",
      "[[0.         0.0627153  0.05288303 0.         0.         0.\n",
      "  0.         0.         0.         0.         0.         0.\n",
      "  0.         0.         0.80157164 0.05851487 0.         0.\n",
      "  0.         0.06154244 0.         0.         0.         0.\n",
      "  0.19362154 0.         0.         0.         0.05285246 0.\n",
      "  0.         0.05964791 0.06403352 0.         0.         0.06148559\n",
      "  0.         0.14382805 0.         0.         0.         0.\n",
      "  0.18212073 0.06475    0.         0.13719062 0.23969786 0.\n",
      "  0.         0.11761621 0.         0.0631129  0.         0.0553706\n",
      "  0.         0.         0.         0.         0.         0.06075579\n",
      "  0.         0.06860833 0.05328067 0.         0.06079785 0.\n",
      "  0.15877001 0.         0.         0.         0.05855636 0.\n",
      "  0.         0.         0.1265047  0.         0.         0.06372328\n",
      "  0.         0.06503544 0.05165096 0.         0.         0.\n",
      "  0.         0.0559611  0.53693558 0.         0.05999747 0.\n",
      "  0.06437944 0.05890796 0.         0.05367693 0.         0.\n",
      "  0.11233605 0.         0.         0.13881983]]\n",
      "[[0.         0.06968491 0.05875997 0.         0.         0.15405903\n",
      "  0.         0.         0.         0.         0.14953815 0.\n",
      "  0.         0.         0.13353278 0.06501768 0.         0.\n",
      "  0.32407118 0.06838171 0.         0.         0.1167391  0.\n",
      "  0.35488204 0.         0.         0.         0.05872601 0.\n",
      "  0.         0.06627664 0.07114962 0.         0.         0.06831855\n",
      "  0.13789262 0.15981181 0.         0.         0.         0.\n",
      "  0.20235998 0.07194574 0.         0.15243675 0.06338545 0.\n",
      "  0.         0.13068701 0.         0.0701267  0.13678127 0.06152399\n",
      "  0.         0.         0.         0.12855166 0.         0.06750764\n",
      "  0.         0.07623284 0.0592018  0.         0.06755438 0.\n",
      "  0.         0.         0.         0.         0.06506378 0.1244658\n",
      "  0.         0.         0.1405633  0.         0.         0.07080492\n",
      "  0.         0.07226289 0.05739098 0.         0.         0.\n",
      "  0.         0.06218012 0.06722739 0.         0.06666505 0.\n",
      "  0.07153399 0.06545446 0.         0.0596421  0.         0.\n",
      "  0.12482006 0.         0.         0.        ]]\n",
      "[[0.         0.         0.07506729 0.         0.         0.\n",
      "  0.         0.         0.         0.         0.         0.\n",
      "  0.         0.31885639 0.08048519 0.08306167 0.         0.\n",
      "  0.         0.         0.         0.         0.         0.\n",
      "  0.         0.         0.         0.         0.0750239  0.\n",
      "  0.         0.08467002 0.         0.         0.         0.\n",
      "  0.         0.09632454 0.         0.         0.         0.\n",
      "  0.         0.         0.         0.09187932 0.08097645 0.\n",
      "  0.         0.07876994 0.         0.         0.         0.0785984\n",
      "  0.         0.         0.         0.29551542 0.         0.08624265\n",
      "  0.         0.         0.07563174 0.         0.08630236 0.\n",
      "  0.         0.         0.         0.         0.08312056 0.\n",
      "  0.         0.         0.08472274 0.         0.         0.\n",
      "  0.         0.         0.07331838 0.         0.         0.\n",
      "  0.         0.07943661 0.         0.         0.         0.\n",
      "  0.09138642 0.08361966 0.         0.07619424 0.         0.\n",
      "  0.07523371 0.         0.         0.        ]]\n"
     ]
    }
   ],
   "source": [
    "## TODO: Implement your solution for part 1\n",
    "vectorizer = TfidfVectorizer()\n",
    "tfidf_matrix = vectorizer.fit_transform(documents)\n",
    "docs = []\n",
    "for q in queries:\n",
    "    query_vector = vectorizer.transform([q])\n",
    "    \n",
    "    cs = cosine_similarity(query_vector, tfidf_matrix)\n",
    "    res = cs[0].argsort()[-10:][::-1]\n",
    "    docs.append(res.tolist())\n",
    "    print(cs)\n",
    "    #print(f\"Top documents for the query '{q}' is:\")\n",
    "    ind = 1\n",
    "    for i in res:\n",
    "        #print(f'{ind}. {documents[i]}')\n",
    "        ind = ind + 1\n",
    "    #print('\\n')"
   ]
  },
  {
   "cell_type": "code",
   "execution_count": 14,
   "outputs": [
    {
     "name": "stdout",
     "output_type": "stream",
     "text": [
      "[[15, 24, 14, 42, 16, 86, 21, 99, 5, 10], [23, 38, 0, 69, 2, 54, 37, 33, 92, 87], [17, 86, 24, 42, 33, 0, 37, 22, 5, 45], [1, 24, 42, 54, 41, 38, 60, 35, 80, 5], [28, 15, 4, 44, 3, 37, 45, 90, 64, 59], [37, 14, 86, 24, 59, 85, 45, 62, 74, 42], [28, 3, 83, 38, 29, 55, 62, 72, 24, 34], [14, 86, 46, 24, 42, 66, 37, 99, 45, 74], [24, 18, 42, 37, 5, 45, 10, 74, 36, 52], [13, 57, 37, 45, 90, 64, 59, 74, 31, 91]]\n"
     ]
    }
   ],
   "source": [
    "print(docs)"
   ],
   "metadata": {
    "collapsed": false,
    "ExecuteTime": {
     "end_time": "2023-12-08T18:07:53.620597Z",
     "start_time": "2023-12-08T18:07:53.573806Z"
    }
   }
  },
  {
   "cell_type": "markdown",
   "source": [
    "### Evaluation:"
   ],
   "metadata": {
    "collapsed": false
   }
  },
  {
   "cell_type": "code",
   "execution_count": 15,
   "outputs": [
    {
     "name": "stdout",
     "output_type": "stream",
     "text": [
      "The precision of query \"What are the impacts of AI on healthcare?\" for k values \n",
      "5: 0.0\n",
      "6: 0.0\n",
      "10: 0.1\n",
      "The precision of query \"How does machine learning improve financial services?\" for k values \n",
      "5: 0.2\n",
      "6: 0.16666666666666666\n",
      "10: 0.2\n",
      "The precision of query \"What is the role of AI in autonomous vehicles?\" for k values \n",
      "5: 0.0\n",
      "6: 0.0\n",
      "10: 0.1\n",
      "The precision of query \"Explain the applications of natural language processing.\" for k values \n",
      "5: 0.0\n",
      "6: 0.0\n",
      "10: 0.0\n",
      "The precision of query \"How does robotics benefit from AI integration?\" for k values \n",
      "5: 0.2\n",
      "6: 0.16666666666666666\n",
      "10: 0.1\n",
      "The precision of query \"What are the challenges in implementing AI in education?\" for k values \n",
      "5: 0.2\n",
      "6: 0.16666666666666666\n",
      "10: 0.1\n",
      "The precision of query \"How does data science contribute to climate change predictions?\" for k values \n",
      "5: 0.0\n",
      "6: 0.0\n",
      "10: 0.1\n",
      "The precision of query \"What are the ethical considerations in AI development?\" for k values \n",
      "5: 0.2\n",
      "6: 0.16666666666666666\n",
      "10: 0.2\n",
      "The precision of query \"Explain the significance of AI in smart cities.\" for k values \n",
      "5: 0.0\n",
      "6: 0.0\n",
      "10: 0.0\n",
      "The precision of query \"How does AI enhance cybersecurity measures?\" for k values \n",
      "5: 0.0\n",
      "6: 0.0\n",
      "10: 0.0\n",
      "\n",
      "\n",
      "The mean average precision across all the queries is: 0.07888888888888888\n"
     ]
    }
   ],
   "source": [
    "map_values = []\n",
    "for i,query in enumerate(queries):\n",
    "    relevant_documents = ground_truth[i-1]\n",
    "    retrieved_documents = docs[i]\n",
    "    \n",
    "    k_values = [5,6,10]\n",
    "    precision_at_k = []\n",
    "    \n",
    "    for k in k_values:\n",
    "        retrieved_doc = retrieved_documents[:k]\n",
    "        \n",
    "        tp = set(relevant_documents) & set(retrieved_doc)\n",
    "        precision = len(tp)/len(retrieved_doc)\n",
    "        \n",
    "        precision_at_k.append(precision)\n",
    "    \n",
    "    print(f'The precision of query \"{query}\" for k values \\n5: {precision_at_k[0]}'\n",
    "          f'\\n6: {precision_at_k[1]}'\n",
    "          f'\\n10: {precision_at_k[2]}')\n",
    "    avg_precision = sum(precision_at_k)/len(precision_at_k)\n",
    "    map_values.append(avg_precision)\n",
    "    \n",
    "map = sum(map_values)/len(map_values)\n",
    "print(\"\\n\")\n",
    "print(f'The mean average precision across all the queries is: {map}')"
   ],
   "metadata": {
    "collapsed": false,
    "ExecuteTime": {
     "end_time": "2023-12-08T18:07:53.620888Z",
     "start_time": "2023-12-08T18:07:53.580430Z"
    }
   }
  },
  {
   "cell_type": "markdown",
   "metadata": {},
   "source": [
    "-------------------------------------------------------------------\n",
    "- Part 2"
   ]
  },
  {
   "cell_type": "code",
   "execution_count": 16,
   "metadata": {
    "ExecuteTime": {
     "end_time": "2023-12-08T18:07:53.621131Z",
     "start_time": "2023-12-08T18:07:53.590260Z"
    }
   },
   "outputs": [],
   "source": [
    "# 0 is not relevant, 1 is relevant\n",
    "annotator1_relevance = [1, 0, 1, 0, 1, 1, 0, 0, 1, 0]  \n",
    "annotator2_relevance = [1, 1, 1, 0, 1, 0, 0, 1, 1, 1]  \n",
    "annotator3_relevance = [1, 0, 0, 0, 1, 0, 0, 1, 1, 0]  "
   ]
  },
  {
   "cell_type": "code",
   "execution_count": 17,
   "metadata": {
    "ExecuteTime": {
     "end_time": "2023-12-08T18:07:53.621362Z",
     "start_time": "2023-12-08T18:07:53.600231Z"
    }
   },
   "outputs": [
    {
     "name": "stdout",
     "output_type": "stream",
     "text": [
      "The kappa score between annotator 1 and 2 is : 0.19999999999999996\n",
      "The kappa score between annotator 1 and 3 is : 0.4\n",
      "The kappa score between annotator 2 and 3 is : 0.44444444444444453\n"
     ]
    }
   ],
   "source": [
    "## TODO: Implement your solution for part 2\n",
    "kappa_scores = []\n",
    "kappa_scores.append(cohen_kappa_score(annotator1_relevance, annotator2_relevance))\n",
    "kappa_scores.append(cohen_kappa_score(annotator1_relevance, annotator3_relevance))\n",
    "kappa_scores.append(cohen_kappa_score(annotator2_relevance, annotator3_relevance))\n",
    "\n",
    "print(f'The kappa score between annotator 1 and 2 is : {kappa_scores[0]}')\n",
    "print(f'The kappa score between annotator 1 and 3 is : {kappa_scores[1]}')\n",
    "print(f'The kappa score between annotator 2 and 3 is : {kappa_scores[2]}')"
   ]
  },
  {
   "cell_type": "markdown",
   "source": [
    "The output suggests a decent agreement between annotators 1 and 3, and annotators 2 and 3, but there is less agreement between annotators 1 and 2.\n",
    "\n",
    "It will be possible to improve the kappa score by getting more and better data."
   ],
   "metadata": {
    "collapsed": false
   }
  },
  {
   "cell_type": "code",
   "execution_count": 17,
   "outputs": [],
   "source": [],
   "metadata": {
    "collapsed": false,
    "ExecuteTime": {
     "end_time": "2023-12-08T18:07:53.621704Z",
     "start_time": "2023-12-08T18:07:53.603174Z"
    }
   }
  }
 ],
 "metadata": {
  "kernelspec": {
   "display_name": "Python 3",
   "language": "python",
   "name": "python3"
  },
  "language_info": {
   "codemirror_mode": {
    "name": "ipython",
    "version": 3
   },
   "file_extension": ".py",
   "mimetype": "text/x-python",
   "name": "python",
   "nbconvert_exporter": "python",
   "pygments_lexer": "ipython3",
   "version": "3.7.7"
  }
 },
 "nbformat": 4,
 "nbformat_minor": 2
}
