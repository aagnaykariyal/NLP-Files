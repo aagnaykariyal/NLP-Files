{
 "cells": [
  {
   "attachments": {},
   "cell_type": "markdown",
   "metadata": {},
   "source": [
    "# Lab Assignment 6\n",
    "#### This Lab task is to completed individually, Please Add your Name and ID Below, please comment your code thoroughly and name your variables wisely. (Grade out of 23, 3 marks for commented organized code.)\n",
    "- Name: Aagnay kariyal\n",
    "- ID: 8830232"
   ]
  },
  {
   "attachments": {},
   "cell_type": "markdown",
   "metadata": {},
   "source": [
    "### Question 1- DATA INTEGRATION:  (5)\n",
    "Check the files inside microbiome folder, (MID1, MID2, ... , MID9.xls files), you need to combine those files into single dataframe.<br>\n",
    "Then You will need to add to this dataframe the relevant metadata information from metadata.csv <br>\n",
    "__Inspect the files before answering the question__\n"
   ]
  },
  {
   "cell_type": "code",
   "execution_count": 17,
   "outputs": [],
   "source": [
    "# Importing all the dependencies\n",
    "import pandas as pd"
   ],
   "metadata": {
    "collapsed": false,
    "ExecuteTime": {
     "end_time": "2023-10-20T02:06:42.515356Z",
     "start_time": "2023-10-20T02:06:42.368149Z"
    }
   }
  },
  {
   "cell_type": "code",
   "execution_count": 18,
   "outputs": [
    {
     "data": {
      "text/plain": "                                                     0   1 BARCODE\n0    Archaea \"Crenarchaeota\" Thermoprotei Desulfuro...   7    MID1\n1    Archaea \"Crenarchaeota\" Thermoprotei Desulfuro...   2    MID1\n2    Archaea \"Crenarchaeota\" Thermoprotei Sulfoloba...   3    MID1\n3    Archaea \"Crenarchaeota\" Thermoprotei Thermopro...   3    MID1\n4    Archaea \"Euryarchaeota\" \"Methanomicrobia\" Meth...   7    MID1\n..                                                 ...  ..     ...\n276  Bacteria \"Thermotogae\" Thermotogae Thermotogal...  43    MID9\n277  Bacteria \"Thermotogae\" Thermotogae Thermotogal...  16    MID9\n278  Bacteria \"Verrucomicrobia\" Opitutae Opitutales...   1    MID9\n279  Bacteria Cyanobacteria Cyanobacteria  Chloropl...   1    MID9\n280  Bacteria Cyanobacteria Cyanobacteria  Chloropl...  10    MID9\n\n[2396 rows x 3 columns]",
      "text/html": "<div>\n<style scoped>\n    .dataframe tbody tr th:only-of-type {\n        vertical-align: middle;\n    }\n\n    .dataframe tbody tr th {\n        vertical-align: top;\n    }\n\n    .dataframe thead th {\n        text-align: right;\n    }\n</style>\n<table border=\"1\" class=\"dataframe\">\n  <thead>\n    <tr style=\"text-align: right;\">\n      <th></th>\n      <th>0</th>\n      <th>1</th>\n      <th>BARCODE</th>\n    </tr>\n  </thead>\n  <tbody>\n    <tr>\n      <th>0</th>\n      <td>Archaea \"Crenarchaeota\" Thermoprotei Desulfuro...</td>\n      <td>7</td>\n      <td>MID1</td>\n    </tr>\n    <tr>\n      <th>1</th>\n      <td>Archaea \"Crenarchaeota\" Thermoprotei Desulfuro...</td>\n      <td>2</td>\n      <td>MID1</td>\n    </tr>\n    <tr>\n      <th>2</th>\n      <td>Archaea \"Crenarchaeota\" Thermoprotei Sulfoloba...</td>\n      <td>3</td>\n      <td>MID1</td>\n    </tr>\n    <tr>\n      <th>3</th>\n      <td>Archaea \"Crenarchaeota\" Thermoprotei Thermopro...</td>\n      <td>3</td>\n      <td>MID1</td>\n    </tr>\n    <tr>\n      <th>4</th>\n      <td>Archaea \"Euryarchaeota\" \"Methanomicrobia\" Meth...</td>\n      <td>7</td>\n      <td>MID1</td>\n    </tr>\n    <tr>\n      <th>...</th>\n      <td>...</td>\n      <td>...</td>\n      <td>...</td>\n    </tr>\n    <tr>\n      <th>276</th>\n      <td>Bacteria \"Thermotogae\" Thermotogae Thermotogal...</td>\n      <td>43</td>\n      <td>MID9</td>\n    </tr>\n    <tr>\n      <th>277</th>\n      <td>Bacteria \"Thermotogae\" Thermotogae Thermotogal...</td>\n      <td>16</td>\n      <td>MID9</td>\n    </tr>\n    <tr>\n      <th>278</th>\n      <td>Bacteria \"Verrucomicrobia\" Opitutae Opitutales...</td>\n      <td>1</td>\n      <td>MID9</td>\n    </tr>\n    <tr>\n      <th>279</th>\n      <td>Bacteria Cyanobacteria Cyanobacteria  Chloropl...</td>\n      <td>1</td>\n      <td>MID9</td>\n    </tr>\n    <tr>\n      <th>280</th>\n      <td>Bacteria Cyanobacteria Cyanobacteria  Chloropl...</td>\n      <td>10</td>\n      <td>MID9</td>\n    </tr>\n  </tbody>\n</table>\n<p>2396 rows × 3 columns</p>\n</div>"
     },
     "execution_count": 18,
     "metadata": {},
     "output_type": "execute_result"
    }
   ],
   "source": [
    "numbers = range(1,10) # Creating a range to iterate through all the file names\n",
    "new_dataframe = pd.DataFrame() # Creating a dataframe to store the values from all the files\n",
    "# We iterate through the for loop to get values from each document and concatenate it to the dataframe\n",
    "for num in numbers:\n",
    "    path = '/Users/aagnaykariyal/Documents/Github/Conestoga/Machine Learning Programming/Lab 6/microbiome/MID'+str(num)+'.xls' # defining the path\n",
    "    temp_df = pd.read_excel(path, header=None) # gathering the data\n",
    "    temp_df['BARCODE'] = 'MID'+str(num) # Creating a new column to indicate the file/BARCODE name\n",
    "    new_dataframe = pd.concat([new_dataframe, temp_df]) # Concatenating to the dataframe\n",
    "new_dataframe # Checking the dataframe and the data"
   ],
   "metadata": {
    "collapsed": false,
    "ExecuteTime": {
     "end_time": "2023-10-20T02:06:42.553012Z",
     "start_time": "2023-10-20T02:06:42.388019Z"
    }
   }
  },
  {
   "cell_type": "code",
   "execution_count": 19,
   "outputs": [
    {
     "data": {
      "text/plain": "  BARCODE               GROUP  SAMPLE\n0    MID1  EXTRACTION CONTROL     NaN\n1    MID2               NEC 1  tissue\n2    MID3           Control 1  tissue\n3    MID4               NEC 2  tissue\n4    MID5           Control 2  tissue\n5    MID6               NEC 1   stool\n6    MID7           Control 1   stool\n7    MID8               NEC 2   stool\n8    MID9           Control 2   stool",
      "text/html": "<div>\n<style scoped>\n    .dataframe tbody tr th:only-of-type {\n        vertical-align: middle;\n    }\n\n    .dataframe tbody tr th {\n        vertical-align: top;\n    }\n\n    .dataframe thead th {\n        text-align: right;\n    }\n</style>\n<table border=\"1\" class=\"dataframe\">\n  <thead>\n    <tr style=\"text-align: right;\">\n      <th></th>\n      <th>BARCODE</th>\n      <th>GROUP</th>\n      <th>SAMPLE</th>\n    </tr>\n  </thead>\n  <tbody>\n    <tr>\n      <th>0</th>\n      <td>MID1</td>\n      <td>EXTRACTION CONTROL</td>\n      <td>NaN</td>\n    </tr>\n    <tr>\n      <th>1</th>\n      <td>MID2</td>\n      <td>NEC 1</td>\n      <td>tissue</td>\n    </tr>\n    <tr>\n      <th>2</th>\n      <td>MID3</td>\n      <td>Control 1</td>\n      <td>tissue</td>\n    </tr>\n    <tr>\n      <th>3</th>\n      <td>MID4</td>\n      <td>NEC 2</td>\n      <td>tissue</td>\n    </tr>\n    <tr>\n      <th>4</th>\n      <td>MID5</td>\n      <td>Control 2</td>\n      <td>tissue</td>\n    </tr>\n    <tr>\n      <th>5</th>\n      <td>MID6</td>\n      <td>NEC 1</td>\n      <td>stool</td>\n    </tr>\n    <tr>\n      <th>6</th>\n      <td>MID7</td>\n      <td>Control 1</td>\n      <td>stool</td>\n    </tr>\n    <tr>\n      <th>7</th>\n      <td>MID8</td>\n      <td>NEC 2</td>\n      <td>stool</td>\n    </tr>\n    <tr>\n      <th>8</th>\n      <td>MID9</td>\n      <td>Control 2</td>\n      <td>stool</td>\n    </tr>\n  </tbody>\n</table>\n</div>"
     },
     "execution_count": 19,
     "metadata": {},
     "output_type": "execute_result"
    }
   ],
   "source": [
    "df_metadata = pd.read_excel('/Users/aagnaykariyal/Documents/Github/Conestoga/Machine Learning Programming/Lab 6/microbiome/metadata.xls') # Gathering the metadata\n",
    "df_metadata # Checking the dataframe"
   ],
   "metadata": {
    "collapsed": false,
    "ExecuteTime": {
     "end_time": "2023-10-20T02:06:42.553457Z",
     "start_time": "2023-10-20T02:06:42.432182Z"
    }
   }
  },
  {
   "cell_type": "code",
   "execution_count": 20,
   "outputs": [
    {
     "data": {
      "text/plain": "                                                      0   1 BARCODE  \\\n0     Archaea \"Crenarchaeota\" Thermoprotei Desulfuro...   7    MID1   \n1     Archaea \"Crenarchaeota\" Thermoprotei Desulfuro...   2    MID1   \n2     Archaea \"Crenarchaeota\" Thermoprotei Sulfoloba...   3    MID1   \n3     Archaea \"Crenarchaeota\" Thermoprotei Thermopro...   3    MID1   \n4     Archaea \"Euryarchaeota\" \"Methanomicrobia\" Meth...   7    MID1   \n...                                                 ...  ..     ...   \n2391  Bacteria \"Thermotogae\" Thermotogae Thermotogal...  43    MID9   \n2392  Bacteria \"Thermotogae\" Thermotogae Thermotogal...  16    MID9   \n2393  Bacteria \"Verrucomicrobia\" Opitutae Opitutales...   1    MID9   \n2394  Bacteria Cyanobacteria Cyanobacteria  Chloropl...   1    MID9   \n2395  Bacteria Cyanobacteria Cyanobacteria  Chloropl...  10    MID9   \n\n                   GROUP SAMPLE  \n0     EXTRACTION CONTROL    NaN  \n1     EXTRACTION CONTROL    NaN  \n2     EXTRACTION CONTROL    NaN  \n3     EXTRACTION CONTROL    NaN  \n4     EXTRACTION CONTROL    NaN  \n...                  ...    ...  \n2391           Control 2  stool  \n2392           Control 2  stool  \n2393           Control 2  stool  \n2394           Control 2  stool  \n2395           Control 2  stool  \n\n[2396 rows x 5 columns]",
      "text/html": "<div>\n<style scoped>\n    .dataframe tbody tr th:only-of-type {\n        vertical-align: middle;\n    }\n\n    .dataframe tbody tr th {\n        vertical-align: top;\n    }\n\n    .dataframe thead th {\n        text-align: right;\n    }\n</style>\n<table border=\"1\" class=\"dataframe\">\n  <thead>\n    <tr style=\"text-align: right;\">\n      <th></th>\n      <th>0</th>\n      <th>1</th>\n      <th>BARCODE</th>\n      <th>GROUP</th>\n      <th>SAMPLE</th>\n    </tr>\n  </thead>\n  <tbody>\n    <tr>\n      <th>0</th>\n      <td>Archaea \"Crenarchaeota\" Thermoprotei Desulfuro...</td>\n      <td>7</td>\n      <td>MID1</td>\n      <td>EXTRACTION CONTROL</td>\n      <td>NaN</td>\n    </tr>\n    <tr>\n      <th>1</th>\n      <td>Archaea \"Crenarchaeota\" Thermoprotei Desulfuro...</td>\n      <td>2</td>\n      <td>MID1</td>\n      <td>EXTRACTION CONTROL</td>\n      <td>NaN</td>\n    </tr>\n    <tr>\n      <th>2</th>\n      <td>Archaea \"Crenarchaeota\" Thermoprotei Sulfoloba...</td>\n      <td>3</td>\n      <td>MID1</td>\n      <td>EXTRACTION CONTROL</td>\n      <td>NaN</td>\n    </tr>\n    <tr>\n      <th>3</th>\n      <td>Archaea \"Crenarchaeota\" Thermoprotei Thermopro...</td>\n      <td>3</td>\n      <td>MID1</td>\n      <td>EXTRACTION CONTROL</td>\n      <td>NaN</td>\n    </tr>\n    <tr>\n      <th>4</th>\n      <td>Archaea \"Euryarchaeota\" \"Methanomicrobia\" Meth...</td>\n      <td>7</td>\n      <td>MID1</td>\n      <td>EXTRACTION CONTROL</td>\n      <td>NaN</td>\n    </tr>\n    <tr>\n      <th>...</th>\n      <td>...</td>\n      <td>...</td>\n      <td>...</td>\n      <td>...</td>\n      <td>...</td>\n    </tr>\n    <tr>\n      <th>2391</th>\n      <td>Bacteria \"Thermotogae\" Thermotogae Thermotogal...</td>\n      <td>43</td>\n      <td>MID9</td>\n      <td>Control 2</td>\n      <td>stool</td>\n    </tr>\n    <tr>\n      <th>2392</th>\n      <td>Bacteria \"Thermotogae\" Thermotogae Thermotogal...</td>\n      <td>16</td>\n      <td>MID9</td>\n      <td>Control 2</td>\n      <td>stool</td>\n    </tr>\n    <tr>\n      <th>2393</th>\n      <td>Bacteria \"Verrucomicrobia\" Opitutae Opitutales...</td>\n      <td>1</td>\n      <td>MID9</td>\n      <td>Control 2</td>\n      <td>stool</td>\n    </tr>\n    <tr>\n      <th>2394</th>\n      <td>Bacteria Cyanobacteria Cyanobacteria  Chloropl...</td>\n      <td>1</td>\n      <td>MID9</td>\n      <td>Control 2</td>\n      <td>stool</td>\n    </tr>\n    <tr>\n      <th>2395</th>\n      <td>Bacteria Cyanobacteria Cyanobacteria  Chloropl...</td>\n      <td>10</td>\n      <td>MID9</td>\n      <td>Control 2</td>\n      <td>stool</td>\n    </tr>\n  </tbody>\n</table>\n<p>2396 rows × 5 columns</p>\n</div>"
     },
     "execution_count": 20,
     "metadata": {},
     "output_type": "execute_result"
    }
   ],
   "source": [
    "merged_df = pd.merge(new_dataframe, df_metadata) # Merging the metadata with the main dataframe\n",
    "merged_df # Checking the dataframe"
   ],
   "metadata": {
    "collapsed": false,
    "ExecuteTime": {
     "end_time": "2023-10-20T02:06:42.554236Z",
     "start_time": "2023-10-20T02:06:42.443216Z"
    }
   }
  },
  {
   "attachments": {},
   "cell_type": "markdown",
   "metadata": {},
   "source": [
    "### Question 2- Feature Engineering - Attribute Correlation (15)\n",
    "- Load the file income_data.csv, inspect the columns.\n",
    "- Determine if race and education features have a statistical relationship. \n",
    "- Explain and conclude your findings (7 till here)\n",
    "- Inspect the dataset carefully and create an Indicator Feature (0/1) --(3 marks here)\n",
    "- Inspect the dataset carefully and create an Interaction Feature (Additional feature engineered from your dataset)-- (3 marks here)<br>\n",
    "__The features you create must be resonable, please add an explanation to explain why did you chose this indicator variable__ "
   ]
  },
  {
   "cell_type": "code",
   "execution_count": 21,
   "outputs": [
    {
     "data": {
      "text/plain": "       age     workclass  fnlwgt     education  educational-num  \\\n0       25       Private  226802          11th                7   \n1       38       Private   89814       HS-grad                9   \n2       28     Local-gov  336951    Assoc-acdm               12   \n3       44       Private  160323  Some-college               10   \n4       18             ?  103497  Some-college               10   \n...    ...           ...     ...           ...              ...   \n48837   27       Private  257302    Assoc-acdm               12   \n48838   40       Private  154374       HS-grad                9   \n48839   58       Private  151910       HS-grad                9   \n48840   22       Private  201490       HS-grad                9   \n48841   52  Self-emp-inc  287927       HS-grad                9   \n\n           marital-status         occupation relationship   race  gender  \\\n0           Never-married  Machine-op-inspct    Own-child  Black    Male   \n1      Married-civ-spouse    Farming-fishing      Husband  White    Male   \n2      Married-civ-spouse    Protective-serv      Husband  White    Male   \n3      Married-civ-spouse  Machine-op-inspct      Husband  Black    Male   \n4           Never-married                  ?    Own-child  White  Female   \n...                   ...                ...          ...    ...     ...   \n48837  Married-civ-spouse       Tech-support         Wife  White  Female   \n48838  Married-civ-spouse  Machine-op-inspct      Husband  White    Male   \n48839             Widowed       Adm-clerical    Unmarried  White  Female   \n48840       Never-married       Adm-clerical    Own-child  White    Male   \n48841  Married-civ-spouse    Exec-managerial         Wife  White  Female   \n\n       capital-gain  capital-loss  hours-per-week native-country income  \n0                 0             0              40  United-States  <=50K  \n1                 0             0              50  United-States  <=50K  \n2                 0             0              40  United-States   >50K  \n3              7688             0              40  United-States   >50K  \n4                 0             0              30  United-States  <=50K  \n...             ...           ...             ...            ...    ...  \n48837             0             0              38  United-States  <=50K  \n48838             0             0              40  United-States   >50K  \n48839             0             0              40  United-States  <=50K  \n48840             0             0              20  United-States  <=50K  \n48841         15024             0              40  United-States   >50K  \n\n[48842 rows x 15 columns]",
      "text/html": "<div>\n<style scoped>\n    .dataframe tbody tr th:only-of-type {\n        vertical-align: middle;\n    }\n\n    .dataframe tbody tr th {\n        vertical-align: top;\n    }\n\n    .dataframe thead th {\n        text-align: right;\n    }\n</style>\n<table border=\"1\" class=\"dataframe\">\n  <thead>\n    <tr style=\"text-align: right;\">\n      <th></th>\n      <th>age</th>\n      <th>workclass</th>\n      <th>fnlwgt</th>\n      <th>education</th>\n      <th>educational-num</th>\n      <th>marital-status</th>\n      <th>occupation</th>\n      <th>relationship</th>\n      <th>race</th>\n      <th>gender</th>\n      <th>capital-gain</th>\n      <th>capital-loss</th>\n      <th>hours-per-week</th>\n      <th>native-country</th>\n      <th>income</th>\n    </tr>\n  </thead>\n  <tbody>\n    <tr>\n      <th>0</th>\n      <td>25</td>\n      <td>Private</td>\n      <td>226802</td>\n      <td>11th</td>\n      <td>7</td>\n      <td>Never-married</td>\n      <td>Machine-op-inspct</td>\n      <td>Own-child</td>\n      <td>Black</td>\n      <td>Male</td>\n      <td>0</td>\n      <td>0</td>\n      <td>40</td>\n      <td>United-States</td>\n      <td>&lt;=50K</td>\n    </tr>\n    <tr>\n      <th>1</th>\n      <td>38</td>\n      <td>Private</td>\n      <td>89814</td>\n      <td>HS-grad</td>\n      <td>9</td>\n      <td>Married-civ-spouse</td>\n      <td>Farming-fishing</td>\n      <td>Husband</td>\n      <td>White</td>\n      <td>Male</td>\n      <td>0</td>\n      <td>0</td>\n      <td>50</td>\n      <td>United-States</td>\n      <td>&lt;=50K</td>\n    </tr>\n    <tr>\n      <th>2</th>\n      <td>28</td>\n      <td>Local-gov</td>\n      <td>336951</td>\n      <td>Assoc-acdm</td>\n      <td>12</td>\n      <td>Married-civ-spouse</td>\n      <td>Protective-serv</td>\n      <td>Husband</td>\n      <td>White</td>\n      <td>Male</td>\n      <td>0</td>\n      <td>0</td>\n      <td>40</td>\n      <td>United-States</td>\n      <td>&gt;50K</td>\n    </tr>\n    <tr>\n      <th>3</th>\n      <td>44</td>\n      <td>Private</td>\n      <td>160323</td>\n      <td>Some-college</td>\n      <td>10</td>\n      <td>Married-civ-spouse</td>\n      <td>Machine-op-inspct</td>\n      <td>Husband</td>\n      <td>Black</td>\n      <td>Male</td>\n      <td>7688</td>\n      <td>0</td>\n      <td>40</td>\n      <td>United-States</td>\n      <td>&gt;50K</td>\n    </tr>\n    <tr>\n      <th>4</th>\n      <td>18</td>\n      <td>?</td>\n      <td>103497</td>\n      <td>Some-college</td>\n      <td>10</td>\n      <td>Never-married</td>\n      <td>?</td>\n      <td>Own-child</td>\n      <td>White</td>\n      <td>Female</td>\n      <td>0</td>\n      <td>0</td>\n      <td>30</td>\n      <td>United-States</td>\n      <td>&lt;=50K</td>\n    </tr>\n    <tr>\n      <th>...</th>\n      <td>...</td>\n      <td>...</td>\n      <td>...</td>\n      <td>...</td>\n      <td>...</td>\n      <td>...</td>\n      <td>...</td>\n      <td>...</td>\n      <td>...</td>\n      <td>...</td>\n      <td>...</td>\n      <td>...</td>\n      <td>...</td>\n      <td>...</td>\n      <td>...</td>\n    </tr>\n    <tr>\n      <th>48837</th>\n      <td>27</td>\n      <td>Private</td>\n      <td>257302</td>\n      <td>Assoc-acdm</td>\n      <td>12</td>\n      <td>Married-civ-spouse</td>\n      <td>Tech-support</td>\n      <td>Wife</td>\n      <td>White</td>\n      <td>Female</td>\n      <td>0</td>\n      <td>0</td>\n      <td>38</td>\n      <td>United-States</td>\n      <td>&lt;=50K</td>\n    </tr>\n    <tr>\n      <th>48838</th>\n      <td>40</td>\n      <td>Private</td>\n      <td>154374</td>\n      <td>HS-grad</td>\n      <td>9</td>\n      <td>Married-civ-spouse</td>\n      <td>Machine-op-inspct</td>\n      <td>Husband</td>\n      <td>White</td>\n      <td>Male</td>\n      <td>0</td>\n      <td>0</td>\n      <td>40</td>\n      <td>United-States</td>\n      <td>&gt;50K</td>\n    </tr>\n    <tr>\n      <th>48839</th>\n      <td>58</td>\n      <td>Private</td>\n      <td>151910</td>\n      <td>HS-grad</td>\n      <td>9</td>\n      <td>Widowed</td>\n      <td>Adm-clerical</td>\n      <td>Unmarried</td>\n      <td>White</td>\n      <td>Female</td>\n      <td>0</td>\n      <td>0</td>\n      <td>40</td>\n      <td>United-States</td>\n      <td>&lt;=50K</td>\n    </tr>\n    <tr>\n      <th>48840</th>\n      <td>22</td>\n      <td>Private</td>\n      <td>201490</td>\n      <td>HS-grad</td>\n      <td>9</td>\n      <td>Never-married</td>\n      <td>Adm-clerical</td>\n      <td>Own-child</td>\n      <td>White</td>\n      <td>Male</td>\n      <td>0</td>\n      <td>0</td>\n      <td>20</td>\n      <td>United-States</td>\n      <td>&lt;=50K</td>\n    </tr>\n    <tr>\n      <th>48841</th>\n      <td>52</td>\n      <td>Self-emp-inc</td>\n      <td>287927</td>\n      <td>HS-grad</td>\n      <td>9</td>\n      <td>Married-civ-spouse</td>\n      <td>Exec-managerial</td>\n      <td>Wife</td>\n      <td>White</td>\n      <td>Female</td>\n      <td>15024</td>\n      <td>0</td>\n      <td>40</td>\n      <td>United-States</td>\n      <td>&gt;50K</td>\n    </tr>\n  </tbody>\n</table>\n<p>48842 rows × 15 columns</p>\n</div>"
     },
     "execution_count": 21,
     "metadata": {},
     "output_type": "execute_result"
    }
   ],
   "source": [
    "df_id = pd.read_csv('income_data.csv') # Loading the data into a dataframe\n",
    "df_id # Checking the dataframe"
   ],
   "metadata": {
    "collapsed": false,
    "ExecuteTime": {
     "end_time": "2023-10-20T02:06:42.568307Z",
     "start_time": "2023-10-20T02:06:42.449986Z"
    }
   }
  },
  {
   "cell_type": "code",
   "execution_count": 22,
   "outputs": [
    {
     "name": "stdout",
     "output_type": "stream",
     "text": [
      "1040.6622432490267 7.472985630264854e-179\n",
      "Null hypothesis rejected, attributes do have a statistical relationship\n"
     ]
    }
   ],
   "source": [
    "# We are checking for a statistically significant relationship between race and education using the Chi-Square test\n",
    "from scipy.stats import chi2_contingency # Importing the dependency\n",
    "df_contingency = pd.crosstab(df_id['race'], df_id['education']) # Performing a cross-tabulation\n",
    "chi2, p, dof, expected = chi2_contingency(df_contingency) # Performing a chi2 contingency to get the Chi-2 test statistic, p-value of the test, degrees of freedom and the expected frequencies\n",
    "print(chi2, p) # From printing the p-value we could see that the value is extremely close to 0\n",
    "# In this case we could conclude that the attributes do have a statistical relationship and the null-hypothesis has been rejected\n",
    "# But we can proceed and calculate by using a threshold of 0.05 since it's common practice.\n",
    "threshold = 0.05\n",
    "if p<0.05:\n",
    "    print(\"Null hypothesis rejected, attributes do have a statistical relationship\")\n",
    "else:\n",
    "    print(\"Null hypothesis accepted, attributes do not have any statistical relationship\")"
   ],
   "metadata": {
    "collapsed": false,
    "ExecuteTime": {
     "end_time": "2023-10-20T02:06:42.568775Z",
     "start_time": "2023-10-20T02:06:42.520608Z"
    }
   }
  },
  {
   "cell_type": "code",
   "execution_count": 23,
   "outputs": [
    {
     "name": "stdout",
     "output_type": "stream",
     "text": [
      "['<=50K' '>50K']\n"
     ]
    },
    {
     "data": {
      "text/plain": "       age     workclass  fnlwgt     education  educational-num  \\\n0       25       Private  226802          11th                7   \n1       38       Private   89814       HS-grad                9   \n2       28     Local-gov  336951    Assoc-acdm               12   \n3       44       Private  160323  Some-college               10   \n4       18             ?  103497  Some-college               10   \n...    ...           ...     ...           ...              ...   \n48837   27       Private  257302    Assoc-acdm               12   \n48838   40       Private  154374       HS-grad                9   \n48839   58       Private  151910       HS-grad                9   \n48840   22       Private  201490       HS-grad                9   \n48841   52  Self-emp-inc  287927       HS-grad                9   \n\n           marital-status         occupation relationship   race  gender  \\\n0           Never-married  Machine-op-inspct    Own-child  Black    Male   \n1      Married-civ-spouse    Farming-fishing      Husband  White    Male   \n2      Married-civ-spouse    Protective-serv      Husband  White    Male   \n3      Married-civ-spouse  Machine-op-inspct      Husband  Black    Male   \n4           Never-married                  ?    Own-child  White  Female   \n...                   ...                ...          ...    ...     ...   \n48837  Married-civ-spouse       Tech-support         Wife  White  Female   \n48838  Married-civ-spouse  Machine-op-inspct      Husband  White    Male   \n48839             Widowed       Adm-clerical    Unmarried  White  Female   \n48840       Never-married       Adm-clerical    Own-child  White    Male   \n48841  Married-civ-spouse    Exec-managerial         Wife  White  Female   \n\n       capital-gain  capital-loss  hours-per-week native-country  income  \n0                 0             0              40  United-States       0  \n1                 0             0              50  United-States       0  \n2                 0             0              40  United-States       1  \n3              7688             0              40  United-States       1  \n4                 0             0              30  United-States       0  \n...             ...           ...             ...            ...     ...  \n48837             0             0              38  United-States       0  \n48838             0             0              40  United-States       1  \n48839             0             0              40  United-States       0  \n48840             0             0              20  United-States       0  \n48841         15024             0              40  United-States       1  \n\n[48842 rows x 15 columns]",
      "text/html": "<div>\n<style scoped>\n    .dataframe tbody tr th:only-of-type {\n        vertical-align: middle;\n    }\n\n    .dataframe tbody tr th {\n        vertical-align: top;\n    }\n\n    .dataframe thead th {\n        text-align: right;\n    }\n</style>\n<table border=\"1\" class=\"dataframe\">\n  <thead>\n    <tr style=\"text-align: right;\">\n      <th></th>\n      <th>age</th>\n      <th>workclass</th>\n      <th>fnlwgt</th>\n      <th>education</th>\n      <th>educational-num</th>\n      <th>marital-status</th>\n      <th>occupation</th>\n      <th>relationship</th>\n      <th>race</th>\n      <th>gender</th>\n      <th>capital-gain</th>\n      <th>capital-loss</th>\n      <th>hours-per-week</th>\n      <th>native-country</th>\n      <th>income</th>\n    </tr>\n  </thead>\n  <tbody>\n    <tr>\n      <th>0</th>\n      <td>25</td>\n      <td>Private</td>\n      <td>226802</td>\n      <td>11th</td>\n      <td>7</td>\n      <td>Never-married</td>\n      <td>Machine-op-inspct</td>\n      <td>Own-child</td>\n      <td>Black</td>\n      <td>Male</td>\n      <td>0</td>\n      <td>0</td>\n      <td>40</td>\n      <td>United-States</td>\n      <td>0</td>\n    </tr>\n    <tr>\n      <th>1</th>\n      <td>38</td>\n      <td>Private</td>\n      <td>89814</td>\n      <td>HS-grad</td>\n      <td>9</td>\n      <td>Married-civ-spouse</td>\n      <td>Farming-fishing</td>\n      <td>Husband</td>\n      <td>White</td>\n      <td>Male</td>\n      <td>0</td>\n      <td>0</td>\n      <td>50</td>\n      <td>United-States</td>\n      <td>0</td>\n    </tr>\n    <tr>\n      <th>2</th>\n      <td>28</td>\n      <td>Local-gov</td>\n      <td>336951</td>\n      <td>Assoc-acdm</td>\n      <td>12</td>\n      <td>Married-civ-spouse</td>\n      <td>Protective-serv</td>\n      <td>Husband</td>\n      <td>White</td>\n      <td>Male</td>\n      <td>0</td>\n      <td>0</td>\n      <td>40</td>\n      <td>United-States</td>\n      <td>1</td>\n    </tr>\n    <tr>\n      <th>3</th>\n      <td>44</td>\n      <td>Private</td>\n      <td>160323</td>\n      <td>Some-college</td>\n      <td>10</td>\n      <td>Married-civ-spouse</td>\n      <td>Machine-op-inspct</td>\n      <td>Husband</td>\n      <td>Black</td>\n      <td>Male</td>\n      <td>7688</td>\n      <td>0</td>\n      <td>40</td>\n      <td>United-States</td>\n      <td>1</td>\n    </tr>\n    <tr>\n      <th>4</th>\n      <td>18</td>\n      <td>?</td>\n      <td>103497</td>\n      <td>Some-college</td>\n      <td>10</td>\n      <td>Never-married</td>\n      <td>?</td>\n      <td>Own-child</td>\n      <td>White</td>\n      <td>Female</td>\n      <td>0</td>\n      <td>0</td>\n      <td>30</td>\n      <td>United-States</td>\n      <td>0</td>\n    </tr>\n    <tr>\n      <th>...</th>\n      <td>...</td>\n      <td>...</td>\n      <td>...</td>\n      <td>...</td>\n      <td>...</td>\n      <td>...</td>\n      <td>...</td>\n      <td>...</td>\n      <td>...</td>\n      <td>...</td>\n      <td>...</td>\n      <td>...</td>\n      <td>...</td>\n      <td>...</td>\n      <td>...</td>\n    </tr>\n    <tr>\n      <th>48837</th>\n      <td>27</td>\n      <td>Private</td>\n      <td>257302</td>\n      <td>Assoc-acdm</td>\n      <td>12</td>\n      <td>Married-civ-spouse</td>\n      <td>Tech-support</td>\n      <td>Wife</td>\n      <td>White</td>\n      <td>Female</td>\n      <td>0</td>\n      <td>0</td>\n      <td>38</td>\n      <td>United-States</td>\n      <td>0</td>\n    </tr>\n    <tr>\n      <th>48838</th>\n      <td>40</td>\n      <td>Private</td>\n      <td>154374</td>\n      <td>HS-grad</td>\n      <td>9</td>\n      <td>Married-civ-spouse</td>\n      <td>Machine-op-inspct</td>\n      <td>Husband</td>\n      <td>White</td>\n      <td>Male</td>\n      <td>0</td>\n      <td>0</td>\n      <td>40</td>\n      <td>United-States</td>\n      <td>1</td>\n    </tr>\n    <tr>\n      <th>48839</th>\n      <td>58</td>\n      <td>Private</td>\n      <td>151910</td>\n      <td>HS-grad</td>\n      <td>9</td>\n      <td>Widowed</td>\n      <td>Adm-clerical</td>\n      <td>Unmarried</td>\n      <td>White</td>\n      <td>Female</td>\n      <td>0</td>\n      <td>0</td>\n      <td>40</td>\n      <td>United-States</td>\n      <td>0</td>\n    </tr>\n    <tr>\n      <th>48840</th>\n      <td>22</td>\n      <td>Private</td>\n      <td>201490</td>\n      <td>HS-grad</td>\n      <td>9</td>\n      <td>Never-married</td>\n      <td>Adm-clerical</td>\n      <td>Own-child</td>\n      <td>White</td>\n      <td>Male</td>\n      <td>0</td>\n      <td>0</td>\n      <td>20</td>\n      <td>United-States</td>\n      <td>0</td>\n    </tr>\n    <tr>\n      <th>48841</th>\n      <td>52</td>\n      <td>Self-emp-inc</td>\n      <td>287927</td>\n      <td>HS-grad</td>\n      <td>9</td>\n      <td>Married-civ-spouse</td>\n      <td>Exec-managerial</td>\n      <td>Wife</td>\n      <td>White</td>\n      <td>Female</td>\n      <td>15024</td>\n      <td>0</td>\n      <td>40</td>\n      <td>United-States</td>\n      <td>1</td>\n    </tr>\n  </tbody>\n</table>\n<p>48842 rows × 15 columns</p>\n</div>"
     },
     "execution_count": 23,
     "metadata": {},
     "output_type": "execute_result"
    }
   ],
   "source": [
    "print(df_id['income'].unique()) # printing out the unique values in column 'income'\n",
    "# Since there are only two values in the column 'income', we can replace them with binary values\n",
    "df_id['income'] = df_id['income'].replace({'<=50K':0,'>50K':1}) # Replacing values\n",
    "df_id # Checking the dataset"
   ],
   "metadata": {
    "collapsed": false,
    "ExecuteTime": {
     "end_time": "2023-10-20T02:06:42.591117Z",
     "start_time": "2023-10-20T02:06:42.544315Z"
    }
   }
  },
  {
   "cell_type": "code",
   "execution_count": 24,
   "outputs": [
    {
     "data": {
      "text/plain": "       age     workclass  fnlwgt     education  educational-num  \\\n0       25       Private  226802          11th                7   \n1       38       Private   89814       HS-grad                9   \n2       28     Local-gov  336951    Assoc-acdm               12   \n3       44       Private  160323  Some-college               10   \n4       18             ?  103497  Some-college               10   \n...    ...           ...     ...           ...              ...   \n48837   27       Private  257302    Assoc-acdm               12   \n48838   40       Private  154374       HS-grad                9   \n48839   58       Private  151910       HS-grad                9   \n48840   22       Private  201490       HS-grad                9   \n48841   52  Self-emp-inc  287927       HS-grad                9   \n\n           marital-status         occupation relationship   race  gender  \\\n0           Never-married  Machine-op-inspct    Own-child  Black    Male   \n1      Married-civ-spouse    Farming-fishing      Husband  White    Male   \n2      Married-civ-spouse    Protective-serv      Husband  White    Male   \n3      Married-civ-spouse  Machine-op-inspct      Husband  Black    Male   \n4           Never-married                  ?    Own-child  White  Female   \n...                   ...                ...          ...    ...     ...   \n48837  Married-civ-spouse       Tech-support         Wife  White  Female   \n48838  Married-civ-spouse  Machine-op-inspct      Husband  White    Male   \n48839             Widowed       Adm-clerical    Unmarried  White  Female   \n48840       Never-married       Adm-clerical    Own-child  White    Male   \n48841  Married-civ-spouse    Exec-managerial         Wife  White  Female   \n\n       capital-gain  capital-loss  hours-per-week native-country  income  \\\n0                 0             0              40  United-States       0   \n1                 0             0              50  United-States       0   \n2                 0             0              40  United-States       1   \n3              7688             0              40  United-States       1   \n4                 0             0              30  United-States       0   \n...             ...           ...             ...            ...     ...   \n48837             0             0              38  United-States       0   \n48838             0             0              40  United-States       1   \n48839             0             0              40  United-States       0   \n48840             0             0              20  United-States       0   \n48841         15024             0              40  United-States       1   \n\n       net_profit_or_loss  \n0                       0  \n1                       0  \n2                       0  \n3                    7688  \n4                       0  \n...                   ...  \n48837                   0  \n48838                   0  \n48839                   0  \n48840                   0  \n48841               15024  \n\n[48842 rows x 16 columns]",
      "text/html": "<div>\n<style scoped>\n    .dataframe tbody tr th:only-of-type {\n        vertical-align: middle;\n    }\n\n    .dataframe tbody tr th {\n        vertical-align: top;\n    }\n\n    .dataframe thead th {\n        text-align: right;\n    }\n</style>\n<table border=\"1\" class=\"dataframe\">\n  <thead>\n    <tr style=\"text-align: right;\">\n      <th></th>\n      <th>age</th>\n      <th>workclass</th>\n      <th>fnlwgt</th>\n      <th>education</th>\n      <th>educational-num</th>\n      <th>marital-status</th>\n      <th>occupation</th>\n      <th>relationship</th>\n      <th>race</th>\n      <th>gender</th>\n      <th>capital-gain</th>\n      <th>capital-loss</th>\n      <th>hours-per-week</th>\n      <th>native-country</th>\n      <th>income</th>\n      <th>net_profit_or_loss</th>\n    </tr>\n  </thead>\n  <tbody>\n    <tr>\n      <th>0</th>\n      <td>25</td>\n      <td>Private</td>\n      <td>226802</td>\n      <td>11th</td>\n      <td>7</td>\n      <td>Never-married</td>\n      <td>Machine-op-inspct</td>\n      <td>Own-child</td>\n      <td>Black</td>\n      <td>Male</td>\n      <td>0</td>\n      <td>0</td>\n      <td>40</td>\n      <td>United-States</td>\n      <td>0</td>\n      <td>0</td>\n    </tr>\n    <tr>\n      <th>1</th>\n      <td>38</td>\n      <td>Private</td>\n      <td>89814</td>\n      <td>HS-grad</td>\n      <td>9</td>\n      <td>Married-civ-spouse</td>\n      <td>Farming-fishing</td>\n      <td>Husband</td>\n      <td>White</td>\n      <td>Male</td>\n      <td>0</td>\n      <td>0</td>\n      <td>50</td>\n      <td>United-States</td>\n      <td>0</td>\n      <td>0</td>\n    </tr>\n    <tr>\n      <th>2</th>\n      <td>28</td>\n      <td>Local-gov</td>\n      <td>336951</td>\n      <td>Assoc-acdm</td>\n      <td>12</td>\n      <td>Married-civ-spouse</td>\n      <td>Protective-serv</td>\n      <td>Husband</td>\n      <td>White</td>\n      <td>Male</td>\n      <td>0</td>\n      <td>0</td>\n      <td>40</td>\n      <td>United-States</td>\n      <td>1</td>\n      <td>0</td>\n    </tr>\n    <tr>\n      <th>3</th>\n      <td>44</td>\n      <td>Private</td>\n      <td>160323</td>\n      <td>Some-college</td>\n      <td>10</td>\n      <td>Married-civ-spouse</td>\n      <td>Machine-op-inspct</td>\n      <td>Husband</td>\n      <td>Black</td>\n      <td>Male</td>\n      <td>7688</td>\n      <td>0</td>\n      <td>40</td>\n      <td>United-States</td>\n      <td>1</td>\n      <td>7688</td>\n    </tr>\n    <tr>\n      <th>4</th>\n      <td>18</td>\n      <td>?</td>\n      <td>103497</td>\n      <td>Some-college</td>\n      <td>10</td>\n      <td>Never-married</td>\n      <td>?</td>\n      <td>Own-child</td>\n      <td>White</td>\n      <td>Female</td>\n      <td>0</td>\n      <td>0</td>\n      <td>30</td>\n      <td>United-States</td>\n      <td>0</td>\n      <td>0</td>\n    </tr>\n    <tr>\n      <th>...</th>\n      <td>...</td>\n      <td>...</td>\n      <td>...</td>\n      <td>...</td>\n      <td>...</td>\n      <td>...</td>\n      <td>...</td>\n      <td>...</td>\n      <td>...</td>\n      <td>...</td>\n      <td>...</td>\n      <td>...</td>\n      <td>...</td>\n      <td>...</td>\n      <td>...</td>\n      <td>...</td>\n    </tr>\n    <tr>\n      <th>48837</th>\n      <td>27</td>\n      <td>Private</td>\n      <td>257302</td>\n      <td>Assoc-acdm</td>\n      <td>12</td>\n      <td>Married-civ-spouse</td>\n      <td>Tech-support</td>\n      <td>Wife</td>\n      <td>White</td>\n      <td>Female</td>\n      <td>0</td>\n      <td>0</td>\n      <td>38</td>\n      <td>United-States</td>\n      <td>0</td>\n      <td>0</td>\n    </tr>\n    <tr>\n      <th>48838</th>\n      <td>40</td>\n      <td>Private</td>\n      <td>154374</td>\n      <td>HS-grad</td>\n      <td>9</td>\n      <td>Married-civ-spouse</td>\n      <td>Machine-op-inspct</td>\n      <td>Husband</td>\n      <td>White</td>\n      <td>Male</td>\n      <td>0</td>\n      <td>0</td>\n      <td>40</td>\n      <td>United-States</td>\n      <td>1</td>\n      <td>0</td>\n    </tr>\n    <tr>\n      <th>48839</th>\n      <td>58</td>\n      <td>Private</td>\n      <td>151910</td>\n      <td>HS-grad</td>\n      <td>9</td>\n      <td>Widowed</td>\n      <td>Adm-clerical</td>\n      <td>Unmarried</td>\n      <td>White</td>\n      <td>Female</td>\n      <td>0</td>\n      <td>0</td>\n      <td>40</td>\n      <td>United-States</td>\n      <td>0</td>\n      <td>0</td>\n    </tr>\n    <tr>\n      <th>48840</th>\n      <td>22</td>\n      <td>Private</td>\n      <td>201490</td>\n      <td>HS-grad</td>\n      <td>9</td>\n      <td>Never-married</td>\n      <td>Adm-clerical</td>\n      <td>Own-child</td>\n      <td>White</td>\n      <td>Male</td>\n      <td>0</td>\n      <td>0</td>\n      <td>20</td>\n      <td>United-States</td>\n      <td>0</td>\n      <td>0</td>\n    </tr>\n    <tr>\n      <th>48841</th>\n      <td>52</td>\n      <td>Self-emp-inc</td>\n      <td>287927</td>\n      <td>HS-grad</td>\n      <td>9</td>\n      <td>Married-civ-spouse</td>\n      <td>Exec-managerial</td>\n      <td>Wife</td>\n      <td>White</td>\n      <td>Female</td>\n      <td>15024</td>\n      <td>0</td>\n      <td>40</td>\n      <td>United-States</td>\n      <td>1</td>\n      <td>15024</td>\n    </tr>\n  </tbody>\n</table>\n<p>48842 rows × 16 columns</p>\n</div>"
     },
     "execution_count": 24,
     "metadata": {},
     "output_type": "execute_result"
    }
   ],
   "source": [
    "# Creating a new feature to ge the net profit or loss based on capital gain and capital loss\n",
    "df_id['net_profit_or_loss'] = df_id['capital-gain'] - df_id['capital-loss']\n",
    "df_id # Checking the dataset"
   ],
   "metadata": {
    "collapsed": false,
    "ExecuteTime": {
     "end_time": "2023-10-20T02:06:42.629278Z",
     "start_time": "2023-10-20T02:06:42.561713Z"
    }
   }
  },
  {
   "cell_type": "code",
   "execution_count": 24,
   "outputs": [],
   "source": [],
   "metadata": {
    "collapsed": false,
    "ExecuteTime": {
     "end_time": "2023-10-20T02:06:42.650076Z",
     "start_time": "2023-10-20T02:06:42.568436Z"
    }
   }
  }
 ],
 "metadata": {
  "language_info": {
   "name": "python"
  },
  "orig_nbformat": 4,
  "kernelspec": {
   "name": "python3",
   "language": "python",
   "display_name": "Python 3 (ipykernel)"
  }
 },
 "nbformat": 4,
 "nbformat_minor": 2
}
